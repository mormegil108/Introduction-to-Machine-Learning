{
 "cells": [
  {
   "cell_type": "markdown",
   "id": "9a197a37",
   "metadata": {},
   "source": [
    "# Introduction to Machine Learning\n",
    "## Lecture 3 - Classification\n",
    "### Notebook 1: Simple Bayes' Classifier\n",
    "Prapared by: Said Bolluk"
   ]
  },
  {
   "cell_type": "code",
   "execution_count": 1,
   "id": "cf7d1f13",
   "metadata": {},
   "outputs": [],
   "source": [
    "# Import the necessary libraries\n",
    "import pandas as pd\n",
    "import numpy as np\n",
    "import matplotlib.pyplot as plt"
   ]
  },
  {
   "cell_type": "code",
   "execution_count": 2,
   "id": "4da6767d",
   "metadata": {},
   "outputs": [
    {
     "data": {
      "image/png": "[encoded data removed]",
      "text/plain": [
       "<Figure size 720x360 with 2 Axes>"
      ]
     },
     "metadata": {
      "needs_background": "light"
     },
     "output_type": "display_data"
    }
   ],
   "source": [
    "# Set the random seed to generate reproducible results\n",
    "np.random.seed(0)\n",
    "\n",
    "# Determine the parameters of the distribution for each classes\n",
    "mu1, sigma1 = 4, 1.2\n",
    "mu2, sigma2 = 8, 0.6\n",
    "\n",
    "# The dataset consists of 2000 instances.\n",
    "# 1200 of them belong to class one (1) while 800 of them class two (2).\n",
    "\n",
    "\n",
    "# Create the input sets\n",
    "X1 = np.random.normal(mu1, sigma1, (1200,))\n",
    "X2 = np.random.normal(mu2, sigma2, (800,))\n",
    "\n",
    "# Create the target (labels) sets\n",
    "y1 = np.ones((1200,))\n",
    "y2 = np.full((800, ), 2)\n",
    "\n",
    "# Join arrays and create the whole sets\n",
    "X = np.concatenate((X1, X2))\n",
    "y = np.concatenate((y1, y2))\n",
    "\n",
    "# Plot the histograms\n",
    "fig, (ax1, ax2) = plt.subplots(1, 2, figsize=(10, 5))\n",
    "ax1.hist(X1, bins=10)\n",
    "ax1.set_title(\"C=1\")\n",
    "ax2.hist(X2, bins=10)\n",
    "ax2.set_title(\"C=2\")\n",
    "plt.show()"
   ]
  },
  {
   "cell_type": "code",
   "execution_count": 3,
   "id": "70280caf",
   "metadata": {
    "scrolled": false
   },
   "outputs": [
    {
     "data": {
      "image/png": "[encoded data removed]",
      "text/plain": [
       "<Figure size 432x288 with 1 Axes>"
      ]
     },
     "metadata": {
      "needs_background": "light"
     },
     "output_type": "display_data"
    }
   ],
   "source": [
    "plt.hist(X1, bins=10, alpha=0.8, label=\"C1\")\n",
    "plt.hist(X2, bins=10, alpha=0.4, label=\"C2\")\n",
    "plt.xlabel(\"X\")\n",
    "plt.ylabel(\"Number of occurrences\")\n",
    "plt.legend()\n",
    "plt.show()"
   ]
  },
  {
   "cell_type": "code",
   "execution_count": 4,
   "id": "6ba71721",
   "metadata": {},
   "outputs": [],
   "source": [
    "# Determien the x_t and r_t values for each class\n",
    "X1 = X[y==1]\n",
    "X2 = X[y==2]\n",
    "\n",
    "r1 = y[y==1]\n",
    "r2 = y[y==2]"
   ]
  },
  {
   "cell_type": "code",
   "execution_count": 5,
   "id": "99bfa44e",
   "metadata": {},
   "outputs": [],
   "source": [
    "# Estimate the parameters of the distributions for two classes\n",
    "# X ~ N(mean, std.)\n",
    "# Number of parameters to be estimated: 3\n",
    "# (1) Mean, (2) Std., (3) Prior Probabilities\n",
    "\n",
    "# Class One\n",
    "mean_one = np.sum(X1*r1) / np.sum(r1)\n",
    "var_one = np.sum(np.square(X1-mean_one) * r1) / np.sum(r1)\n",
    "std_one = np.sqrt(var_one)\n",
    "prior_one = r1.shape[0] / y.shape[0]\n",
    "\n",
    "# Class Two\n",
    "mean_two = np.sum(X2*r2) / np.sum(r2)\n",
    "var_two = np.sum(np.square(X2-mean_two) * r2) / np.sum(r2)\n",
    "std_two = np.sqrt(var_two)\n",
    "prior_two = r2.shape[0] / y.shape[0]"
   ]
  },
  {
   "cell_type": "code",
   "execution_count": 6,
   "id": "f7e9b365",
   "metadata": {},
   "outputs": [
    {
     "data": {
      "text/html": [
       "<div>\n",
       "<style scoped>\n",
       "    .dataframe tbody tr th:only-of-type {\n",
       "        vertical-align: middle;\n",
       "    }\n",
       "\n",
       "    .dataframe tbody tr th {\n",
       "        vertical-align: top;\n",
       "    }\n",
       "\n",
       "    .dataframe thead th {\n",
       "        text-align: right;\n",
       "    }\n",
       "</style>\n",
       "<table border=\"1\" class=\"dataframe\">\n",
       "  <thead>\n",
       "    <tr style=\"text-align: right;\">\n",
       "      <th></th>\n",
       "      <th>Class</th>\n",
       "      <th>Estimated Mean</th>\n",
       "      <th>Estimated Std.</th>\n",
       "      <th>Expected Mean</th>\n",
       "      <th>Expected Std.</th>\n",
       "      <th>Prior Probability</th>\n",
       "    </tr>\n",
       "  </thead>\n",
       "  <tbody>\n",
       "    <tr>\n",
       "      <th>0</th>\n",
       "      <td>One</td>\n",
       "      <td>3.974</td>\n",
       "      <td>1.174</td>\n",
       "      <td>4</td>\n",
       "      <td>1.2</td>\n",
       "      <td>0.6</td>\n",
       "    </tr>\n",
       "    <tr>\n",
       "      <th>1</th>\n",
       "      <td>Two</td>\n",
       "      <td>7.996</td>\n",
       "      <td>0.587</td>\n",
       "      <td>8</td>\n",
       "      <td>0.6</td>\n",
       "      <td>0.4</td>\n",
       "    </tr>\n",
       "  </tbody>\n",
       "</table>\n",
       "</div>"
      ],
      "text/plain": [
       "  Class  Estimated Mean  Estimated Std.  Expected Mean  Expected Std.  \\\n",
       "0   One           3.974           1.174              4            1.2   \n",
       "1   Two           7.996           0.587              8            0.6   \n",
       "\n",
       "   Prior Probability  \n",
       "0                0.6  \n",
       "1                0.4  "
      ]
     },
     "execution_count": 6,
     "metadata": {},
     "output_type": "execute_result"
    }
   ],
   "source": [
    "# Create a data frame to compare the parameters of the distributions\n",
    "dictionary = {\n",
    "    \"Class\": [\"One\", \"Two\"],\n",
    "    \"Estimated Mean\": [mean_one, mean_two],\n",
    "    \"Estimated Std.\": [std_one, std_two],\n",
    "    \"Expected Mean\": [mu1, mu2],\n",
    "    \"Expected Std.\": [sigma1, sigma2],\n",
    "    \"Prior Probability\": [prior_one, prior_two],\n",
    "}\n",
    "\n",
    "frame = pd.DataFrame(dictionary).round(3)\n",
    "frame"
   ]
  },
  {
   "cell_type": "markdown",
   "id": "4dc6fdd2",
   "metadata": {},
   "source": [
    "**Note:** We expect the estimated parameters to be similar to the population's, which we derived from the Gaussian Distribution. As you can see from the table above, the difference is minimal. When the number of observations increases in the sample space, the difference gets smaller since the sample space gets closer to the population."
   ]
  },
  {
   "cell_type": "code",
   "execution_count": 7,
   "id": "78b8f3ba",
   "metadata": {},
   "outputs": [],
   "source": [
    "# Re-order the sample space increasingly\n",
    "minimum = np.min(X)\n",
    "maximum = np.max(X)\n",
    "n_observations = X.shape[0]\n",
    "\n",
    "sample_space = np.linspace(minimum, maximum, n_observations)"
   ]
  },
  {
   "cell_type": "code",
   "execution_count": 8,
   "id": "c12d67c7",
   "metadata": {},
   "outputs": [],
   "source": [
    "def posterior(sample):\n",
    "    # Sample should be an array since we will iterate over it\n",
    "    \n",
    "    # Create empty arrays for the likelihoods: p(x|C)\n",
    "    likelihood1 = np.array([])\n",
    "    likelihood2 = np.array([])\n",
    "    \n",
    "    # Create empty arrays for the hypothesis (estimator): h(x) = p(x|C) * P(C)\n",
    "    estimator1 = np.array([])\n",
    "    estimator2 = np.array([])\n",
    "    \n",
    "    # Create an empty array for the evidence: P(x) = sum[ P(x|C_i)*P(C_i)]\n",
    "    evidence_array = np.array([])\n",
    "    \n",
    "    pi = np.pi\n",
    "    \n",
    "    for x_t in sample:\n",
    "        \n",
    "        # Class One (1)\n",
    "        pdf_one = 1/(std_one*np.sqrt(2*pi)) * np.exp( -(x_t-mean_one)**2 / ( 2 * std_one**2) )\n",
    "        likelihood1 = np.append(likelihood1, pdf_one)\n",
    "        log_likelihood_one = -(1/2)*np.log(2*pi) - np.log(std_one) - ( (x_t-mean_one)**2 / (2*std_one**2) )\n",
    "        # log h(x) = log p(x|C) + log P(C)\n",
    "        estimation_one = log_likelihood_one + np.log(prior_one)\n",
    "        estimator1 = np.append(estimator1, estimation_one)        \n",
    "        \n",
    "        # Class Two (2)\n",
    "        pdf_two = 1/(std_two*np.sqrt(2*pi)) * np.exp( -(x_t-mean_two)**2 / ( 2 * std_two**2) )\n",
    "        likelihood2 = np.append(likelihood2, pdf_two)\n",
    "        log_likelihood_two = -(1/2)*np.log(2*pi) - np.log(std_two) - ( (x_t-mean_two)**2 / (2*std_two**2) )\n",
    "        # log h(x) = log p(x|C) + log P(C)\n",
    "        estimation_two = log_likelihood_two + np.log(prior_two)\n",
    "        estimator2 = np.append(estimator2, estimation_two)\n",
    "        \n",
    "        # Evidence: P(x) = sum[P(x|C_i)*P(C_i)]\n",
    "        evidence = (estimation_one + estimation_two)\n",
    "        evidence_array = np.append(evidence_array, evidence)\n",
    "        \n",
    "    #evidence = estimator1 + estimator2\n",
    "    # Calculate the posterior probabilities\n",
    "    posterior1 = estimator1 / evidence_array \n",
    "    posterior2 = estimator2 / evidence_array\n",
    "    \n",
    "    # Return the likelihoods & posteriors\n",
    "    return likelihood1, likelihood2, posterior1, posterior2"
   ]
  },
  {
   "cell_type": "markdown",
   "id": "3b589534",
   "metadata": {},
   "source": [
    "Run the function to obtain results"
   ]
  },
  {
   "cell_type": "code",
   "execution_count": 15,
   "id": "c9730f90",
   "metadata": {},
   "outputs": [],
   "source": [
    "likelihood1, likelihood2, posterior2, posterior1 = posterior(sample=sample_space)"
   ]
  },
  {
   "cell_type": "markdown",
   "id": "e7b1c1c4",
   "metadata": {},
   "source": [
    "Calculate accuracy score of the classification"
   ]
  },
  {
   "cell_type": "code",
   "execution_count": 16,
   "id": "e704c0b6",
   "metadata": {},
   "outputs": [],
   "source": [
    "# Choose the class with the highest posterior probability: C_i = max(P(C_i|x))\n",
    "# In binary case, choose the class with higher than 50% probability: C_i if P(C_i)>0.5\n",
    "predictions = np.array([])\n",
    "\n",
    "for p in posterior1:\n",
    "    if p > 0.5:\n",
    "        pred_label = 1\n",
    "    else:\n",
    "        pred_label = 2\n",
    "        \n",
    "    predictions = np.append(predictions, pred_label)"
   ]
  },
  {
   "cell_type": "code",
   "execution_count": 17,
   "id": "0ca188a0",
   "metadata": {},
   "outputs": [
    {
     "name": "stdout",
     "output_type": "stream",
     "text": [
      "Accuracy Score of the Bayes' Classifier: 0.924\n"
     ]
    }
   ],
   "source": [
    "# Calculate the accuracy score\n",
    "true_predicted = np.sum(predictions==y)\n",
    "accuracy = true_predicted / y.shape[0]\n",
    "print(f\"Accuracy Score of the Bayes' Classifier: {accuracy:.3f}\")"
   ]
  },
  {
   "cell_type": "markdown",
   "id": "c7290193",
   "metadata": {},
   "source": [
    "Examine the relationship between the likelihoods and posterior probabilitites"
   ]
  },
  {
   "cell_type": "code",
   "execution_count": 18,
   "id": "6f4ad4cf",
   "metadata": {
    "scrolled": false
   },
   "outputs": [
    {
     "data": {
      "image/png": "[encoded data removed]",
      "text/plain": [
       "<Figure size 576x432 with 1 Axes>"
      ]
     },
     "metadata": {
      "needs_background": "light"
     },
     "output_type": "display_data"
    }
   ],
   "source": [
    "# Visualize the results\n",
    "plt.figure(figsize=(8, 6))\n",
    "# Plot Likelihoods: p(x|C)\n",
    "plt.plot(sample_space, likelihood1, linewidth=5, color=\"blue\", label=\"p(x|C=1)\")\n",
    "plt.plot(sample_space, likelihood2, linewidth=5, color=\"orange\", label=\"p(x|C=2)\")\n",
    "# Plot Posteriors: p(C|x)\n",
    "plt.plot(sample_space, posterior1, linewidth=2, linestyle=\"--\", color=\"blue\", label=\"p(C=1|x)\")\n",
    "plt.plot(sample_space, posterior2, linewidth=2, linestyle=\"--\", color=\"orange\", label=\"p(C=2|x)\")\n",
    "plt.title(\"Likelihoods vs. Posteriors\")\n",
    "plt.legend()\n",
    "plt.show()"
   ]
  },
  {
   "cell_type": "markdown",
   "id": "8548ba54",
   "metadata": {},
   "source": [
    "**Discussion**\n",
    "\\\n",
    "The above graph shows that the likelihood densities determined the posterior probabilities. This suggests that the distribution of the class labels helped us make predictions. The estimator is very confident in the zones where the likelihood value is high, and on the contrary, it produces wrong decisions in the zone where two distribution intercepts (between 5-7). This is because, in the sample set, there were instances in that zone for both classes. For such zones, not making any decision might be better than making an unconfident decision considering the scope of the task. This concept is called **cost-sensitivity** in classification and will be discussed in the following sections."
   ]
  },
  {
   "cell_type": "markdown",
   "id": "8429dce9",
   "metadata": {},
   "source": [
    "# END"
   ]
  }
 ],
 "metadata": {
  "kernelspec": {
   "display_name": "Python 3",
   "language": "python",
   "name": "python3"
  },
  "language_info": {
   "codemirror_mode": {
    "name": "ipython",
    "version": 3
   },
   "file_extension": ".py",
   "mimetype": "text/x-python",
   "name": "python",
   "nbconvert_exporter": "python",
   "pygments_lexer": "ipython3",
   "version": "3.8.8"
  }
 },
 "nbformat": 4,
 "nbformat_minor": 5
}
