{
 "cells": [
  {
   "cell_type": "markdown",
   "id": "3b0f4122",
   "metadata": {},
   "source": [
    "# Introduction to Machine Learning\n",
    "## Lecture 3 - Classification\n",
    "### Notebook 2: Parametric Classification with Naive Bayes\n",
    "Prapared by: Said Bolluk"
   ]
  },
  {
   "cell_type": "code",
   "execution_count": 1,
   "id": "c4aa04ed",
   "metadata": {},
   "outputs": [],
   "source": [
    "# Import the necessary libraries\n",
    "import pandas as pd\n",
    "import numpy as np\n",
    "import matplotlib.pyplot as plt"
   ]
  },
  {
   "cell_type": "markdown",
   "id": "8cfe4e76",
   "metadata": {},
   "source": [
    "# Data Preparation"
   ]
  },
  {
   "cell_type": "code",
   "execution_count": 2,
   "id": "8cfc6be5",
   "metadata": {
    "scrolled": true
   },
   "outputs": [
    {
     "data": {
      "text/html": [
       "<div>\n",
       "<style scoped>\n",
       "    .dataframe tbody tr th:only-of-type {\n",
       "        vertical-align: middle;\n",
       "    }\n",
       "\n",
       "    .dataframe tbody tr th {\n",
       "        vertical-align: top;\n",
       "    }\n",
       "\n",
       "    .dataframe thead th {\n",
       "        text-align: right;\n",
       "    }\n",
       "</style>\n",
       "<table border=\"1\" class=\"dataframe\">\n",
       "  <thead>\n",
       "    <tr style=\"text-align: right;\">\n",
       "      <th></th>\n",
       "      <th>age</th>\n",
       "      <th>anaemia</th>\n",
       "      <th>creatinine_phosphokinase</th>\n",
       "      <th>diabetes</th>\n",
       "      <th>ejection_fraction</th>\n",
       "      <th>high_blood_pressure</th>\n",
       "      <th>platelets</th>\n",
       "      <th>serum_creatinine</th>\n",
       "      <th>serum_sodium</th>\n",
       "      <th>sex</th>\n",
       "      <th>smoking</th>\n",
       "      <th>time</th>\n",
       "      <th>DEATH_EVENT</th>\n",
       "    </tr>\n",
       "  </thead>\n",
       "  <tbody>\n",
       "    <tr>\n",
       "      <th>0</th>\n",
       "      <td>75.0</td>\n",
       "      <td>0</td>\n",
       "      <td>582</td>\n",
       "      <td>0</td>\n",
       "      <td>20</td>\n",
       "      <td>1</td>\n",
       "      <td>265000.00</td>\n",
       "      <td>1.9</td>\n",
       "      <td>130</td>\n",
       "      <td>1</td>\n",
       "      <td>0</td>\n",
       "      <td>4</td>\n",
       "      <td>1</td>\n",
       "    </tr>\n",
       "    <tr>\n",
       "      <th>1</th>\n",
       "      <td>55.0</td>\n",
       "      <td>0</td>\n",
       "      <td>7861</td>\n",
       "      <td>0</td>\n",
       "      <td>38</td>\n",
       "      <td>0</td>\n",
       "      <td>263358.03</td>\n",
       "      <td>1.1</td>\n",
       "      <td>136</td>\n",
       "      <td>1</td>\n",
       "      <td>0</td>\n",
       "      <td>6</td>\n",
       "      <td>1</td>\n",
       "    </tr>\n",
       "    <tr>\n",
       "      <th>2</th>\n",
       "      <td>65.0</td>\n",
       "      <td>0</td>\n",
       "      <td>146</td>\n",
       "      <td>0</td>\n",
       "      <td>20</td>\n",
       "      <td>0</td>\n",
       "      <td>162000.00</td>\n",
       "      <td>1.3</td>\n",
       "      <td>129</td>\n",
       "      <td>1</td>\n",
       "      <td>1</td>\n",
       "      <td>7</td>\n",
       "      <td>1</td>\n",
       "    </tr>\n",
       "    <tr>\n",
       "      <th>3</th>\n",
       "      <td>50.0</td>\n",
       "      <td>1</td>\n",
       "      <td>111</td>\n",
       "      <td>0</td>\n",
       "      <td>20</td>\n",
       "      <td>0</td>\n",
       "      <td>210000.00</td>\n",
       "      <td>1.9</td>\n",
       "      <td>137</td>\n",
       "      <td>1</td>\n",
       "      <td>0</td>\n",
       "      <td>7</td>\n",
       "      <td>1</td>\n",
       "    </tr>\n",
       "    <tr>\n",
       "      <th>4</th>\n",
       "      <td>65.0</td>\n",
       "      <td>1</td>\n",
       "      <td>160</td>\n",
       "      <td>1</td>\n",
       "      <td>20</td>\n",
       "      <td>0</td>\n",
       "      <td>327000.00</td>\n",
       "      <td>2.7</td>\n",
       "      <td>116</td>\n",
       "      <td>0</td>\n",
       "      <td>0</td>\n",
       "      <td>8</td>\n",
       "      <td>1</td>\n",
       "    </tr>\n",
       "  </tbody>\n",
       "</table>\n",
       "</div>"
      ],
      "text/plain": [
       "    age  anaemia  creatinine_phosphokinase  diabetes  ejection_fraction  \\\n",
       "0  75.0        0                       582         0                 20   \n",
       "1  55.0        0                      7861         0                 38   \n",
       "2  65.0        0                       146         0                 20   \n",
       "3  50.0        1                       111         0                 20   \n",
       "4  65.0        1                       160         1                 20   \n",
       "\n",
       "   high_blood_pressure  platelets  serum_creatinine  serum_sodium  sex  \\\n",
       "0                    1  265000.00               1.9           130    1   \n",
       "1                    0  263358.03               1.1           136    1   \n",
       "2                    0  162000.00               1.3           129    1   \n",
       "3                    0  210000.00               1.9           137    1   \n",
       "4                    0  327000.00               2.7           116    0   \n",
       "\n",
       "   smoking  time  DEATH_EVENT  \n",
       "0        0     4            1  \n",
       "1        0     6            1  \n",
       "2        1     7            1  \n",
       "3        0     7            1  \n",
       "4        0     8            1  "
      ]
     },
     "execution_count": 2,
     "metadata": {},
     "output_type": "execute_result"
    }
   ],
   "source": [
    "data = pd.read_csv(\"heart_failure_clinical_records_dataset.csv\")\n",
    "data.head()"
   ]
  },
  {
   "cell_type": "code",
   "execution_count": 3,
   "id": "25f40117",
   "metadata": {},
   "outputs": [
    {
     "name": "stdout",
     "output_type": "stream",
     "text": [
      "<class 'pandas.core.frame.DataFrame'>\n",
      "RangeIndex: 299 entries, 0 to 298\n",
      "Data columns (total 13 columns):\n",
      " #   Column                    Non-Null Count  Dtype  \n",
      "---  ------                    --------------  -----  \n",
      " 0   age                       299 non-null    float64\n",
      " 1   anaemia                   299 non-null    int64  \n",
      " 2   creatinine_phosphokinase  299 non-null    int64  \n",
      " 3   diabetes                  299 non-null    int64  \n",
      " 4   ejection_fraction         299 non-null    int64  \n",
      " 5   high_blood_pressure       299 non-null    int64  \n",
      " 6   platelets                 299 non-null    float64\n",
      " 7   serum_creatinine          299 non-null    float64\n",
      " 8   serum_sodium              299 non-null    int64  \n",
      " 9   sex                       299 non-null    int64  \n",
      " 10  smoking                   299 non-null    int64  \n",
      " 11  time                      299 non-null    int64  \n",
      " 12  DEATH_EVENT               299 non-null    int64  \n",
      "dtypes: float64(3), int64(10)\n",
      "memory usage: 30.5 KB\n"
     ]
    }
   ],
   "source": [
    "data.info()"
   ]
  },
  {
   "cell_type": "code",
   "execution_count": 4,
   "id": "0d439147",
   "metadata": {},
   "outputs": [
    {
     "data": {
      "text/plain": [
       "age                         0\n",
       "anaemia                     0\n",
       "creatinine_phosphokinase    0\n",
       "diabetes                    0\n",
       "ejection_fraction           0\n",
       "high_blood_pressure         0\n",
       "platelets                   0\n",
       "serum_creatinine            0\n",
       "serum_sodium                0\n",
       "sex                         0\n",
       "smoking                     0\n",
       "time                        0\n",
       "DEATH_EVENT                 0\n",
       "dtype: int64"
      ]
     },
     "execution_count": 4,
     "metadata": {},
     "output_type": "execute_result"
    }
   ],
   "source": [
    "# Check if there is any missing values\n",
    "data.isnull().sum()"
   ]
  },
  {
   "cell_type": "markdown",
   "id": "38754cfa",
   "metadata": {},
   "source": [
    "There is no missing data. We can continue."
   ]
  },
  {
   "cell_type": "code",
   "execution_count": 5,
   "id": "bb49c304",
   "metadata": {},
   "outputs": [],
   "source": [
    "# Create a copy of the dataset\n",
    "heart_data = data.copy()"
   ]
  },
  {
   "cell_type": "markdown",
   "id": "b2fce03d",
   "metadata": {},
   "source": [
    "## Feature Selection"
   ]
  },
  {
   "cell_type": "code",
   "execution_count": 6,
   "id": "346c6cb3",
   "metadata": {},
   "outputs": [],
   "source": [
    "# Determine the numerical and categorical columns\n",
    "numericals = [\"platelets\", \"ejection_fraction\", \"serum_sodium\", \n",
    "             \"age\", \"serum_creatinine\", \"creatinine_phosphokinase\"]"
   ]
  },
  {
   "cell_type": "code",
   "execution_count": 7,
   "id": "03a06e29",
   "metadata": {},
   "outputs": [
    {
     "data": {
      "image/png": "[encoded data removed]",
      "text/plain": [
       "<Figure size 576x576 with 6 Axes>"
      ]
     },
     "metadata": {
      "needs_background": "light"
     },
     "output_type": "display_data"
    }
   ],
   "source": [
    "# Histogram view for the numerical features\n",
    "data[numericals].hist(bins=10, figsize=(8, 8), xrot=-45)\n",
    "plt.show()"
   ]
  },
  {
   "cell_type": "markdown",
   "id": "14079ccb",
   "metadata": {},
   "source": [
    "We will discard the features with irregular distributions. Remember that the aim is to generalize the real world scenarios in machine learning."
   ]
  },
  {
   "cell_type": "code",
   "execution_count": 8,
   "id": "6a6ef4e5",
   "metadata": {},
   "outputs": [],
   "source": [
    "redundants = [\"serum_creatinine\", \"creatinine_phosphokinase\"]\n",
    "\n",
    "# Remove those columns from numericals \n",
    "numericals.remove(\"serum_creatinine\")\n",
    "numericals.remove(\"creatinine_phosphokinase\")\n",
    "\n",
    "data = data.drop(columns=redundants)"
   ]
  },
  {
   "cell_type": "markdown",
   "id": "0af80634",
   "metadata": {},
   "source": [
    "In classification, merely observing the distribution of the features is not sufficient to understand the dataset's characteristics. Since we will utilize **Naive Bayes Classifier** with an assumed distribution, we need to analyze the feature distributions concerning the classes."
   ]
  },
  {
   "cell_type": "code",
   "execution_count": 9,
   "id": "6911c207",
   "metadata": {},
   "outputs": [
    {
     "data": {
      "image/png": "[encoded data removed]",
      "text/plain": [
       "<Figure size 216x216 with 1 Axes>"
      ]
     },
     "metadata": {
      "needs_background": "light"
     },
     "output_type": "display_data"
    },
    {
     "data": {
      "image/png": "[encoded data removed]",
      "text/plain": [
       "<Figure size 216x216 with 1 Axes>"
      ]
     },
     "metadata": {
      "needs_background": "light"
     },
     "output_type": "display_data"
    },
    {
     "data": {
      "image/png": "[encoded data removed]",
      "text/plain": [
       "<Figure size 216x216 with 1 Axes>"
      ]
     },
     "metadata": {
      "needs_background": "light"
     },
     "output_type": "display_data"
    },
    {
     "data": {
      "image/png": "[encoded data removed]",
      "text/plain": [
       "<Figure size 216x216 with 1 Axes>"
      ]
     },
     "metadata": {
      "needs_background": "light"
     },
     "output_type": "display_data"
    }
   ],
   "source": [
    "# Analyze the class distribution of the features\n",
    "\n",
    "# Separate the dataset wrt. to the classes: C={1, 0}\n",
    "class_zeros = data[data[\"DEATH_EVENT\"]==0]\n",
    "class_ones = data[data[\"DEATH_EVENT\"]==1]\n",
    "\n",
    "for col in numericals:\n",
    "    zero = class_zeros[col]\n",
    "    one = class_ones[col]\n",
    "    plt.figure(figsize=(3, 3))\n",
    "    plt.hist(zero, label=\"C=0\")\n",
    "    plt.hist(one, alpha=0.6, label=\"C=1\")\n",
    "    plt.title(col)\n",
    "    plt.legend()\n",
    "    plt.show()"
   ]
  },
  {
   "cell_type": "markdown",
   "id": "3516c347",
   "metadata": {},
   "source": [
    "All the features have a distribution similar to the **Gaussian Distribution** even though they are not perfectly Gaussian. This part is essential since we will build our model on the parameters of the assumed distribution and make estimations accordingly."
   ]
  },
  {
   "cell_type": "markdown",
   "id": "dcb441fa",
   "metadata": {},
   "source": [
    "## Preprocessing"
   ]
  },
  {
   "cell_type": "code",
   "execution_count": 10,
   "id": "3e878d86",
   "metadata": {},
   "outputs": [],
   "source": [
    "# Assign the feature set and the target variable\n",
    "target_name = \"DEATH_EVENT\"\n",
    "target = data[target_name]\n",
    "\n",
    "data = data.drop(columns=[target_name])"
   ]
  },
  {
   "cell_type": "markdown",
   "id": "3a71816a",
   "metadata": {},
   "source": [
    "### Encoding categorical features using OneHotEncoder"
   ]
  },
  {
   "cell_type": "code",
   "execution_count": 11,
   "id": "bd674379",
   "metadata": {},
   "outputs": [],
   "source": [
    "categoricals = [\"anaemia\", \"diabetes\", \"high_blood_pressure\", \n",
    "                \"sex\", \"smoking\"]\n",
    "\n",
    "data = pd.get_dummies(data, columns=categoricals)"
   ]
  },
  {
   "cell_type": "markdown",
   "id": "dd1b47ba",
   "metadata": {},
   "source": [
    "### Transforming numerical features using StandardScaler"
   ]
  },
  {
   "cell_type": "code",
   "execution_count": 12,
   "id": "cf88b1b4",
   "metadata": {},
   "outputs": [
    {
     "name": "stdout",
     "output_type": "stream",
     "text": [
      "Training size: 224\n",
      "Test size: 75\n"
     ]
    }
   ],
   "source": [
    "# First, split data into training and test sets\n",
    "\n",
    "X = data.values\n",
    "y = target.values\n",
    "\n",
    "# Split the data into training and test sets\n",
    "from sklearn.model_selection import train_test_split\n",
    "\n",
    "X_train, X_test, y_train, y_test = train_test_split(X, y, test_size=0.25, random_state=42)\n",
    "\n",
    "print(\"Training size:\", X_train.shape[0])\n",
    "print(\"Test size:\", X_test.shape[0])"
   ]
  },
  {
   "cell_type": "code",
   "execution_count": 13,
   "id": "bf49df53",
   "metadata": {},
   "outputs": [],
   "source": [
    "# Scale the numerical features\n",
    "from sklearn.preprocessing import StandardScaler\n",
    "scaler = StandardScaler()\n",
    "X_train_scaled = scaler.fit_transform(X_train)\n",
    "X_test_scaled = scaler.transform(X_test)"
   ]
  },
  {
   "cell_type": "code",
   "execution_count": 19,
   "id": "34979c8e",
   "metadata": {},
   "outputs": [
    {
     "data": {
      "text/plain": [
       "(224, 15)"
      ]
     },
     "execution_count": 19,
     "metadata": {},
     "output_type": "execute_result"
    }
   ],
   "source": [
    "X_train_scaled.shape"
   ]
  },
  {
   "cell_type": "markdown",
   "id": "4cc3c194",
   "metadata": {},
   "source": [
    "# Parametric Classification: Naive Bayes' Classifier"
   ]
  },
  {
   "cell_type": "markdown",
   "id": "2210c0a4",
   "metadata": {},
   "source": [
    "Recall that the feature distributions wrt. the classes are similar to the Gaussian Distribution. Altough the parameters of the feature distributions above resemble the parameters of the Gaussian Distribution, the accuracy of our estimation will be determined by the relationship between the assumed and the population distribution."
   ]
  },
  {
   "cell_type": "code",
   "execution_count": 14,
   "id": "485790a8",
   "metadata": {},
   "outputs": [],
   "source": [
    "from sklearn.naive_bayes import GaussianNB"
   ]
  },
  {
   "cell_type": "code",
   "execution_count": 15,
   "id": "adae3daf",
   "metadata": {},
   "outputs": [
    {
     "name": "stdout",
     "output_type": "stream",
     "text": [
      "Accuracy of Gaussian NB: 0.73\n"
     ]
    }
   ],
   "source": [
    "# Initiate a model\n",
    "gaussian = GaussianNB()\n",
    "# Train the model\n",
    "gaussian.fit(X_train_scaled, y_train)\n",
    "# Make predictions\n",
    "predictions = gaussian.predict(X_test_scaled)\n",
    "# Test the accuracy of the model\n",
    "accuracy = np.sum(y_test==predictions) / y_test.shape[0]\n",
    "print(f\"Accuracy of Gaussian NB: {accuracy:.2f}\")"
   ]
  },
  {
   "cell_type": "markdown",
   "id": "64ac38f0",
   "metadata": {},
   "source": [
    "# Discussion"
   ]
  },
  {
   "cell_type": "markdown",
   "id": "f9a18b91",
   "metadata": {},
   "source": [
    "The 71% accuracy is not a perfect classification score. There might be multiple reasons for this low accuracy. Let us mention the most likely ones:\n",
    ">1) Naive Bayes' models are built on the idea that the features are all independent. This means that the feature distributions are univariate without zero correlation with the others. However, our case has some correlations, even in small numbers. This might be the reason for the low accuracy score.\n",
    "\\\n",
    ">2) In the dataset, the number of Label-0 is 203, while the number of Label-1 is 96. This means that the dataset has an imbalanced class distribution. As the imbalance ratio of the dataset increases, the machine learning models are getting trained biasedly. This means that models are inclined to learn more about the distribution parameters of the majority classes (zeros in our case). This might be another reason for the low accuracy score."
   ]
  },
  {
   "cell_type": "markdown",
   "id": "37ba196e",
   "metadata": {},
   "source": [
    "1) Feature Correlation in Naive Bayes"
   ]
  },
  {
   "cell_type": "code",
   "execution_count": 16,
   "id": "5e814aca",
   "metadata": {
    "scrolled": false
   },
   "outputs": [
    {
     "data": {
      "image/png": "[encoded data removed]",
      "text/plain": [
       "<Figure size 432x432 with 2 Axes>"
      ]
     },
     "metadata": {
      "needs_background": "light"
     },
     "output_type": "display_data"
    }
   ],
   "source": [
    "import seaborn as sns\n",
    "\n",
    "# Visualize the correlation\n",
    "fig, ax = plt.subplots(figsize=(6, 6))\n",
    "sns.heatmap(data[numericals].corr(), ax=ax)\n",
    "plt.show()"
   ]
  },
  {
   "cell_type": "markdown",
   "id": "86fcbe65",
   "metadata": {},
   "source": [
    "2) Imbalanced Data"
   ]
  },
  {
   "cell_type": "code",
   "execution_count": 17,
   "id": "10a3e468",
   "metadata": {},
   "outputs": [
    {
     "data": {
      "text/plain": [
       "0    203\n",
       "1     96\n",
       "Name: DEATH_EVENT, dtype: int64"
      ]
     },
     "execution_count": 17,
     "metadata": {},
     "output_type": "execute_result"
    }
   ],
   "source": [
    "# Check the class distributions\n",
    "target.value_counts()"
   ]
  },
  {
   "cell_type": "markdown",
   "id": "35619f84",
   "metadata": {},
   "source": [
    "**Final Notes:** To elaborate the discussion on the classification results, we should consult the metrics more sophisticated than the accuracy score. Later in this chapter, we will examine the Classification Evaluation Metrics in detail."
   ]
  },
  {
   "cell_type": "markdown",
   "id": "c7fae79e",
   "metadata": {},
   "source": [
    "# END"
   ]
  }
 ],
 "metadata": {
  "kernelspec": {
   "display_name": "Python 3 (ipykernel)",
   "language": "python",
   "name": "python3"
  },
  "language_info": {
   "codemirror_mode": {
    "name": "ipython",
    "version": 3
   },
   "file_extension": ".py",
   "mimetype": "text/x-python",
   "name": "python",
   "nbconvert_exporter": "python",
   "pygments_lexer": "ipython3",
   "version": "3.7.13"
  }
 },
 "nbformat": 4,
 "nbformat_minor": 5
}
