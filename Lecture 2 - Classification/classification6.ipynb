{
 "cells": [
  {
   "cell_type": "markdown",
   "id": "c1d20c66",
   "metadata": {},
   "source": [
    "# Introduction to Machine Learning\n",
    "## Lecture 3 - Classification\n",
    "### Notebook 6: Complete Classification Analysis on Wine Data\n",
    "Prapared by: Said Bolluk"
   ]
  },
  {
   "cell_type": "code",
   "execution_count": 1,
   "id": "e6ba411c",
   "metadata": {},
   "outputs": [],
   "source": [
    "# Import the necessary libraries\n",
    "import pandas as pd\n",
    "import numpy as np\n",
    "import matplotlib.pyplot as plt"
   ]
  },
  {
   "cell_type": "markdown",
   "id": "5f3c886a",
   "metadata": {},
   "source": [
    "# Data Preparation"
   ]
  },
  {
   "cell_type": "code",
   "execution_count": 2,
   "id": "933cd297",
   "metadata": {},
   "outputs": [
    {
     "data": {
      "text/html": [
       "<div>\n",
       "<style scoped>\n",
       "    .dataframe tbody tr th:only-of-type {\n",
       "        vertical-align: middle;\n",
       "    }\n",
       "\n",
       "    .dataframe tbody tr th {\n",
       "        vertical-align: top;\n",
       "    }\n",
       "\n",
       "    .dataframe thead th {\n",
       "        text-align: right;\n",
       "    }\n",
       "</style>\n",
       "<table border=\"1\" class=\"dataframe\">\n",
       "  <thead>\n",
       "    <tr style=\"text-align: right;\">\n",
       "      <th></th>\n",
       "      <th>type</th>\n",
       "      <th>fixed acidity</th>\n",
       "      <th>volatile acidity</th>\n",
       "      <th>citric acid</th>\n",
       "      <th>residual sugar</th>\n",
       "      <th>chlorides</th>\n",
       "      <th>free sulfur dioxide</th>\n",
       "      <th>total sulfur dioxide</th>\n",
       "      <th>density</th>\n",
       "      <th>pH</th>\n",
       "      <th>sulphates</th>\n",
       "      <th>alcohol</th>\n",
       "      <th>quality</th>\n",
       "    </tr>\n",
       "  </thead>\n",
       "  <tbody>\n",
       "    <tr>\n",
       "      <th>0</th>\n",
       "      <td>white</td>\n",
       "      <td>7.0</td>\n",
       "      <td>0.27</td>\n",
       "      <td>0.36</td>\n",
       "      <td>20.7</td>\n",
       "      <td>0.045</td>\n",
       "      <td>45.0</td>\n",
       "      <td>170.0</td>\n",
       "      <td>1.0010</td>\n",
       "      <td>3.00</td>\n",
       "      <td>0.45</td>\n",
       "      <td>8.8</td>\n",
       "      <td>6</td>\n",
       "    </tr>\n",
       "    <tr>\n",
       "      <th>1</th>\n",
       "      <td>white</td>\n",
       "      <td>6.3</td>\n",
       "      <td>0.30</td>\n",
       "      <td>0.34</td>\n",
       "      <td>1.6</td>\n",
       "      <td>0.049</td>\n",
       "      <td>14.0</td>\n",
       "      <td>132.0</td>\n",
       "      <td>0.9940</td>\n",
       "      <td>3.30</td>\n",
       "      <td>0.49</td>\n",
       "      <td>9.5</td>\n",
       "      <td>6</td>\n",
       "    </tr>\n",
       "    <tr>\n",
       "      <th>2</th>\n",
       "      <td>white</td>\n",
       "      <td>8.1</td>\n",
       "      <td>0.28</td>\n",
       "      <td>0.40</td>\n",
       "      <td>6.9</td>\n",
       "      <td>0.050</td>\n",
       "      <td>30.0</td>\n",
       "      <td>97.0</td>\n",
       "      <td>0.9951</td>\n",
       "      <td>3.26</td>\n",
       "      <td>0.44</td>\n",
       "      <td>10.1</td>\n",
       "      <td>6</td>\n",
       "    </tr>\n",
       "    <tr>\n",
       "      <th>3</th>\n",
       "      <td>white</td>\n",
       "      <td>7.2</td>\n",
       "      <td>0.23</td>\n",
       "      <td>0.32</td>\n",
       "      <td>8.5</td>\n",
       "      <td>0.058</td>\n",
       "      <td>47.0</td>\n",
       "      <td>186.0</td>\n",
       "      <td>0.9956</td>\n",
       "      <td>3.19</td>\n",
       "      <td>0.40</td>\n",
       "      <td>9.9</td>\n",
       "      <td>6</td>\n",
       "    </tr>\n",
       "    <tr>\n",
       "      <th>4</th>\n",
       "      <td>white</td>\n",
       "      <td>7.2</td>\n",
       "      <td>0.23</td>\n",
       "      <td>0.32</td>\n",
       "      <td>8.5</td>\n",
       "      <td>0.058</td>\n",
       "      <td>47.0</td>\n",
       "      <td>186.0</td>\n",
       "      <td>0.9956</td>\n",
       "      <td>3.19</td>\n",
       "      <td>0.40</td>\n",
       "      <td>9.9</td>\n",
       "      <td>6</td>\n",
       "    </tr>\n",
       "  </tbody>\n",
       "</table>\n",
       "</div>"
      ],
      "text/plain": [
       "    type  fixed acidity  volatile acidity  citric acid  residual sugar  \\\n",
       "0  white            7.0              0.27         0.36            20.7   \n",
       "1  white            6.3              0.30         0.34             1.6   \n",
       "2  white            8.1              0.28         0.40             6.9   \n",
       "3  white            7.2              0.23         0.32             8.5   \n",
       "4  white            7.2              0.23         0.32             8.5   \n",
       "\n",
       "   chlorides  free sulfur dioxide  total sulfur dioxide  density    pH  \\\n",
       "0      0.045                 45.0                 170.0   1.0010  3.00   \n",
       "1      0.049                 14.0                 132.0   0.9940  3.30   \n",
       "2      0.050                 30.0                  97.0   0.9951  3.26   \n",
       "3      0.058                 47.0                 186.0   0.9956  3.19   \n",
       "4      0.058                 47.0                 186.0   0.9956  3.19   \n",
       "\n",
       "   sulphates  alcohol  quality  \n",
       "0       0.45      8.8        6  \n",
       "1       0.49      9.5        6  \n",
       "2       0.44     10.1        6  \n",
       "3       0.40      9.9        6  \n",
       "4       0.40      9.9        6  "
      ]
     },
     "execution_count": 2,
     "metadata": {},
     "output_type": "execute_result"
    }
   ],
   "source": [
    "data = pd.read_csv(\"winequalityN.csv\")\n",
    "data.head()"
   ]
  },
  {
   "cell_type": "code",
   "execution_count": 3,
   "id": "bfc335c8",
   "metadata": {},
   "outputs": [
    {
     "data": {
      "text/plain": [
       "(6497, 13)"
      ]
     },
     "execution_count": 3,
     "metadata": {},
     "output_type": "execute_result"
    }
   ],
   "source": [
    "data.shape"
   ]
  },
  {
   "cell_type": "code",
   "execution_count": 4,
   "id": "aac7b79a",
   "metadata": {},
   "outputs": [],
   "source": [
    "# Create a copy of the dataset\n",
    "wine_data = data.copy()"
   ]
  },
  {
   "cell_type": "code",
   "execution_count": 5,
   "id": "510a2218",
   "metadata": {
    "scrolled": true
   },
   "outputs": [
    {
     "data": {
      "text/plain": [
       "type                     0\n",
       "fixed acidity           10\n",
       "volatile acidity         8\n",
       "citric acid              3\n",
       "residual sugar           2\n",
       "chlorides                2\n",
       "free sulfur dioxide      0\n",
       "total sulfur dioxide     0\n",
       "density                  0\n",
       "pH                       9\n",
       "sulphates                4\n",
       "alcohol                  0\n",
       "quality                  0\n",
       "dtype: int64"
      ]
     },
     "execution_count": 5,
     "metadata": {},
     "output_type": "execute_result"
    }
   ],
   "source": [
    "data.isnull().sum()"
   ]
  },
  {
   "cell_type": "markdown",
   "id": "f7926bca",
   "metadata": {},
   "source": [
    "Delete the empty rows"
   ]
  },
  {
   "cell_type": "code",
   "execution_count": 6,
   "id": "40cf0017",
   "metadata": {},
   "outputs": [],
   "source": [
    "data = data.dropna()"
   ]
  },
  {
   "cell_type": "code",
   "execution_count": 7,
   "id": "62bb9cb9",
   "metadata": {},
   "outputs": [
    {
     "data": {
      "text/plain": [
       "type                    0\n",
       "fixed acidity           0\n",
       "volatile acidity        0\n",
       "citric acid             0\n",
       "residual sugar          0\n",
       "chlorides               0\n",
       "free sulfur dioxide     0\n",
       "total sulfur dioxide    0\n",
       "density                 0\n",
       "pH                      0\n",
       "sulphates               0\n",
       "alcohol                 0\n",
       "quality                 0\n",
       "dtype: int64"
      ]
     },
     "execution_count": 7,
     "metadata": {},
     "output_type": "execute_result"
    }
   ],
   "source": [
    "data.isnull().sum()"
   ]
  },
  {
   "cell_type": "markdown",
   "id": "7d920673",
   "metadata": {},
   "source": [
    "Resizing the target values: We will decrease the number of classes to improve the efficiency of the classification."
   ]
  },
  {
   "cell_type": "code",
   "execution_count": 8,
   "id": "8bd7dc94",
   "metadata": {},
   "outputs": [
    {
     "data": {
      "text/plain": [
       "6    2820\n",
       "5    2128\n",
       "7    1074\n",
       "4     214\n",
       "8     192\n",
       "3      30\n",
       "9       5\n",
       "Name: quality, dtype: int64"
      ]
     },
     "execution_count": 8,
     "metadata": {},
     "output_type": "execute_result"
    }
   ],
   "source": [
    "data[\"quality\"].value_counts()"
   ]
  },
  {
   "cell_type": "markdown",
   "id": "d9243cd7",
   "metadata": {},
   "source": [
    "Transform the class labels:\\\n",
    "low_quality: 1\\\n",
    "mid_quality: 2\\\n",
    "high_quality: 3"
   ]
  },
  {
   "cell_type": "code",
   "execution_count": 9,
   "id": "f6b61d07",
   "metadata": {},
   "outputs": [],
   "source": [
    "low_quality = [3, 4, 5]\n",
    "mid_quality = [6]\n",
    "high_quality = [7, 8, 9]\n",
    "\n",
    "data[\"quality\"].replace(low_quality, 1, inplace=True)\n",
    "data[\"quality\"].replace(mid_quality, 2, inplace=True)\n",
    "data[\"quality\"].replace(high_quality, 3, inplace=True)"
   ]
  },
  {
   "cell_type": "code",
   "execution_count": 10,
   "id": "60649171",
   "metadata": {},
   "outputs": [
    {
     "data": {
      "text/plain": [
       "2    2820\n",
       "1    2372\n",
       "3    1271\n",
       "Name: quality, dtype: int64"
      ]
     },
     "execution_count": 10,
     "metadata": {},
     "output_type": "execute_result"
    }
   ],
   "source": [
    "data[\"quality\"].value_counts()"
   ]
  },
  {
   "cell_type": "markdown",
   "id": "5fa2aa65",
   "metadata": {},
   "source": [
    "## Feature Selection"
   ]
  },
  {
   "cell_type": "code",
   "execution_count": 11,
   "id": "649228c5",
   "metadata": {},
   "outputs": [
    {
     "name": "stdout",
     "output_type": "stream",
     "text": [
      "<class 'pandas.core.frame.DataFrame'>\n",
      "Int64Index: 6463 entries, 0 to 6496\n",
      "Data columns (total 13 columns):\n",
      " #   Column                Non-Null Count  Dtype  \n",
      "---  ------                --------------  -----  \n",
      " 0   type                  6463 non-null   object \n",
      " 1   fixed acidity         6463 non-null   float64\n",
      " 2   volatile acidity      6463 non-null   float64\n",
      " 3   citric acid           6463 non-null   float64\n",
      " 4   residual sugar        6463 non-null   float64\n",
      " 5   chlorides             6463 non-null   float64\n",
      " 6   free sulfur dioxide   6463 non-null   float64\n",
      " 7   total sulfur dioxide  6463 non-null   float64\n",
      " 8   density               6463 non-null   float64\n",
      " 9   pH                    6463 non-null   float64\n",
      " 10  sulphates             6463 non-null   float64\n",
      " 11  alcohol               6463 non-null   float64\n",
      " 12  quality               6463 non-null   int64  \n",
      "dtypes: float64(11), int64(1), object(1)\n",
      "memory usage: 706.9+ KB\n"
     ]
    }
   ],
   "source": [
    "data.info()"
   ]
  },
  {
   "cell_type": "code",
   "execution_count": 12,
   "id": "2db47451",
   "metadata": {},
   "outputs": [],
   "source": [
    "# Assign the feature set and the target variable\n",
    "target_name = \"quality\"\n",
    "target = data[target_name]\n",
    "\n",
    "data = data.drop(columns=[target_name])"
   ]
  },
  {
   "cell_type": "code",
   "execution_count": 13,
   "id": "2a556eec",
   "metadata": {},
   "outputs": [],
   "source": [
    "# Separate the categorical and numerical columns\n",
    "\n",
    "from sklearn.compose import make_column_selector as selector\n",
    "\n",
    "numerical_columns_selector = selector(dtype_exclude=object)\n",
    "categorical_columns_selector = selector(dtype_include=object)\n",
    "\n",
    "numerical_columns = numerical_columns_selector(data)\n",
    "categorical_columns = categorical_columns_selector(data)"
   ]
  },
  {
   "cell_type": "code",
   "execution_count": 14,
   "id": "6374aff5",
   "metadata": {},
   "outputs": [
    {
     "name": "stdout",
     "output_type": "stream",
     "text": [
      "Numerical columns: ['fixed acidity', 'volatile acidity', 'citric acid', 'residual sugar', 'chlorides', 'free sulfur dioxide', 'total sulfur dioxide', 'density', 'pH', 'sulphates', 'alcohol']\n",
      "\n",
      "Categorical columns: ['type']\n"
     ]
    }
   ],
   "source": [
    "print(\"Numerical columns:\", numerical_columns)\n",
    "print(\"\\nCategorical columns:\", categorical_columns)"
   ]
  },
  {
   "cell_type": "markdown",
   "id": "f6ce0099",
   "metadata": {},
   "source": [
    "1) Categorical Features"
   ]
  },
  {
   "cell_type": "code",
   "execution_count": 15,
   "id": "49a17031",
   "metadata": {},
   "outputs": [
    {
     "data": {
      "text/plain": [
       "white    4870\n",
       "red      1593\n",
       "Name: type, dtype: int64"
      ]
     },
     "execution_count": 15,
     "metadata": {},
     "output_type": "execute_result"
    }
   ],
   "source": [
    "data[\"type\"].value_counts()"
   ]
  },
  {
   "cell_type": "markdown",
   "id": "801626fb",
   "metadata": {},
   "source": [
    "The class distribution of the **Type** feature is imbalanced. However, we will continue with the Type feature since it reserves useful information about the quality of a wine."
   ]
  },
  {
   "cell_type": "markdown",
   "id": "f85e4384",
   "metadata": {},
   "source": [
    "2) Numerical Features"
   ]
  },
  {
   "cell_type": "code",
   "execution_count": 16,
   "id": "e2141f7a",
   "metadata": {},
   "outputs": [
    {
     "data": {
      "image/png": "[encoded data removed]",
      "text/plain": [
       "<Figure size 864x864 with 12 Axes>"
      ]
     },
     "metadata": {
      "needs_background": "light"
     },
     "output_type": "display_data"
    }
   ],
   "source": [
    "# Histogram view for the numerical features\n",
    "data.hist(bins=10, figsize=(12, 12), xrot=-45)\n",
    "plt.show()"
   ]
  },
  {
   "cell_type": "markdown",
   "id": "7ec5c95d",
   "metadata": {},
   "source": [
    "Some features, such as **residual sugar, chlorides, and density**, have irregular distribution. However, we cannot take the risk of loosing information by discarding them. Therefore, we will include all the numerical features in the analysis. Note that the feature distribution should be elaborately investigated in to improve the classification performance."
   ]
  },
  {
   "cell_type": "markdown",
   "id": "c2a4a4b4",
   "metadata": {},
   "source": [
    "## Preprocessing"
   ]
  },
  {
   "cell_type": "markdown",
   "id": "b8951846",
   "metadata": {},
   "source": [
    "1) Encoding categorical features using OneHotEncoder"
   ]
  },
  {
   "cell_type": "code",
   "execution_count": 17,
   "id": "82ceb4ef",
   "metadata": {},
   "outputs": [
    {
     "data": {
      "text/plain": [
       "(6463, 12)"
      ]
     },
     "execution_count": 17,
     "metadata": {},
     "output_type": "execute_result"
    }
   ],
   "source": [
    "data.shape"
   ]
  },
  {
   "cell_type": "code",
   "execution_count": 18,
   "id": "28b98592",
   "metadata": {},
   "outputs": [],
   "source": [
    "X = pd.get_dummies(data)"
   ]
  },
  {
   "cell_type": "code",
   "execution_count": 19,
   "id": "1f1c89c5",
   "metadata": {},
   "outputs": [
    {
     "data": {
      "text/plain": [
       "(6463, 13)"
      ]
     },
     "execution_count": 19,
     "metadata": {},
     "output_type": "execute_result"
    }
   ],
   "source": [
    "X.shape"
   ]
  },
  {
   "cell_type": "markdown",
   "id": "061608a8",
   "metadata": {},
   "source": [
    "Note that we have additional one feature column since the categorical feature **Type** has two classes: White and Red."
   ]
  },
  {
   "cell_type": "markdown",
   "id": "36d8b631",
   "metadata": {},
   "source": [
    "2) Transforming numerical features using StandardScaler"
   ]
  },
  {
   "cell_type": "code",
   "execution_count": 20,
   "id": "69ebf959",
   "metadata": {},
   "outputs": [
    {
     "name": "stdout",
     "output_type": "stream",
     "text": [
      "Training size: 4847\n",
      "Test size: 1616\n"
     ]
    }
   ],
   "source": [
    "X = X.values\n",
    "y = target.values\n",
    "\n",
    "# Split the data into training and test sets\n",
    "from sklearn.model_selection import train_test_split\n",
    "\n",
    "X_train, X_test, y_train, y_test = train_test_split(X, y, test_size=0.25, random_state=42)\n",
    "\n",
    "print(\"Training size:\", X_train.shape[0])\n",
    "print(\"Test size:\", X_test.shape[0])"
   ]
  },
  {
   "cell_type": "code",
   "execution_count": 21,
   "id": "4861c860",
   "metadata": {},
   "outputs": [],
   "source": [
    "# Scale the numerical features\n",
    "from sklearn.preprocessing import StandardScaler\n",
    "scaler = StandardScaler()\n",
    "# Fit the data according to the training set\n",
    "scaler.fit(X_train)\n",
    "# Transform the sets using training parameters\n",
    "X_train_scaled = scaler.transform(X_train)\n",
    "X_test_scaled = scaler.transform(X_test)"
   ]
  },
  {
   "cell_type": "markdown",
   "id": "1c011dec",
   "metadata": {},
   "source": [
    "# CLASSIFICATION"
   ]
  },
  {
   "cell_type": "markdown",
   "id": "dfc26839",
   "metadata": {},
   "source": [
    "We will test several machine learning models in classifying the wine quality. The classification models are respectively: (1) Gaussian Naive Bayes, (2) k-Nearest Neighbor,  and (3) Decision Tree."
   ]
  },
  {
   "cell_type": "code",
   "execution_count": 22,
   "id": "b2dfcaac",
   "metadata": {},
   "outputs": [],
   "source": [
    "# Import the necessary libraries to utilize classification \n",
    "from sklearn.metrics import classification_report, accuracy_score, recall_score, precision_score, f1_score\n",
    "from sklearn.metrics import confusion_matrix, ConfusionMatrixDisplay"
   ]
  },
  {
   "cell_type": "markdown",
   "id": "4333a86e",
   "metadata": {},
   "source": [
    "We will collect the results of each classification model in the **report_df.**"
   ]
  },
  {
   "cell_type": "code",
   "execution_count": 23,
   "id": "9aeaefda",
   "metadata": {},
   "outputs": [],
   "source": [
    "report_df = pd.DataFrame()"
   ]
  },
  {
   "cell_type": "markdown",
   "id": "b0c497a1",
   "metadata": {},
   "source": [
    "## 1) Gaussian Naive Bayes Classifier"
   ]
  },
  {
   "cell_type": "code",
   "execution_count": 24,
   "id": "7b0589e5",
   "metadata": {},
   "outputs": [],
   "source": [
    "from sklearn.naive_bayes import GaussianNB"
   ]
  },
  {
   "cell_type": "code",
   "execution_count": 25,
   "id": "498f2386",
   "metadata": {},
   "outputs": [
    {
     "name": "stdout",
     "output_type": "stream",
     "text": [
      "Accuracy of Gaussian NB: 0.47\n"
     ]
    }
   ],
   "source": [
    "# Define a model\n",
    "bayes = GaussianNB()\n",
    "# Train the model\n",
    "bayes.fit(X_train_scaled, y_train)\n",
    "# Make predictions\n",
    "predictions = bayes.predict(X_test_scaled)\n",
    "# Test the accuracy of the model\n",
    "accuracy = np.sum(y_test==predictions) / y_test.shape[0]\n",
    "print(f\"Accuracy of Gaussian NB: {accuracy:.2f}\")"
   ]
  },
  {
   "cell_type": "code",
   "execution_count": 26,
   "id": "26c65603",
   "metadata": {},
   "outputs": [
    {
     "name": "stdout",
     "output_type": "stream",
     "text": [
      "              precision    recall  f1-score   support\n",
      "\n",
      "           1       0.60      0.45      0.51       604\n",
      "           2       0.45      0.38      0.41       686\n",
      "           3       0.39      0.70      0.50       326\n",
      "\n",
      "    accuracy                           0.47      1616\n",
      "   macro avg       0.48      0.51      0.47      1616\n",
      "weighted avg       0.49      0.47      0.47      1616\n",
      "\n"
     ]
    }
   ],
   "source": [
    "# Observe the classificaiton results\n",
    "print(classification_report(y_test, bayes.predict(X_test_scaled)))"
   ]
  },
  {
   "cell_type": "code",
   "execution_count": 27,
   "id": "162dc100",
   "metadata": {
    "scrolled": true
   },
   "outputs": [
    {
     "data": {
      "image/png": "[encoded data removed]",
      "text/plain": [
       "<Figure size 432x288 with 2 Axes>"
      ]
     },
     "metadata": {
      "needs_background": "light"
     },
     "output_type": "display_data"
    }
   ],
   "source": [
    "# Confusion Matrix\n",
    "wine_quality = [\"low\", \"mid\", \"high\"]\n",
    "cm = confusion_matrix(y_test, bayes.predict(X_test_scaled), labels=[1, 2, 3])\n",
    "disp = ConfusionMatrixDisplay(confusion_matrix=cm, display_labels=wine_quality)\n",
    "disp.plot()\n",
    "plt.title(\"Gaussian Naive Bayes\")\n",
    "plt.show()"
   ]
  },
  {
   "cell_type": "code",
   "execution_count": 28,
   "id": "ff227a34",
   "metadata": {},
   "outputs": [],
   "source": [
    "bayes_fp1 = 246 + 85\n",
    "bayes_fp2 = 152 + 276\n",
    "bayes_fp3 = 33 + 66"
   ]
  },
  {
   "cell_type": "code",
   "execution_count": 29,
   "id": "29677c10",
   "metadata": {},
   "outputs": [],
   "source": [
    "bayes_results = {\n",
    "    \"Classifier\": \"Gaussian Naive Bayes\", \n",
    "    \"Accuracy\": accuracy_score(y_test, bayes.predict(X_test_scaled)), \n",
    "    \"Precision\": np.mean(precision_score(y_test, bayes.predict(X_test_scaled), average=None)),\n",
    "    \"Recall\": np.mean(recall_score(y_test, bayes.predict(X_test_scaled), average=None)),\n",
    "    \"F1-Score\": np.mean(f1_score(y_test, bayes.predict(X_test_scaled), average=None)), \n",
    "}\n",
    "              \n",
    "report_df = report_df.append(bayes_results, ignore_index=True, sort=True)"
   ]
  },
  {
   "cell_type": "markdown",
   "id": "aa0f7d1f",
   "metadata": {},
   "source": [
    "## 2) k-Nearest Neighbor Classifier"
   ]
  },
  {
   "cell_type": "code",
   "execution_count": 30,
   "id": "873c01e9",
   "metadata": {},
   "outputs": [],
   "source": [
    "from sklearn.neighbors import KNeighborsClassifier"
   ]
  },
  {
   "cell_type": "markdown",
   "id": "a973e30c",
   "metadata": {},
   "source": [
    "First, determine the optimal hyperparameter: **number of neighbors**"
   ]
  },
  {
   "cell_type": "code",
   "execution_count": 31,
   "id": "d1b3b6a6",
   "metadata": {},
   "outputs": [
    {
     "name": "stdout",
     "output_type": "stream",
     "text": [
      "Test accuracy score of the k-NN with n_neighbors=100: 0.598\n",
      "Test accuracy score of the k-NN with n_neighbors=50: 0.593\n",
      "Test accuracy score of the k-NN with n_neighbors=25: 0.601\n",
      "Test accuracy score of the k-NN with n_neighbors=10: 0.601\n",
      "Test accuracy score of the k-NN with n_neighbors=5: 0.597\n",
      "Test accuracy score of the k-NN with n_neighbors=1: 0.665\n"
     ]
    }
   ],
   "source": [
    "# Set the neighborhood values for testing:\n",
    "neighbors = [100, 50, 25, 10, 5, 1]\n",
    "\n",
    "training_accuracy = list()\n",
    "test_accuracy = list()\n",
    "\n",
    "for n in neighbors:\n",
    "    # Define a model\n",
    "    knn = KNeighborsClassifier(n_neighbors=n)\n",
    "    # Fit the training set\n",
    "    knn.fit(X_train_scaled, y_train)\n",
    "    # Make predictions over the training set\n",
    "    pred_train = knn.predict(X_train_scaled)\n",
    "    # Make predictions over the test set\n",
    "    pred_test = knn.predict(X_test_scaled)\n",
    "    # Calculate the accuracy score for training and test sets\n",
    "    accuracy_training = np.sum(y_train==pred_train) / y_train.shape[0]\n",
    "    accuracy_test = np.sum(y_test==pred_test) / y_test.shape[0]\n",
    "    training_accuracy.append(accuracy_training)\n",
    "    test_accuracy.append(accuracy_test)\n",
    "    print(f\"Test accuracy score of the k-NN with n_neighbors={n}: {accuracy_test:.3f}\")"
   ]
  },
  {
   "cell_type": "code",
   "execution_count": 32,
   "id": "7d44bf22",
   "metadata": {},
   "outputs": [
    {
     "data": {
      "image/png": "[encoded data removed]",
      "text/plain": [
       "<Figure size 432x288 with 1 Axes>"
      ]
     },
     "metadata": {
      "needs_background": "light"
     },
     "output_type": "display_data"
    }
   ],
   "source": [
    "# Visualize the results\n",
    "plt.figure(figsize=(6, 4))\n",
    "plt.plot(neighbors, training_accuracy, color=\"orange\", label=\"Training Accuracy\")\n",
    "plt.plot(neighbors, test_accuracy, color=\"green\", label=\"Test Accuracy\")\n",
    "plt.title(\"N-Neighbors vs. Accuracy Score\")\n",
    "plt.xlabel(\"N-Neighbors\")\n",
    "plt.ylabel(\"Accuracy\")\n",
    "plt.legend()\n",
    "plt.show()"
   ]
  },
  {
   "cell_type": "markdown",
   "id": "beb91791",
   "metadata": {},
   "source": [
    "After n_neighbors=10 in decending order, the training accuracy jumps. We do not want to over-fit the model. Thus, we will continue with **n_neighbors=10.**"
   ]
  },
  {
   "cell_type": "code",
   "execution_count": 33,
   "id": "bd4a05b2",
   "metadata": {},
   "outputs": [
    {
     "name": "stdout",
     "output_type": "stream",
     "text": [
      "Accuracy of k-NN: 0.60\n"
     ]
    }
   ],
   "source": [
    "# Define a model\n",
    "knn = KNeighborsClassifier(n_neighbors=10)\n",
    "# Train the model\n",
    "knn.fit(X_train_scaled, y_train)\n",
    "# Make predictions\n",
    "predictions = knn.predict(X_test_scaled)\n",
    "# Test the accuracy of the model\n",
    "accuracy = np.sum(y_test==predictions) / y_test.shape[0]\n",
    "print(f\"Accuracy of k-NN: {accuracy:.2f}\")"
   ]
  },
  {
   "cell_type": "code",
   "execution_count": 34,
   "id": "5038e167",
   "metadata": {},
   "outputs": [
    {
     "name": "stdout",
     "output_type": "stream",
     "text": [
      "              precision    recall  f1-score   support\n",
      "\n",
      "           1       0.67      0.66      0.67       604\n",
      "           2       0.56      0.60      0.58       686\n",
      "           3       0.57      0.49      0.52       326\n",
      "\n",
      "    accuracy                           0.60      1616\n",
      "   macro avg       0.60      0.58      0.59      1616\n",
      "weighted avg       0.60      0.60      0.60      1616\n",
      "\n"
     ]
    }
   ],
   "source": [
    "# Observe the classificaiton results\n",
    "print(classification_report(y_test, knn.predict(X_test_scaled)))"
   ]
  },
  {
   "cell_type": "code",
   "execution_count": 35,
   "id": "7427e886",
   "metadata": {
    "scrolled": true
   },
   "outputs": [
    {
     "data": {
      "image/png": "[encoded data removed]",
      "text/plain": [
       "<Figure size 432x288 with 2 Axes>"
      ]
     },
     "metadata": {
      "needs_background": "light"
     },
     "output_type": "display_data"
    }
   ],
   "source": [
    "# Confusion Matrix\n",
    "wine_quality = [\"low\", \"mid\", \"high\"]\n",
    "cm = confusion_matrix(y_test, knn.predict(X_test_scaled), labels=[1, 2, 3])\n",
    "disp = ConfusionMatrixDisplay(confusion_matrix=cm, display_labels=wine_quality)\n",
    "disp.plot()\n",
    "plt.title(\"k-Nearest Neighbor\")\n",
    "plt.show()"
   ]
  },
  {
   "cell_type": "code",
   "execution_count": 36,
   "id": "32126fa7",
   "metadata": {},
   "outputs": [],
   "source": [
    "knn_fp1 = 179 + 24\n",
    "knn_fp2 = 176 + 98\n",
    "knn_fp3 = 22 + 145"
   ]
  },
  {
   "cell_type": "code",
   "execution_count": 37,
   "id": "cd25f326",
   "metadata": {},
   "outputs": [],
   "source": [
    "knn_results = {\n",
    "    \"Classifier\": \"k-Nearest Neighbor\", \n",
    "    \"Accuracy\": accuracy_score(y_test, knn.predict(X_test_scaled)), \n",
    "    \"Precision\": np.mean(precision_score(y_test, knn.predict(X_test_scaled), average=None)),\n",
    "    \"Recall\": np.mean(recall_score(y_test, knn.predict(X_test_scaled), average=None)),\n",
    "    \"F1-Score\": np.mean(f1_score(y_test, knn.predict(X_test_scaled), average=None)), \n",
    "}\n",
    "              \n",
    "report_df = report_df.append(knn_results, ignore_index=True, sort=True)"
   ]
  },
  {
   "cell_type": "markdown",
   "id": "8a17ab56",
   "metadata": {},
   "source": [
    "## 3) Decision Tree Classifier"
   ]
  },
  {
   "cell_type": "code",
   "execution_count": 38,
   "id": "6d72fff2",
   "metadata": {},
   "outputs": [],
   "source": [
    "from sklearn.tree import DecisionTreeClassifier"
   ]
  },
  {
   "cell_type": "markdown",
   "id": "9b83070f",
   "metadata": {},
   "source": [
    "First, determine the optimal hyperparameter: **maximum tree depth**"
   ]
  },
  {
   "cell_type": "code",
   "execution_count": 39,
   "id": "2afb7b10",
   "metadata": {},
   "outputs": [
    {
     "name": "stdout",
     "output_type": "stream",
     "text": [
      "Test accuracy score of the Decision three with max_depth=1: 0.504\n",
      "Test accuracy score of the Decision three with max_depth=2: 0.542\n",
      "Test accuracy score of the Decision three with max_depth=4: 0.572\n",
      "Test accuracy score of the Decision three with max_depth=8: 0.580\n",
      "Test accuracy score of the Decision three with max_depth=16: 0.632\n",
      "Test accuracy score of the Decision three with max_depth=32: 0.639\n",
      "Test accuracy score of the Decision three with max_depth=64: 0.639\n"
     ]
    }
   ],
   "source": [
    "# Set several maximum depths:\n",
    "maximum_depth = [2**n for n in range(0, 7)]\n",
    "\n",
    "\n",
    "accuracy_train = list()\n",
    "accuracy_test = list()\n",
    "\n",
    "for n in maximum_depth:\n",
    "    # Define a model\n",
    "    tree = DecisionTreeClassifier(max_depth=n, random_state=42)\n",
    "    # Fit the training set\n",
    "    tree.fit(X_train_scaled, y_train)\n",
    "    # Make predictions over the test set\n",
    "    train_predictions = tree.predict(X_train_scaled)\n",
    "    test_predictions = tree.predict(X_test_scaled)\n",
    "    # Calculate the accuracy score\n",
    "    train_accuracy = np.sum(y_train==train_predictions) / y_train.shape[0]\n",
    "    test_accuracy = np.sum(y_test==test_predictions) / y_test.shape[0]\n",
    "    accuracy_train.append(train_accuracy)\n",
    "    accuracy_test.append(test_accuracy)\n",
    "    print(f\"Test accuracy score of the Decision three with max_depth={n}: {test_accuracy:.3f}\")"
   ]
  },
  {
   "cell_type": "code",
   "execution_count": 40,
   "id": "08723a9e",
   "metadata": {},
   "outputs": [
    {
     "data": {
      "image/png": "[encoded data removed]",
      "text/plain": [
       "<Figure size 432x288 with 1 Axes>"
      ]
     },
     "metadata": {
      "needs_background": "light"
     },
     "output_type": "display_data"
    }
   ],
   "source": [
    "# Visualize the results\n",
    "plt.figure(figsize=(6, 4))\n",
    "plt.plot(maximum_depth, accuracy_train, color=\"orange\", label=\"Training Accuracy\")\n",
    "plt.plot(maximum_depth, accuracy_test, color=\"green\", label=\"Test Accuracy\")\n",
    "plt.title(\"Tree Depth vs. Accuracy Score\")\n",
    "plt.legend()\n",
    "plt.xlabel(\"Maximum Depth\")\n",
    "plt.ylabel(\"Accuracy\")\n",
    "plt.show()"
   ]
  },
  {
   "cell_type": "markdown",
   "id": "69640af4",
   "metadata": {},
   "source": [
    "We can see that after max_depth=16, the test accuracy stop increasing. Therefore, we will continue with max_depth=16."
   ]
  },
  {
   "cell_type": "code",
   "execution_count": 41,
   "id": "ee37ffb6",
   "metadata": {},
   "outputs": [
    {
     "name": "stdout",
     "output_type": "stream",
     "text": [
      "Accuracy of Decision Tree: 0.63\n"
     ]
    }
   ],
   "source": [
    "# Define a model\n",
    "tree = DecisionTreeClassifier(max_depth=16, random_state=42)\n",
    "# Train the model\n",
    "tree.fit(X_train_scaled, y_train)\n",
    "# Make predictions\n",
    "predictions = tree.predict(X_test_scaled)\n",
    "# Test the accuracy of the model\n",
    "accuracy = np.sum(y_test==predictions) / y_test.shape[0]\n",
    "print(f\"Accuracy of Decision Tree: {accuracy:.2f}\")"
   ]
  },
  {
   "cell_type": "code",
   "execution_count": 42,
   "id": "cb7870ff",
   "metadata": {},
   "outputs": [
    {
     "name": "stdout",
     "output_type": "stream",
     "text": [
      "              precision    recall  f1-score   support\n",
      "\n",
      "           1       0.71      0.66      0.68       604\n",
      "           2       0.60      0.64      0.62       686\n",
      "           3       0.57      0.56      0.57       326\n",
      "\n",
      "    accuracy                           0.63      1616\n",
      "   macro avg       0.63      0.62      0.62      1616\n",
      "weighted avg       0.64      0.63      0.63      1616\n",
      "\n"
     ]
    }
   ],
   "source": [
    "# Observe the classificaiton results\n",
    "print(classification_report(y_test, tree.predict(X_test_scaled)))"
   ]
  },
  {
   "cell_type": "code",
   "execution_count": 43,
   "id": "00ec2e6d",
   "metadata": {
    "scrolled": true
   },
   "outputs": [
    {
     "data": {
      "image/png": "[encoded data removed]",
      "text/plain": [
       "<Figure size 432x288 with 2 Axes>"
      ]
     },
     "metadata": {
      "needs_background": "light"
     },
     "output_type": "display_data"
    }
   ],
   "source": [
    "# Confusion Matrix\n",
    "wine_quality = [\"low\", \"mid\", \"high\"]\n",
    "cm = confusion_matrix(y_test, tree.predict(X_test_scaled), labels=[1, 2, 3])\n",
    "disp = ConfusionMatrixDisplay(confusion_matrix=cm, display_labels=wine_quality)\n",
    "disp.plot()\n",
    "plt.title(\"Decision Tree\")\n",
    "plt.show()"
   ]
  },
  {
   "cell_type": "code",
   "execution_count": 44,
   "id": "4d328e6b",
   "metadata": {},
   "outputs": [],
   "source": [
    "tree_fp1 = 173 + 34\n",
    "tree_fp2 = 142 + 103\n",
    "tree_fp3 = 23 + 119"
   ]
  },
  {
   "cell_type": "code",
   "execution_count": 45,
   "id": "2721695c",
   "metadata": {},
   "outputs": [],
   "source": [
    "tree_results = {\n",
    "    \"Classifier\": \"Decision Tree\", \n",
    "    \"Accuracy\": accuracy_score(y_test, tree.predict(X_test_scaled)), \n",
    "    \"Precision\": np.mean(precision_score(y_test, tree.predict(X_test_scaled), average=None)),\n",
    "    \"Recall\": np.mean(recall_score(y_test, tree.predict(X_test_scaled), average=None)),\n",
    "    \"F1-Score\": np.mean(f1_score(y_test, tree.predict(X_test_scaled), average=None)), \n",
    "}\n",
    "              \n",
    "report_df = report_df.append(tree_results, ignore_index=True, sort=True)"
   ]
  },
  {
   "cell_type": "markdown",
   "id": "47446856",
   "metadata": {},
   "source": [
    "Compare the classification results"
   ]
  },
  {
   "cell_type": "code",
   "execution_count": 46,
   "id": "bbca6e39",
   "metadata": {},
   "outputs": [],
   "source": [
    "# Organize the frame\n",
    "report_df = report_df[[\"Classifier\", \"Accuracy\", \"Precision\", \"Recall\", \"F1-Score\"]]"
   ]
  },
  {
   "cell_type": "code",
   "execution_count": 47,
   "id": "9ce76b56",
   "metadata": {},
   "outputs": [
    {
     "data": {
      "text/html": [
       "<div>\n",
       "<style scoped>\n",
       "    .dataframe tbody tr th:only-of-type {\n",
       "        vertical-align: middle;\n",
       "    }\n",
       "\n",
       "    .dataframe tbody tr th {\n",
       "        vertical-align: top;\n",
       "    }\n",
       "\n",
       "    .dataframe thead th {\n",
       "        text-align: right;\n",
       "    }\n",
       "</style>\n",
       "<table border=\"1\" class=\"dataframe\">\n",
       "  <thead>\n",
       "    <tr style=\"text-align: right;\">\n",
       "      <th></th>\n",
       "      <th>Classifier</th>\n",
       "      <th>Accuracy</th>\n",
       "      <th>Precision</th>\n",
       "      <th>Recall</th>\n",
       "      <th>F1-Score</th>\n",
       "    </tr>\n",
       "  </thead>\n",
       "  <tbody>\n",
       "    <tr>\n",
       "      <th>2</th>\n",
       "      <td>Decision Tree</td>\n",
       "      <td>0.632</td>\n",
       "      <td>0.627</td>\n",
       "      <td>0.622</td>\n",
       "      <td>0.624</td>\n",
       "    </tr>\n",
       "    <tr>\n",
       "      <th>1</th>\n",
       "      <td>k-Nearest Neighbor</td>\n",
       "      <td>0.601</td>\n",
       "      <td>0.598</td>\n",
       "      <td>0.584</td>\n",
       "      <td>0.590</td>\n",
       "    </tr>\n",
       "    <tr>\n",
       "      <th>0</th>\n",
       "      <td>Gaussian Naive Bayes</td>\n",
       "      <td>0.469</td>\n",
       "      <td>0.478</td>\n",
       "      <td>0.508</td>\n",
       "      <td>0.474</td>\n",
       "    </tr>\n",
       "  </tbody>\n",
       "</table>\n",
       "</div>"
      ],
      "text/plain": [
       "             Classifier  Accuracy  Precision  Recall  F1-Score\n",
       "2         Decision Tree     0.632      0.627   0.622     0.624\n",
       "1    k-Nearest Neighbor     0.601      0.598   0.584     0.590\n",
       "0  Gaussian Naive Bayes     0.469      0.478   0.508     0.474"
      ]
     },
     "execution_count": 47,
     "metadata": {},
     "output_type": "execute_result"
    }
   ],
   "source": [
    "report_df.sort_values(by=[\"F1-Score\"], ascending=False).round(3)"
   ]
  },
  {
   "cell_type": "markdown",
   "id": "a3f79b9f",
   "metadata": {},
   "source": [
    "# Discussion"
   ]
  },
  {
   "cell_type": "markdown",
   "id": "316e4a04",
   "metadata": {},
   "source": [
    "We can see that the F1 Score is the highest for the Decision Tree Classier. If we check the diagonals of the confusion matrices, we can also detect that the Decision Tree Classifier has the most True Positive (TP) values. However, the class distribution is not balanced. Plus, understanding the cost of making such classification is vital in machine learning. Therefore, we will examine the cost-sensitivity concept. We will calculate the cost of making wrong estimations for each classifier.\\\n",
    "Recall that we have three classes of wines: (1) low_quality, (2) mid_quality, and (3) high_quality. Let us say that labeling a wine low_quality is less costly than high_quality, considering the loss of money and possible health issues. With this assumption, we will determine the cost values of making wrong estimations for each class according to the False Positives (FP). "
   ]
  },
  {
   "cell_type": "code",
   "execution_count": 48,
   "id": "7484ed1a",
   "metadata": {},
   "outputs": [
    {
     "name": "stdout",
     "output_type": "stream",
     "text": [
      "Cost Matrix: [0.2, 0.4, 0.6]\n"
     ]
    }
   ],
   "source": [
    "# Cost of misclassification\n",
    "# 1) low_quality\n",
    "cost_one = 0.2\n",
    "# 2) mid_quality\n",
    "cost_two = 0.4\n",
    "# 3) high_quality\n",
    "cost_three = 0.6\n",
    "\n",
    "cost_matrix = [cost_one, cost_two, cost_three]\n",
    "print(\"Cost Matrix:\", cost_matrix)"
   ]
  },
  {
   "cell_type": "markdown",
   "id": "c5ab2d21",
   "metadata": {},
   "source": [
    "Let us say that **N** is the number of classes and **c** is the cost coefficient for each class. "
   ]
  },
  {
   "cell_type": "markdown",
   "id": "61a7cc24",
   "metadata": {},
   "source": [
    "$$\n",
    "\\\n",
    "\\huge{Cost} = \\huge{\\frac{1}{N} \\sum_{i=1}^N (c_{i}*FP_{i}})\n",
    "\\\n",
    "$$"
   ]
  },
  {
   "cell_type": "markdown",
   "id": "1da797b1",
   "metadata": {},
   "source": [
    "**Note:** The cost values are based on an intuitive idea. One should research the literature and conduct many testing to comprehend the actual costs of making misclassification in real life."
   ]
  },
  {
   "cell_type": "code",
   "execution_count": 49,
   "id": "dfa20943",
   "metadata": {},
   "outputs": [],
   "source": [
    "fp1 = [bayes_fp1, knn_fp1, tree_fp1]\n",
    "fp2 = [bayes_fp2, knn_fp2, tree_fp2]\n",
    "fp3 = [bayes_fp3, knn_fp3, tree_fp3]"
   ]
  },
  {
   "cell_type": "code",
   "execution_count": 50,
   "id": "ba9a653b",
   "metadata": {},
   "outputs": [],
   "source": [
    "report_df[\"FP(1)\"] = fp1\n",
    "report_df[\"FP(2)\"] = fp2\n",
    "report_df[\"FP(3)\"] = fp3"
   ]
  },
  {
   "cell_type": "code",
   "execution_count": 51,
   "id": "433ca87f",
   "metadata": {},
   "outputs": [],
   "source": [
    "# Combine FP's for each classifier\n",
    "fp_bayes = report_df.iloc[0, 5::]\n",
    "fp_knn = report_df.iloc[1, 5::]\n",
    "fp_tree = report_df.iloc[2, 5::]\n",
    "\n",
    "# Calculate the costs\n",
    "bayes_cost = (1/3) * np.sum( np.multiply(cost_matrix, fp_bayes) ) \n",
    "knn_cost = (1/3) * np.sum( np.multiply(cost_matrix, fp_knn) )\n",
    "tree_cost = (1/3) * np.sum( np.multiply(cost_matrix, fp_tree) )\n",
    "\n",
    "# Insert the cost values into the report data frame\n",
    "cost_list = np.round([bayes_cost, knn_cost, tree_cost], 3)\n",
    "report_df[\"COST\"] = cost_list"
   ]
  },
  {
   "cell_type": "code",
   "execution_count": 52,
   "id": "bc7450c5",
   "metadata": {},
   "outputs": [
    {
     "data": {
      "text/html": [
       "<div>\n",
       "<style scoped>\n",
       "    .dataframe tbody tr th:only-of-type {\n",
       "        vertical-align: middle;\n",
       "    }\n",
       "\n",
       "    .dataframe tbody tr th {\n",
       "        vertical-align: top;\n",
       "    }\n",
       "\n",
       "    .dataframe thead th {\n",
       "        text-align: right;\n",
       "    }\n",
       "</style>\n",
       "<table border=\"1\" class=\"dataframe\">\n",
       "  <thead>\n",
       "    <tr style=\"text-align: right;\">\n",
       "      <th></th>\n",
       "      <th>Classifier</th>\n",
       "      <th>Accuracy</th>\n",
       "      <th>Precision</th>\n",
       "      <th>Recall</th>\n",
       "      <th>F1-Score</th>\n",
       "      <th>FP(1)</th>\n",
       "      <th>FP(2)</th>\n",
       "      <th>FP(3)</th>\n",
       "      <th>COST</th>\n",
       "    </tr>\n",
       "  </thead>\n",
       "  <tbody>\n",
       "    <tr>\n",
       "      <th>2</th>\n",
       "      <td>Decision Tree</td>\n",
       "      <td>0.632</td>\n",
       "      <td>0.627</td>\n",
       "      <td>0.622</td>\n",
       "      <td>0.624</td>\n",
       "      <td>207</td>\n",
       "      <td>245</td>\n",
       "      <td>142</td>\n",
       "      <td>74.867</td>\n",
       "    </tr>\n",
       "    <tr>\n",
       "      <th>1</th>\n",
       "      <td>k-Nearest Neighbor</td>\n",
       "      <td>0.601</td>\n",
       "      <td>0.598</td>\n",
       "      <td>0.584</td>\n",
       "      <td>0.590</td>\n",
       "      <td>203</td>\n",
       "      <td>274</td>\n",
       "      <td>167</td>\n",
       "      <td>83.467</td>\n",
       "    </tr>\n",
       "    <tr>\n",
       "      <th>0</th>\n",
       "      <td>Gaussian Naive Bayes</td>\n",
       "      <td>0.469</td>\n",
       "      <td>0.478</td>\n",
       "      <td>0.508</td>\n",
       "      <td>0.474</td>\n",
       "      <td>331</td>\n",
       "      <td>428</td>\n",
       "      <td>99</td>\n",
       "      <td>98.933</td>\n",
       "    </tr>\n",
       "  </tbody>\n",
       "</table>\n",
       "</div>"
      ],
      "text/plain": [
       "             Classifier  Accuracy  Precision  Recall  F1-Score  FP(1)  FP(2)  \\\n",
       "2         Decision Tree     0.632      0.627   0.622     0.624    207    245   \n",
       "1    k-Nearest Neighbor     0.601      0.598   0.584     0.590    203    274   \n",
       "0  Gaussian Naive Bayes     0.469      0.478   0.508     0.474    331    428   \n",
       "\n",
       "   FP(3)    COST  \n",
       "2    142  74.867  \n",
       "1    167  83.467  \n",
       "0     99  98.933  "
      ]
     },
     "execution_count": 52,
     "metadata": {},
     "output_type": "execute_result"
    }
   ],
   "source": [
    "report_df.sort_values(by=[\"COST\"], ascending=True).round(3)"
   ]
  },
  {
   "cell_type": "markdown",
   "id": "ad587ae0",
   "metadata": {},
   "source": [
    "We can see that the **Decision Tree Classifier** has the least cost. Considering it also has the highest F1 Score, we can conclude that the Decision Tree Classifier outperformed the other models in classifying the wine data."
   ]
  },
  {
   "cell_type": "markdown",
   "id": "0c5ec22f",
   "metadata": {},
   "source": [
    "**Final Note:** Please be reminded that in this study, the cost calculations depend on a fundamental assumption. A cost matrix can only be created after solid experiments and with expert opinions in reality. However, I wanted to show the cost-sensitivity concept with a simple introduction. Plus, the cost coefficients we assumed for classes are logical. Therefore, I find this part of the study helpful for beginners and those interested in the cost-sensitive approach in machine learning."
   ]
  },
  {
   "cell_type": "markdown",
   "id": "593b7b5b",
   "metadata": {},
   "source": [
    "# END"
   ]
  }
 ],
 "metadata": {
  "kernelspec": {
   "display_name": "Python 3 (ipykernel)",
   "language": "python",
   "name": "python3"
  },
  "language_info": {
   "codemirror_mode": {
    "name": "ipython",
    "version": 3
   },
   "file_extension": ".py",
   "mimetype": "text/x-python",
   "name": "python",
   "nbconvert_exporter": "python",
   "pygments_lexer": "ipython3",
   "version": "3.7.13"
  }
 },
 "nbformat": 4,
 "nbformat_minor": 5
}
