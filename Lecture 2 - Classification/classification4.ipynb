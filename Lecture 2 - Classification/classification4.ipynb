{
 "cells": [
  {
   "cell_type": "markdown",
   "id": "1d18df80",
   "metadata": {},
   "source": [
    "# Introduction to Machine Learning\n",
    "## Lecture 3 - Classification\n",
    "### Notebook 4: K-Nearest Neighbor Classifier \n",
    "Prapared by: Said Bolluk"
   ]
  },
  {
   "cell_type": "code",
   "execution_count": 1,
   "id": "6f15b7f7",
   "metadata": {},
   "outputs": [],
   "source": [
    "# Import the necessary libraries\n",
    "import pandas as pd\n",
    "import numpy as np\n",
    "import matplotlib.pyplot as plt"
   ]
  },
  {
   "cell_type": "markdown",
   "id": "9840b4db",
   "metadata": {},
   "source": [
    "# Data Preparation"
   ]
  },
  {
   "cell_type": "code",
   "execution_count": 2,
   "id": "231742af",
   "metadata": {},
   "outputs": [
    {
     "data": {
      "text/html": [
       "<div>\n",
       "<style scoped>\n",
       "    .dataframe tbody tr th:only-of-type {\n",
       "        vertical-align: middle;\n",
       "    }\n",
       "\n",
       "    .dataframe tbody tr th {\n",
       "        vertical-align: top;\n",
       "    }\n",
       "\n",
       "    .dataframe thead th {\n",
       "        text-align: right;\n",
       "    }\n",
       "</style>\n",
       "<table border=\"1\" class=\"dataframe\">\n",
       "  <thead>\n",
       "    <tr style=\"text-align: right;\">\n",
       "      <th></th>\n",
       "      <th>CulmenLength</th>\n",
       "      <th>CulmenDepth</th>\n",
       "      <th>FlipperLength</th>\n",
       "      <th>BodyMass</th>\n",
       "      <th>Species</th>\n",
       "    </tr>\n",
       "  </thead>\n",
       "  <tbody>\n",
       "    <tr>\n",
       "      <th>0</th>\n",
       "      <td>39.1</td>\n",
       "      <td>18.7</td>\n",
       "      <td>181.0</td>\n",
       "      <td>3750.0</td>\n",
       "      <td>0</td>\n",
       "    </tr>\n",
       "    <tr>\n",
       "      <th>1</th>\n",
       "      <td>39.5</td>\n",
       "      <td>17.4</td>\n",
       "      <td>186.0</td>\n",
       "      <td>3800.0</td>\n",
       "      <td>0</td>\n",
       "    </tr>\n",
       "    <tr>\n",
       "      <th>2</th>\n",
       "      <td>40.3</td>\n",
       "      <td>18.0</td>\n",
       "      <td>195.0</td>\n",
       "      <td>3250.0</td>\n",
       "      <td>0</td>\n",
       "    </tr>\n",
       "    <tr>\n",
       "      <th>3</th>\n",
       "      <td>36.7</td>\n",
       "      <td>19.3</td>\n",
       "      <td>193.0</td>\n",
       "      <td>3450.0</td>\n",
       "      <td>0</td>\n",
       "    </tr>\n",
       "    <tr>\n",
       "      <th>4</th>\n",
       "      <td>39.3</td>\n",
       "      <td>20.6</td>\n",
       "      <td>190.0</td>\n",
       "      <td>3650.0</td>\n",
       "      <td>0</td>\n",
       "    </tr>\n",
       "  </tbody>\n",
       "</table>\n",
       "</div>"
      ],
      "text/plain": [
       "   CulmenLength  CulmenDepth  FlipperLength  BodyMass  Species\n",
       "0          39.1         18.7          181.0    3750.0        0\n",
       "1          39.5         17.4          186.0    3800.0        0\n",
       "2          40.3         18.0          195.0    3250.0        0\n",
       "3          36.7         19.3          193.0    3450.0        0\n",
       "4          39.3         20.6          190.0    3650.0        0"
      ]
     },
     "execution_count": 2,
     "metadata": {},
     "output_type": "execute_result"
    }
   ],
   "source": [
    "data = pd.read_csv(\"penguins.csv\")\n",
    "data.head()"
   ]
  },
  {
   "cell_type": "code",
   "execution_count": 3,
   "id": "24287548",
   "metadata": {},
   "outputs": [
    {
     "data": {
      "text/plain": [
       "(343, 5)"
      ]
     },
     "execution_count": 3,
     "metadata": {},
     "output_type": "execute_result"
    }
   ],
   "source": [
    "data.shape"
   ]
  },
  {
   "cell_type": "code",
   "execution_count": 4,
   "id": "b7e6fe95",
   "metadata": {},
   "outputs": [],
   "source": [
    "# Create a copy of the dataset\n",
    "penguin_data = data.copy()"
   ]
  },
  {
   "cell_type": "markdown",
   "id": "4c229537",
   "metadata": {},
   "source": [
    "Check the missing values"
   ]
  },
  {
   "cell_type": "code",
   "execution_count": 5,
   "id": "5a025228",
   "metadata": {},
   "outputs": [
    {
     "data": {
      "text/plain": [
       "CulmenLength     1\n",
       "CulmenDepth      1\n",
       "FlipperLength    1\n",
       "BodyMass         1\n",
       "Species          0\n",
       "dtype: int64"
      ]
     },
     "execution_count": 5,
     "metadata": {},
     "output_type": "execute_result"
    }
   ],
   "source": [
    "data.isnull().sum()"
   ]
  },
  {
   "cell_type": "markdown",
   "id": "835be3c4",
   "metadata": {},
   "source": [
    "We will discard the rows with empyty inputs before heading to analysis."
   ]
  },
  {
   "cell_type": "code",
   "execution_count": 6,
   "id": "80d60890",
   "metadata": {},
   "outputs": [],
   "source": [
    "data = data.dropna()"
   ]
  },
  {
   "cell_type": "code",
   "execution_count": 7,
   "id": "89774c2d",
   "metadata": {},
   "outputs": [
    {
     "data": {
      "text/plain": [
       "CulmenLength     0\n",
       "CulmenDepth      0\n",
       "FlipperLength    0\n",
       "BodyMass         0\n",
       "Species          0\n",
       "dtype: int64"
      ]
     },
     "execution_count": 7,
     "metadata": {},
     "output_type": "execute_result"
    }
   ],
   "source": [
    "data.isnull().sum()"
   ]
  },
  {
   "cell_type": "markdown",
   "id": "218b5953",
   "metadata": {},
   "source": [
    "**Note:** There are various ways of handling missing data rather than simply deleting it. However, there is only one empty row that we can easily remove it without lossing much infomation."
   ]
  },
  {
   "cell_type": "markdown",
   "id": "b4e92886",
   "metadata": {},
   "source": [
    "Check the numerical and categorical features in the dataset"
   ]
  },
  {
   "cell_type": "code",
   "execution_count": 8,
   "id": "8df84a1e",
   "metadata": {},
   "outputs": [
    {
     "name": "stdout",
     "output_type": "stream",
     "text": [
      "<class 'pandas.core.frame.DataFrame'>\n",
      "Int64Index: 342 entries, 0 to 342\n",
      "Data columns (total 5 columns):\n",
      " #   Column         Non-Null Count  Dtype  \n",
      "---  ------         --------------  -----  \n",
      " 0   CulmenLength   342 non-null    float64\n",
      " 1   CulmenDepth    342 non-null    float64\n",
      " 2   FlipperLength  342 non-null    float64\n",
      " 3   BodyMass       342 non-null    float64\n",
      " 4   Species        342 non-null    int64  \n",
      "dtypes: float64(4), int64(1)\n",
      "memory usage: 16.0 KB\n"
     ]
    }
   ],
   "source": [
    "data.info()"
   ]
  },
  {
   "cell_type": "markdown",
   "id": "47869e0e",
   "metadata": {},
   "source": [
    "All features are numerical, which is great! This means that we do not have to apply encoding to categorical features and increase the feature number."
   ]
  },
  {
   "cell_type": "code",
   "execution_count": 9,
   "id": "cc450669",
   "metadata": {},
   "outputs": [],
   "source": [
    "target_name = \"Species\"\n",
    "target = data[target_name]\n",
    "\n",
    "data = data.drop(columns=[target_name])"
   ]
  },
  {
   "cell_type": "markdown",
   "id": "b2b82411",
   "metadata": {},
   "source": [
    "## Feature Selection"
   ]
  },
  {
   "cell_type": "code",
   "execution_count": 10,
   "id": "bae49ede",
   "metadata": {},
   "outputs": [
    {
     "data": {
      "image/png": "[encoded data removed]",
      "text/plain": [
       "<Figure size 576x576 with 4 Axes>"
      ]
     },
     "metadata": {
      "needs_background": "light"
     },
     "output_type": "display_data"
    }
   ],
   "source": [
    "# Histogram view for the numerical features\n",
    "data.hist(bins=10, figsize=(8, 8), xrot=-45)\n",
    "plt.show()"
   ]
  },
  {
   "cell_type": "markdown",
   "id": "9362fb2c",
   "metadata": {},
   "source": [
    "The feature distributions is very well as they are similar to the Gaussian Distribution. We can advance to the analysis with all four features."
   ]
  },
  {
   "cell_type": "markdown",
   "id": "90eec85f",
   "metadata": {},
   "source": [
    "## Preprocessing"
   ]
  },
  {
   "cell_type": "markdown",
   "id": "bb0886f6",
   "metadata": {},
   "source": [
    "### Transforming numerical features using StandardScaler"
   ]
  },
  {
   "cell_type": "code",
   "execution_count": 11,
   "id": "e71768c9",
   "metadata": {},
   "outputs": [
    {
     "name": "stdout",
     "output_type": "stream",
     "text": [
      "Number of rows: 342\n"
     ]
    }
   ],
   "source": [
    "# Check the number of data points\n",
    "n_rows = data.shape[0]\n",
    "print(\"Number of rows:\", n_rows)"
   ]
  },
  {
   "cell_type": "code",
   "execution_count": 12,
   "id": "c9da33ca",
   "metadata": {},
   "outputs": [
    {
     "data": {
      "text/plain": [
       "0    151\n",
       "1    123\n",
       "2     68\n",
       "Name: Species, dtype: int64"
      ]
     },
     "execution_count": 12,
     "metadata": {},
     "output_type": "execute_result"
    }
   ],
   "source": [
    "# Check the class distributions of the target\n",
    "target.value_counts()"
   ]
  },
  {
   "cell_type": "markdown",
   "id": "7e9f1f91",
   "metadata": {},
   "source": [
    "We have three classes: 0, 1, 2. Each class refers to a specific penguin species."
   ]
  },
  {
   "cell_type": "code",
   "execution_count": 13,
   "id": "1df58cc9",
   "metadata": {},
   "outputs": [
    {
     "name": "stdout",
     "output_type": "stream",
     "text": [
      "Training size: 222\n",
      "Test size: 120\n"
     ]
    }
   ],
   "source": [
    "# First, split data into training and test sets\n",
    "\n",
    "X = data.values\n",
    "y = target.values\n",
    "\n",
    "# Split the data into training and test sets\n",
    "from sklearn.model_selection import train_test_split\n",
    "\n",
    "X_train, X_test, y_train, y_test = train_test_split(X, y, test_size=0.35, \n",
    "                                                    shuffle=True, random_state=42)\n",
    "\n",
    "print(\"Training size:\", X_train.shape[0])\n",
    "print(\"Test size:\", X_test.shape[0])"
   ]
  },
  {
   "cell_type": "code",
   "execution_count": 14,
   "id": "f70540ea",
   "metadata": {},
   "outputs": [],
   "source": [
    "# Scale the numerical features\n",
    "from sklearn.preprocessing import StandardScaler\n",
    "scaler = StandardScaler()\n",
    "X_train_scaled = scaler.fit_transform(X_train)\n",
    "X_test_scaled = scaler.transform(X_test)"
   ]
  },
  {
   "cell_type": "code",
   "execution_count": 15,
   "id": "cb7d26f3",
   "metadata": {},
   "outputs": [
    {
     "data": {
      "text/plain": [
       "array([[  58. ,   17.8,  181. , 3700. ],\n",
       "       [  49.5,   19. ,  200. , 3800. ],\n",
       "       [  40.6,   18.8,  193. , 3800. ],\n",
       "       [  43.5,   14.2,  220. , 4700. ],\n",
       "       [  37.8,   17.3,  180. , 3700. ]])"
      ]
     },
     "execution_count": 15,
     "metadata": {},
     "output_type": "execute_result"
    }
   ],
   "source": [
    "X_train[:5]"
   ]
  },
  {
   "cell_type": "code",
   "execution_count": 16,
   "id": "f59e7994",
   "metadata": {},
   "outputs": [
    {
     "data": {
      "text/plain": [
       "array([[ 2.58015275,  0.3529542 , -1.42134396, -0.64151314],\n",
       "       [ 1.00725483,  0.97033437, -0.08758894, -0.51945107],\n",
       "       [-0.63966183,  0.86743767, -0.57897237, -0.51945107],\n",
       "       [-0.10302606, -1.4991863 ,  1.31636372,  0.57910754],\n",
       "       [-1.15779291,  0.09571247, -1.4915416 , -0.64151314]])"
      ]
     },
     "execution_count": 16,
     "metadata": {},
     "output_type": "execute_result"
    }
   ],
   "source": [
    "X_train_scaled[:5]"
   ]
  },
  {
   "cell_type": "markdown",
   "id": "0790b9ab",
   "metadata": {},
   "source": [
    "# Non-Parametric Classification: K-Nearest Neighbor Classifier "
   ]
  },
  {
   "cell_type": "markdown",
   "id": "3ffb7ca9",
   "metadata": {},
   "source": [
    "We will analyze the performance of K-NN classifier with several numbers of neighbors. This way, we can observe the relationship between the model's complexity and generalization performance."
   ]
  },
  {
   "cell_type": "code",
   "execution_count": 17,
   "id": "06481aad",
   "metadata": {},
   "outputs": [],
   "source": [
    "from sklearn.neighbors import KNeighborsClassifier"
   ]
  },
  {
   "cell_type": "code",
   "execution_count": 18,
   "id": "a051146a",
   "metadata": {},
   "outputs": [
    {
     "name": "stdout",
     "output_type": "stream",
     "text": [
      "Accuracy score of the K-NN with n=1: 0.992\n",
      "Accuracy score of the K-NN with n=2: 0.992\n",
      "Accuracy score of the K-NN with n=3: 0.983\n",
      "Accuracy score of the K-NN with n=4: 0.992\n",
      "Accuracy score of the K-NN with n=5: 1.000\n",
      "Accuracy score of the K-NN with n=15: 0.983\n",
      "Accuracy score of the K-NN with n=25: 0.983\n",
      "Accuracy score of the K-NN with n=50: 0.983\n",
      "Accuracy score of the K-NN with n=75: 0.958\n",
      "Accuracy score of the K-NN with n=100: 0.883\n"
     ]
    }
   ],
   "source": [
    "# Set the neighborhood values for testing:\n",
    "neighbors = [1, 2, 3, 4, 5, 15, 25, 50, 75, 100]\n",
    "\n",
    "accuracy_list = list()\n",
    "\n",
    "for n in neighbors:\n",
    "    # Define a model\n",
    "    knn = KNeighborsClassifier(n_neighbors=n)\n",
    "    # Fit the training set\n",
    "    knn.fit(X_train_scaled, y_train)\n",
    "    # Make predictions over the test set\n",
    "    predictions = knn.predict(X_test_scaled)\n",
    "    # Calculate the accuracy score\n",
    "    accuracy = np.sum(y_test==predictions) / y_test.shape[0]\n",
    "    accuracy_list.append(accuracy)\n",
    "    print(f\"Accuracy score of the K-NN with n={n}: {accuracy:.3f}\")"
   ]
  },
  {
   "cell_type": "code",
   "execution_count": 19,
   "id": "91988b1c",
   "metadata": {
    "scrolled": true
   },
   "outputs": [
    {
     "data": {
      "image/png": "[encoded data removed]",
      "text/plain": [
       "<Figure size 432x288 with 1 Axes>"
      ]
     },
     "metadata": {
      "needs_background": "light"
     },
     "output_type": "display_data"
    }
   ],
   "source": [
    "# Visualize the results\n",
    "plt.figure(figsize=(6, 4))\n",
    "plt.plot(neighbors, accuracy_list, color=\"green\")\n",
    "plt.title(\"K vs. Accuracy Score\")\n",
    "plt.xlabel(\"Number of Neighbors (K)\")\n",
    "plt.ylabel(\"Accuracy\")\n",
    "plt.show()"
   ]
  },
  {
   "cell_type": "markdown",
   "id": "cb3d128c",
   "metadata": {},
   "source": [
    "**Discussion:** \n",
    "\\\n",
    "\\\n",
    "(1) The accuracy score decreases as we decrease the number of neighbors the model considers in making predictions. Model complexity is an essential topic in machine learning. When the number of neighbors is small, the model learns the parameter of each specific instance without generalizing the dataset and creating groups with similar patterns (over-fitting). On the other hand, when the number of neighbors is too high, the model overgeneralizes the correlation between features and makes random-like predictions (under-fitting). \n",
    "\\\n",
    "\\\n",
    "(2) Another important point is that the accuracy score of the model is too high for every number of neighbors. We have already seen that the feature distributions are satisfying with being close to the Gaussian Distributions. This might be a perfect explanation for such high accuracy scores. Plus, the features might be particular to certain species. It looks like the four features, **CulmenLength, CulmenDepth, FlipperLength, and BodyMass**, are highly sufficient to classify penguins. Therefore, the discriminant function (K-NN Classifier) accurately predicted the classes. We can also say that the class margins to the discriminant's hyperspace are highly distant by looking at the slight variation in the accuracy scores of the models with a different number of neighbors. Therefore, the classifier easily distinguishes the species."
   ]
  },
  {
   "cell_type": "markdown",
   "id": "5aec5499",
   "metadata": {},
   "source": [
    "# END"
   ]
  }
 ],
 "metadata": {
  "kernelspec": {
   "display_name": "Python 3 (ipykernel)",
   "language": "python",
   "name": "python3"
  },
  "language_info": {
   "codemirror_mode": {
    "name": "ipython",
    "version": 3
   },
   "file_extension": ".py",
   "mimetype": "text/x-python",
   "name": "python",
   "nbconvert_exporter": "python",
   "pygments_lexer": "ipython3",
   "version": "3.7.13"
  }
 },
 "nbformat": 4,
 "nbformat_minor": 5
}
