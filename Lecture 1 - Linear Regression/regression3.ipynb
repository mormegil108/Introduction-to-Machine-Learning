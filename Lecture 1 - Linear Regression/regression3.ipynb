{
 "cells": [
  {
   "cell_type": "markdown",
   "id": "e694f79d",
   "metadata": {},
   "source": [
    "# Introduction to Machine Learning\n",
    "## Lecture 1 - Regression\n",
    "### Notebook 3: Complete Regression Analysis on Student Grade Prediction\n",
    "Prapared by: Said Bolluk"
   ]
  },
  {
   "cell_type": "code",
   "execution_count": 1,
   "id": "98a3e5c4",
   "metadata": {},
   "outputs": [],
   "source": [
    "# Import the necessary libraries\n",
    "import pandas as pd\n",
    "import numpy as np\n",
    "import matplotlib.pyplot as plt\n",
    "import seaborn as sns"
   ]
  },
  {
   "cell_type": "markdown",
   "id": "c6c4fb26",
   "metadata": {},
   "source": [
    "# Data Preparation"
   ]
  },
  {
   "cell_type": "markdown",
   "id": "d9170795",
   "metadata": {},
   "source": [
    "Use the following link to access detailed information about the attributes of the dataset.\n",
    "https://www.kaggle.com/datasets/dipam7/student-grade-prediction"
   ]
  },
  {
   "cell_type": "code",
   "execution_count": 2,
   "id": "78372526",
   "metadata": {},
   "outputs": [
    {
     "data": {
      "text/html": [
       "<div>\n",
       "<style scoped>\n",
       "    .dataframe tbody tr th:only-of-type {\n",
       "        vertical-align: middle;\n",
       "    }\n",
       "\n",
       "    .dataframe tbody tr th {\n",
       "        vertical-align: top;\n",
       "    }\n",
       "\n",
       "    .dataframe thead th {\n",
       "        text-align: right;\n",
       "    }\n",
       "</style>\n",
       "<table border=\"1\" class=\"dataframe\">\n",
       "  <thead>\n",
       "    <tr style=\"text-align: right;\">\n",
       "      <th></th>\n",
       "      <th>school</th>\n",
       "      <th>sex</th>\n",
       "      <th>age</th>\n",
       "      <th>address</th>\n",
       "      <th>famsize</th>\n",
       "      <th>Pstatus</th>\n",
       "      <th>Medu</th>\n",
       "      <th>Fedu</th>\n",
       "      <th>Mjob</th>\n",
       "      <th>Fjob</th>\n",
       "      <th>...</th>\n",
       "      <th>famrel</th>\n",
       "      <th>freetime</th>\n",
       "      <th>goout</th>\n",
       "      <th>Dalc</th>\n",
       "      <th>Walc</th>\n",
       "      <th>health</th>\n",
       "      <th>absences</th>\n",
       "      <th>G1</th>\n",
       "      <th>G2</th>\n",
       "      <th>G3</th>\n",
       "    </tr>\n",
       "  </thead>\n",
       "  <tbody>\n",
       "    <tr>\n",
       "      <th>0</th>\n",
       "      <td>GP</td>\n",
       "      <td>F</td>\n",
       "      <td>18</td>\n",
       "      <td>U</td>\n",
       "      <td>GT3</td>\n",
       "      <td>A</td>\n",
       "      <td>4</td>\n",
       "      <td>4</td>\n",
       "      <td>at_home</td>\n",
       "      <td>teacher</td>\n",
       "      <td>...</td>\n",
       "      <td>4</td>\n",
       "      <td>3</td>\n",
       "      <td>4</td>\n",
       "      <td>1</td>\n",
       "      <td>1</td>\n",
       "      <td>3</td>\n",
       "      <td>6</td>\n",
       "      <td>5</td>\n",
       "      <td>6</td>\n",
       "      <td>6</td>\n",
       "    </tr>\n",
       "    <tr>\n",
       "      <th>1</th>\n",
       "      <td>GP</td>\n",
       "      <td>F</td>\n",
       "      <td>17</td>\n",
       "      <td>U</td>\n",
       "      <td>GT3</td>\n",
       "      <td>T</td>\n",
       "      <td>1</td>\n",
       "      <td>1</td>\n",
       "      <td>at_home</td>\n",
       "      <td>other</td>\n",
       "      <td>...</td>\n",
       "      <td>5</td>\n",
       "      <td>3</td>\n",
       "      <td>3</td>\n",
       "      <td>1</td>\n",
       "      <td>1</td>\n",
       "      <td>3</td>\n",
       "      <td>4</td>\n",
       "      <td>5</td>\n",
       "      <td>5</td>\n",
       "      <td>6</td>\n",
       "    </tr>\n",
       "    <tr>\n",
       "      <th>2</th>\n",
       "      <td>GP</td>\n",
       "      <td>F</td>\n",
       "      <td>15</td>\n",
       "      <td>U</td>\n",
       "      <td>LE3</td>\n",
       "      <td>T</td>\n",
       "      <td>1</td>\n",
       "      <td>1</td>\n",
       "      <td>at_home</td>\n",
       "      <td>other</td>\n",
       "      <td>...</td>\n",
       "      <td>4</td>\n",
       "      <td>3</td>\n",
       "      <td>2</td>\n",
       "      <td>2</td>\n",
       "      <td>3</td>\n",
       "      <td>3</td>\n",
       "      <td>10</td>\n",
       "      <td>7</td>\n",
       "      <td>8</td>\n",
       "      <td>10</td>\n",
       "    </tr>\n",
       "    <tr>\n",
       "      <th>3</th>\n",
       "      <td>GP</td>\n",
       "      <td>F</td>\n",
       "      <td>15</td>\n",
       "      <td>U</td>\n",
       "      <td>GT3</td>\n",
       "      <td>T</td>\n",
       "      <td>4</td>\n",
       "      <td>2</td>\n",
       "      <td>health</td>\n",
       "      <td>services</td>\n",
       "      <td>...</td>\n",
       "      <td>3</td>\n",
       "      <td>2</td>\n",
       "      <td>2</td>\n",
       "      <td>1</td>\n",
       "      <td>1</td>\n",
       "      <td>5</td>\n",
       "      <td>2</td>\n",
       "      <td>15</td>\n",
       "      <td>14</td>\n",
       "      <td>15</td>\n",
       "    </tr>\n",
       "    <tr>\n",
       "      <th>4</th>\n",
       "      <td>GP</td>\n",
       "      <td>F</td>\n",
       "      <td>16</td>\n",
       "      <td>U</td>\n",
       "      <td>GT3</td>\n",
       "      <td>T</td>\n",
       "      <td>3</td>\n",
       "      <td>3</td>\n",
       "      <td>other</td>\n",
       "      <td>other</td>\n",
       "      <td>...</td>\n",
       "      <td>4</td>\n",
       "      <td>3</td>\n",
       "      <td>2</td>\n",
       "      <td>1</td>\n",
       "      <td>2</td>\n",
       "      <td>5</td>\n",
       "      <td>4</td>\n",
       "      <td>6</td>\n",
       "      <td>10</td>\n",
       "      <td>10</td>\n",
       "    </tr>\n",
       "  </tbody>\n",
       "</table>\n",
       "<p>5 rows × 33 columns</p>\n",
       "</div>"
      ],
      "text/plain": [
       "  school sex  age address famsize Pstatus  Medu  Fedu     Mjob      Fjob  ...  \\\n",
       "0     GP   F   18       U     GT3       A     4     4  at_home   teacher  ...   \n",
       "1     GP   F   17       U     GT3       T     1     1  at_home     other  ...   \n",
       "2     GP   F   15       U     LE3       T     1     1  at_home     other  ...   \n",
       "3     GP   F   15       U     GT3       T     4     2   health  services  ...   \n",
       "4     GP   F   16       U     GT3       T     3     3    other     other  ...   \n",
       "\n",
       "  famrel freetime  goout  Dalc  Walc health absences  G1  G2  G3  \n",
       "0      4        3      4     1     1      3        6   5   6   6  \n",
       "1      5        3      3     1     1      3        4   5   5   6  \n",
       "2      4        3      2     2     3      3       10   7   8  10  \n",
       "3      3        2      2     1     1      5        2  15  14  15  \n",
       "4      4        3      2     1     2      5        4   6  10  10  \n",
       "\n",
       "[5 rows x 33 columns]"
      ]
     },
     "execution_count": 2,
     "metadata": {},
     "output_type": "execute_result"
    }
   ],
   "source": [
    "data = pd.read_csv(\"../datasets/student-mat.csv\")\n",
    "data.head()"
   ]
  },
  {
   "cell_type": "code",
   "execution_count": 31,
   "id": "a141155b",
   "metadata": {},
   "outputs": [
    {
     "data": {
      "text/plain": [
       "(395, 12)"
      ]
     },
     "execution_count": 31,
     "metadata": {},
     "output_type": "execute_result"
    }
   ],
   "source": [
    "data.shape"
   ]
  },
  {
   "cell_type": "code",
   "execution_count": 3,
   "id": "8fe6e626",
   "metadata": {},
   "outputs": [
    {
     "name": "stdout",
     "output_type": "stream",
     "text": [
      "<class 'pandas.core.frame.DataFrame'>\n",
      "RangeIndex: 395 entries, 0 to 394\n",
      "Data columns (total 33 columns):\n",
      " #   Column      Non-Null Count  Dtype \n",
      "---  ------      --------------  ----- \n",
      " 0   school      395 non-null    object\n",
      " 1   sex         395 non-null    object\n",
      " 2   age         395 non-null    int64 \n",
      " 3   address     395 non-null    object\n",
      " 4   famsize     395 non-null    object\n",
      " 5   Pstatus     395 non-null    object\n",
      " 6   Medu        395 non-null    int64 \n",
      " 7   Fedu        395 non-null    int64 \n",
      " 8   Mjob        395 non-null    object\n",
      " 9   Fjob        395 non-null    object\n",
      " 10  reason      395 non-null    object\n",
      " 11  guardian    395 non-null    object\n",
      " 12  traveltime  395 non-null    int64 \n",
      " 13  studytime   395 non-null    int64 \n",
      " 14  failures    395 non-null    int64 \n",
      " 15  schoolsup   395 non-null    object\n",
      " 16  famsup      395 non-null    object\n",
      " 17  paid        395 non-null    object\n",
      " 18  activities  395 non-null    object\n",
      " 19  nursery     395 non-null    object\n",
      " 20  higher      395 non-null    object\n",
      " 21  internet    395 non-null    object\n",
      " 22  romantic    395 non-null    object\n",
      " 23  famrel      395 non-null    int64 \n",
      " 24  freetime    395 non-null    int64 \n",
      " 25  goout       395 non-null    int64 \n",
      " 26  Dalc        395 non-null    int64 \n",
      " 27  Walc        395 non-null    int64 \n",
      " 28  health      395 non-null    int64 \n",
      " 29  absences    395 non-null    int64 \n",
      " 30  G1          395 non-null    int64 \n",
      " 31  G2          395 non-null    int64 \n",
      " 32  G3          395 non-null    int64 \n",
      "dtypes: int64(16), object(17)\n",
      "memory usage: 102.0+ KB\n"
     ]
    }
   ],
   "source": [
    "data.info()"
   ]
  },
  {
   "cell_type": "markdown",
   "id": "c62d9ad9",
   "metadata": {},
   "source": [
    "Remove some categorical columns that are intuitively considered redundant to reduce the cardinality in data and improve the regression. Note that, discarding these columns will cause information loss. However, considering the small size of the dataset, this action should be taken. Plus, the features **G1 and G2** will also be discarded since the feature **G3**, the final grade, will be our only target variable."
   ]
  },
  {
   "cell_type": "code",
   "execution_count": 4,
   "id": "b7e0c93d",
   "metadata": {},
   "outputs": [],
   "source": [
    "redundants = [\n",
    "    \"school\", \"address\", \"famsize\", \"Mjob\", \"Fjob\", \"reason\", \n",
    "    \"guardian\", \"schoolsup\", \"famsup\", \"activities\", \"nursery\", \n",
    "    \"Dalc\", \"Walc\",\n",
    "]"
   ]
  },
  {
   "cell_type": "markdown",
   "id": "d6720c1c",
   "metadata": {},
   "source": [
    "Create a copy of the dataset before proceeding"
   ]
  },
  {
   "cell_type": "code",
   "execution_count": 5,
   "id": "819f0ea6",
   "metadata": {},
   "outputs": [],
   "source": [
    "student_data = data.copy()"
   ]
  },
  {
   "cell_type": "code",
   "execution_count": 6,
   "id": "0d97bc37",
   "metadata": {},
   "outputs": [
    {
     "data": {
      "text/plain": [
       "(395, 33)"
      ]
     },
     "execution_count": 6,
     "metadata": {},
     "output_type": "execute_result"
    }
   ],
   "source": [
    "data.shape"
   ]
  },
  {
   "cell_type": "code",
   "execution_count": 7,
   "id": "867c4da7",
   "metadata": {},
   "outputs": [],
   "source": [
    "data = data.drop(columns=redundants)"
   ]
  },
  {
   "cell_type": "code",
   "execution_count": 8,
   "id": "d13d58a9",
   "metadata": {},
   "outputs": [
    {
     "data": {
      "text/plain": [
       "(395, 20)"
      ]
     },
     "execution_count": 8,
     "metadata": {},
     "output_type": "execute_result"
    }
   ],
   "source": [
    "data.shape"
   ]
  },
  {
   "cell_type": "code",
   "execution_count": 9,
   "id": "f5625620",
   "metadata": {},
   "outputs": [],
   "source": [
    "# Assign the feature set and the target variable\n",
    "target_name = \"G3\"\n",
    "target = data[target_name]\n",
    "\n",
    "data = data.drop(columns=[target_name])"
   ]
  },
  {
   "cell_type": "code",
   "execution_count": 10,
   "id": "6a42ffc6",
   "metadata": {},
   "outputs": [],
   "source": [
    "# Separate the categorical and numerical columns\n",
    "\n",
    "from sklearn.compose import make_column_selector as selector\n",
    "\n",
    "numerical_columns_selector = selector(dtype_exclude=object)\n",
    "categorical_columns_selector = selector(dtype_include=object)\n",
    "\n",
    "numerical_columns = numerical_columns_selector(data)\n",
    "categorical_columns = categorical_columns_selector(data)"
   ]
  },
  {
   "cell_type": "code",
   "execution_count": 11,
   "id": "e3330215",
   "metadata": {},
   "outputs": [
    {
     "name": "stdout",
     "output_type": "stream",
     "text": [
      "Numerical columns:  ['age', 'Medu', 'Fedu', 'traveltime', 'studytime', 'failures', 'famrel', 'freetime', 'goout', 'health', 'absences', 'G1', 'G2']\n",
      "Categorical columns: , ['sex', 'Pstatus', 'paid', 'higher', 'internet', 'romantic']\n"
     ]
    }
   ],
   "source": [
    "print(\"Numerical columns: \", numerical_columns)\n",
    "print(\"Categorical columns: ,\", categorical_columns)"
   ]
  },
  {
   "cell_type": "markdown",
   "id": "678f0f30",
   "metadata": {},
   "source": [
    "## Feature Selection"
   ]
  },
  {
   "cell_type": "markdown",
   "id": "06ff75b2",
   "metadata": {},
   "source": [
    "1) Categorical Features"
   ]
  },
  {
   "cell_type": "code",
   "execution_count": 12,
   "id": "1a58a479",
   "metadata": {},
   "outputs": [
    {
     "data": {
      "image/png": "[encoded data removed]",
      "text/plain": [
       "<Figure size 288x288 with 1 Axes>"
      ]
     },
     "metadata": {
      "needs_background": "light"
     },
     "output_type": "display_data"
    },
    {
     "data": {
      "image/png": "[encoded data removed]",
      "text/plain": [
       "<Figure size 288x288 with 1 Axes>"
      ]
     },
     "metadata": {
      "needs_background": "light"
     },
     "output_type": "display_data"
    },
    {
     "data": {
      "image/png": "[encoded data removed]",
      "text/plain": [
       "<Figure size 288x288 with 1 Axes>"
      ]
     },
     "metadata": {
      "needs_background": "light"
     },
     "output_type": "display_data"
    },
    {
     "data": {
      "image/png": "[encoded data removed]",
      "text/plain": [
       "<Figure size 288x288 with 1 Axes>"
      ]
     },
     "metadata": {
      "needs_background": "light"
     },
     "output_type": "display_data"
    },
    {
     "data": {
      "image/png": "[encoded data removed]",
      "text/plain": [
       "<Figure size 288x288 with 1 Axes>"
      ]
     },
     "metadata": {
      "needs_background": "light"
     },
     "output_type": "display_data"
    },
    {
     "data": {
      "image/png": "[encoded data removed]",
      "text/plain": [
       "<Figure size 288x288 with 1 Axes>"
      ]
     },
     "metadata": {
      "needs_background": "light"
     },
     "output_type": "display_data"
    }
   ],
   "source": [
    "# Observe the distribution of the categorical features\n",
    "for col in categorical_columns:\n",
    "    plt.figure(figsize=(4, 4))\n",
    "    plt.hist(data[col])\n",
    "    plt.title(col)\n",
    "    plt.show()"
   ]
  },
  {
   "cell_type": "markdown",
   "id": "c9b673dc",
   "metadata": {},
   "source": [
    "From the histogram plots above, wee see that the features **Pstatus, higher, and internet** are highly imbalanced. To further improve the regression efficiency, these columns will also be removed although this action might cause information loss. "
   ]
  },
  {
   "cell_type": "code",
   "execution_count": 13,
   "id": "a68745b3",
   "metadata": {},
   "outputs": [],
   "source": [
    "cat_redundants = [\n",
    "    \"Pstatus\",\n",
    "    \"higher\",\n",
    "    \"internet\",\n",
    "]\n",
    "\n",
    "cat_determinants = [\n",
    "    \"sex\", \n",
    "    \"paid\", \n",
    "    \"romantic\",\n",
    "]"
   ]
  },
  {
   "cell_type": "markdown",
   "id": "56bcd825",
   "metadata": {},
   "source": [
    "2) Numerical Features"
   ]
  },
  {
   "cell_type": "code",
   "execution_count": 14,
   "id": "24758540",
   "metadata": {},
   "outputs": [
    {
     "data": {
      "image/png": "[encoded data removed]",
      "text/plain": [
       "<Figure size 720x720 with 16 Axes>"
      ]
     },
     "metadata": {
      "needs_background": "light"
     },
     "output_type": "display_data"
    }
   ],
   "source": [
    "# Histogram view for the numerical features\n",
    "data.hist(bins=20, figsize=(10, 10), xrot=-45)\n",
    "plt.show()"
   ]
  },
  {
   "cell_type": "markdown",
   "id": "7e59cd42",
   "metadata": {},
   "source": [
    "Distribution of the numerical features seems fine. We can proceed with all of them in regression."
   ]
  },
  {
   "cell_type": "markdown",
   "id": "e15fed6a",
   "metadata": {},
   "source": [
    "Analyze the correlation between the numerical features and the target to decide the essential varibles used in regression."
   ]
  },
  {
   "cell_type": "code",
   "execution_count": 15,
   "id": "f9007c43",
   "metadata": {},
   "outputs": [
    {
     "data": {
      "image/png": "[encoded data removed]",
      "text/plain": [
       "<Figure size 432x432 with 2 Axes>"
      ]
     },
     "metadata": {
      "needs_background": "light"
     },
     "output_type": "display_data"
    }
   ],
   "source": [
    "# Visualize the correlation\n",
    "fig, ax = plt.subplots(figsize=(6, 6))\n",
    "sns.heatmap(student_data.corr(), ax=ax)\n",
    "plt.show()"
   ]
  },
  {
   "cell_type": "code",
   "execution_count": 16,
   "id": "0620e0a7",
   "metadata": {},
   "outputs": [
    {
     "name": "stdout",
     "output_type": "stream",
     "text": [
      "Correlation with the target variable\n"
     ]
    },
    {
     "data": {
      "text/plain": [
       "G2            0.904868\n",
       "G1            0.801468\n",
       "failures      0.360415\n",
       "Medu          0.217147\n",
       "age           0.161579\n",
       "Fedu          0.152457\n",
       "goout         0.132791\n",
       "traveltime    0.117142\n",
       "studytime     0.097820\n",
       "health        0.061335\n",
       "Dalc          0.054660\n",
       "Walc          0.051939\n",
       "famrel        0.051363\n",
       "absences      0.034247\n",
       "freetime      0.011307\n",
       "Name: G3, dtype: float64"
      ]
     },
     "execution_count": 16,
     "metadata": {},
     "output_type": "execute_result"
    }
   ],
   "source": [
    "# Analyze the absolute correlation values\n",
    "corr = student_data.corr()\n",
    "print(\"Correlation with the target variable\")\n",
    "corr[\"G3\"].abs().sort_values(ascending=False)[1:]"
   ]
  },
  {
   "cell_type": "markdown",
   "id": "b13b3bd3",
   "metadata": {},
   "source": [
    "Here, we can define a threshold for the correlation. Our assumption is that the features having below the 0.10 absolute correlation (with 0.01 std.) cannot represent a student's grade. Therefore, we will continue with the following features as the determinants of the final grade: **G2, G1, failures, Medu, age, Fedu, goout, traveltime, studytime**."
   ]
  },
  {
   "cell_type": "code",
   "execution_count": 17,
   "id": "ebb2f228",
   "metadata": {},
   "outputs": [],
   "source": [
    "num_determinants = [\n",
    "    \"G2\", \"G1\", \"failures\", \"Medu\", \"age\", \n",
    "    \"Fedu\", \"goout\", \"traveltime\", \"studytime\", \n",
    "]\n",
    "\n",
    "num_redundants = [\n",
    "    \"health\", \"Dalc\", \"Walc\", \n",
    "    \"famrel\", \"absences\", \"freetime\",\n",
    "]"
   ]
  },
  {
   "cell_type": "code",
   "execution_count": 18,
   "id": "2386e92f",
   "metadata": {},
   "outputs": [
    {
     "name": "stdout",
     "output_type": "stream",
     "text": [
      "['sex', 'paid', 'romantic', 'G2', 'G1', 'failures', 'Medu', 'age', 'Fedu', 'goout', 'traveltime', 'studytime']\n"
     ]
    }
   ],
   "source": [
    "# Combine the determinant features from categorical and numerical sets\n",
    "determinants = cat_determinants + num_determinants\n",
    "print(determinants)"
   ]
  },
  {
   "cell_type": "code",
   "execution_count": 19,
   "id": "1dd8c900",
   "metadata": {},
   "outputs": [
    {
     "data": {
      "text/html": [
       "<div>\n",
       "<style scoped>\n",
       "    .dataframe tbody tr th:only-of-type {\n",
       "        vertical-align: middle;\n",
       "    }\n",
       "\n",
       "    .dataframe tbody tr th {\n",
       "        vertical-align: top;\n",
       "    }\n",
       "\n",
       "    .dataframe thead th {\n",
       "        text-align: right;\n",
       "    }\n",
       "</style>\n",
       "<table border=\"1\" class=\"dataframe\">\n",
       "  <thead>\n",
       "    <tr style=\"text-align: right;\">\n",
       "      <th></th>\n",
       "      <th>sex</th>\n",
       "      <th>paid</th>\n",
       "      <th>romantic</th>\n",
       "      <th>G2</th>\n",
       "      <th>G1</th>\n",
       "      <th>failures</th>\n",
       "      <th>Medu</th>\n",
       "      <th>age</th>\n",
       "      <th>Fedu</th>\n",
       "      <th>goout</th>\n",
       "      <th>traveltime</th>\n",
       "      <th>studytime</th>\n",
       "    </tr>\n",
       "  </thead>\n",
       "  <tbody>\n",
       "    <tr>\n",
       "      <th>0</th>\n",
       "      <td>F</td>\n",
       "      <td>no</td>\n",
       "      <td>no</td>\n",
       "      <td>6</td>\n",
       "      <td>5</td>\n",
       "      <td>0</td>\n",
       "      <td>4</td>\n",
       "      <td>18</td>\n",
       "      <td>4</td>\n",
       "      <td>4</td>\n",
       "      <td>2</td>\n",
       "      <td>2</td>\n",
       "    </tr>\n",
       "    <tr>\n",
       "      <th>1</th>\n",
       "      <td>F</td>\n",
       "      <td>no</td>\n",
       "      <td>no</td>\n",
       "      <td>5</td>\n",
       "      <td>5</td>\n",
       "      <td>0</td>\n",
       "      <td>1</td>\n",
       "      <td>17</td>\n",
       "      <td>1</td>\n",
       "      <td>3</td>\n",
       "      <td>1</td>\n",
       "      <td>2</td>\n",
       "    </tr>\n",
       "    <tr>\n",
       "      <th>2</th>\n",
       "      <td>F</td>\n",
       "      <td>yes</td>\n",
       "      <td>no</td>\n",
       "      <td>8</td>\n",
       "      <td>7</td>\n",
       "      <td>3</td>\n",
       "      <td>1</td>\n",
       "      <td>15</td>\n",
       "      <td>1</td>\n",
       "      <td>2</td>\n",
       "      <td>1</td>\n",
       "      <td>2</td>\n",
       "    </tr>\n",
       "    <tr>\n",
       "      <th>3</th>\n",
       "      <td>F</td>\n",
       "      <td>yes</td>\n",
       "      <td>yes</td>\n",
       "      <td>14</td>\n",
       "      <td>15</td>\n",
       "      <td>0</td>\n",
       "      <td>4</td>\n",
       "      <td>15</td>\n",
       "      <td>2</td>\n",
       "      <td>2</td>\n",
       "      <td>1</td>\n",
       "      <td>3</td>\n",
       "    </tr>\n",
       "    <tr>\n",
       "      <th>4</th>\n",
       "      <td>F</td>\n",
       "      <td>yes</td>\n",
       "      <td>no</td>\n",
       "      <td>10</td>\n",
       "      <td>6</td>\n",
       "      <td>0</td>\n",
       "      <td>3</td>\n",
       "      <td>16</td>\n",
       "      <td>3</td>\n",
       "      <td>2</td>\n",
       "      <td>1</td>\n",
       "      <td>2</td>\n",
       "    </tr>\n",
       "  </tbody>\n",
       "</table>\n",
       "</div>"
      ],
      "text/plain": [
       "  sex paid romantic  G2  G1  failures  Medu  age  Fedu  goout  traveltime  \\\n",
       "0   F   no       no   6   5         0     4   18     4      4           2   \n",
       "1   F   no       no   5   5         0     1   17     1      3           1   \n",
       "2   F  yes       no   8   7         3     1   15     1      2           1   \n",
       "3   F  yes      yes  14  15         0     4   15     2      2           1   \n",
       "4   F  yes       no  10   6         0     3   16     3      2           1   \n",
       "\n",
       "   studytime  \n",
       "0          2  \n",
       "1          2  \n",
       "2          2  \n",
       "3          3  \n",
       "4          2  "
      ]
     },
     "execution_count": 19,
     "metadata": {},
     "output_type": "execute_result"
    }
   ],
   "source": [
    "# Include only the determinants in the final data\n",
    "data = data[determinants]\n",
    "data.head()"
   ]
  },
  {
   "cell_type": "code",
   "execution_count": 20,
   "id": "d3630729",
   "metadata": {},
   "outputs": [
    {
     "name": "stdout",
     "output_type": "stream",
     "text": [
      "<class 'pandas.core.frame.DataFrame'>\n",
      "RangeIndex: 395 entries, 0 to 394\n",
      "Data columns (total 12 columns):\n",
      " #   Column      Non-Null Count  Dtype \n",
      "---  ------      --------------  ----- \n",
      " 0   sex         395 non-null    object\n",
      " 1   paid        395 non-null    object\n",
      " 2   romantic    395 non-null    object\n",
      " 3   G2          395 non-null    int64 \n",
      " 4   G1          395 non-null    int64 \n",
      " 5   failures    395 non-null    int64 \n",
      " 6   Medu        395 non-null    int64 \n",
      " 7   age         395 non-null    int64 \n",
      " 8   Fedu        395 non-null    int64 \n",
      " 9   goout       395 non-null    int64 \n",
      " 10  traveltime  395 non-null    int64 \n",
      " 11  studytime   395 non-null    int64 \n",
      "dtypes: int64(9), object(3)\n",
      "memory usage: 37.2+ KB\n"
     ]
    }
   ],
   "source": [
    "data.info()"
   ]
  },
  {
   "cell_type": "code",
   "execution_count": 32,
   "id": "99920a90",
   "metadata": {},
   "outputs": [
    {
     "data": {
      "text/plain": [
       "sex           0\n",
       "paid          0\n",
       "romantic      0\n",
       "G2            0\n",
       "G1            0\n",
       "failures      0\n",
       "Medu          0\n",
       "age           0\n",
       "Fedu          0\n",
       "goout         0\n",
       "traveltime    0\n",
       "studytime     0\n",
       "dtype: int64"
      ]
     },
     "execution_count": 32,
     "metadata": {},
     "output_type": "execute_result"
    }
   ],
   "source": [
    "data.isnull().sum()"
   ]
  },
  {
   "cell_type": "markdown",
   "id": "32398c24",
   "metadata": {},
   "source": [
    "## Preprocessing\n",
    "Here, we will apply encoding to the categorical features to transform them into one-hot numeric arrays, and scale the numerical features using Standard Scaler. This way, the categorical features can be introduced in the model as numeric values without loosing information when there is no hierarchy among the categories. Similarly, scaling procedure will help reduce the variability in the range of different numerical features. Let us say, for example, a feature is in between 1-100 where another one is in between 1e3-1e5. This might induce confusion to the training process. Therefore, scaling the numerical features might improve the results in most machine learning models."
   ]
  },
  {
   "cell_type": "markdown",
   "id": "5ea70356",
   "metadata": {},
   "source": [
    "### Encoding categorical features using OneHotEncoder\n",
    "Encoding the categorical variables help preventing model to assess them hierarchically. Suppose that the gender values are encoded as **one and zero for girls and boys**, respectively. If this values are introduced in to model as single numerical values, the model will consider a hierarchy as one is bigger than zero. Therefore, we create additional columns for each category in the categorical features and put ones to the relavant category and zeros to the others."
   ]
  },
  {
   "cell_type": "code",
   "execution_count": 33,
   "id": "53e6662b",
   "metadata": {},
   "outputs": [
    {
     "data": {
      "text/plain": [
       "385    F\n",
       "386    F\n",
       "387    F\n",
       "388    F\n",
       "389    F\n",
       "390    M\n",
       "391    M\n",
       "392    M\n",
       "393    M\n",
       "394    M\n",
       "Name: sex, dtype: object"
      ]
     },
     "execution_count": 33,
     "metadata": {},
     "output_type": "execute_result"
    }
   ],
   "source": [
    "data[\"sex\"].tail(10)"
   ]
  },
  {
   "cell_type": "code",
   "execution_count": 22,
   "id": "7b92e29a",
   "metadata": {},
   "outputs": [
    {
     "data": {
      "text/html": [
       "<div>\n",
       "<style scoped>\n",
       "    .dataframe tbody tr th:only-of-type {\n",
       "        vertical-align: middle;\n",
       "    }\n",
       "\n",
       "    .dataframe tbody tr th {\n",
       "        vertical-align: top;\n",
       "    }\n",
       "\n",
       "    .dataframe thead th {\n",
       "        text-align: right;\n",
       "    }\n",
       "</style>\n",
       "<table border=\"1\" class=\"dataframe\">\n",
       "  <thead>\n",
       "    <tr style=\"text-align: right;\">\n",
       "      <th></th>\n",
       "      <th>F</th>\n",
       "      <th>M</th>\n",
       "    </tr>\n",
       "  </thead>\n",
       "  <tbody>\n",
       "    <tr>\n",
       "      <th>385</th>\n",
       "      <td>1</td>\n",
       "      <td>0</td>\n",
       "    </tr>\n",
       "    <tr>\n",
       "      <th>386</th>\n",
       "      <td>1</td>\n",
       "      <td>0</td>\n",
       "    </tr>\n",
       "    <tr>\n",
       "      <th>387</th>\n",
       "      <td>1</td>\n",
       "      <td>0</td>\n",
       "    </tr>\n",
       "    <tr>\n",
       "      <th>388</th>\n",
       "      <td>1</td>\n",
       "      <td>0</td>\n",
       "    </tr>\n",
       "    <tr>\n",
       "      <th>389</th>\n",
       "      <td>1</td>\n",
       "      <td>0</td>\n",
       "    </tr>\n",
       "    <tr>\n",
       "      <th>390</th>\n",
       "      <td>0</td>\n",
       "      <td>1</td>\n",
       "    </tr>\n",
       "    <tr>\n",
       "      <th>391</th>\n",
       "      <td>0</td>\n",
       "      <td>1</td>\n",
       "    </tr>\n",
       "    <tr>\n",
       "      <th>392</th>\n",
       "      <td>0</td>\n",
       "      <td>1</td>\n",
       "    </tr>\n",
       "    <tr>\n",
       "      <th>393</th>\n",
       "      <td>0</td>\n",
       "      <td>1</td>\n",
       "    </tr>\n",
       "    <tr>\n",
       "      <th>394</th>\n",
       "      <td>0</td>\n",
       "      <td>1</td>\n",
       "    </tr>\n",
       "  </tbody>\n",
       "</table>\n",
       "</div>"
      ],
      "text/plain": [
       "     F  M\n",
       "385  1  0\n",
       "386  1  0\n",
       "387  1  0\n",
       "388  1  0\n",
       "389  1  0\n",
       "390  0  1\n",
       "391  0  1\n",
       "392  0  1\n",
       "393  0  1\n",
       "394  0  1"
      ]
     },
     "execution_count": 22,
     "metadata": {},
     "output_type": "execute_result"
    }
   ],
   "source": [
    "# Apply one-hot-encoding\n",
    "pd.get_dummies(data[\"sex\"]).tail(10)"
   ]
  },
  {
   "cell_type": "code",
   "execution_count": 23,
   "id": "768776c6",
   "metadata": {},
   "outputs": [
    {
     "data": {
      "text/plain": [
       "(395, 12)"
      ]
     },
     "execution_count": 23,
     "metadata": {},
     "output_type": "execute_result"
    }
   ],
   "source": [
    "data.shape"
   ]
  },
  {
   "cell_type": "code",
   "execution_count": 24,
   "id": "2f61caf9",
   "metadata": {},
   "outputs": [],
   "source": [
    "X = pd.get_dummies(data)"
   ]
  },
  {
   "cell_type": "code",
   "execution_count": 25,
   "id": "84477ef9",
   "metadata": {},
   "outputs": [
    {
     "data": {
      "text/plain": [
       "(395, 15)"
      ]
     },
     "execution_count": 25,
     "metadata": {},
     "output_type": "execute_result"
    }
   ],
   "source": [
    "X.shape"
   ]
  },
  {
   "cell_type": "markdown",
   "id": "3f759919",
   "metadata": {},
   "source": [
    "You can see that number of features is increased by three as three additional columns are added for each categorical feature."
   ]
  },
  {
   "cell_type": "markdown",
   "id": "596405da",
   "metadata": {},
   "source": [
    "### Transforming numerical features using StandardScaler\n",
    "First, split data into training and test sets."
   ]
  },
  {
   "cell_type": "code",
   "execution_count": 26,
   "id": "43a24c39",
   "metadata": {},
   "outputs": [
    {
     "name": "stdout",
     "output_type": "stream",
     "text": [
      "Training size: 296\n",
      "Test size: 99\n"
     ]
    }
   ],
   "source": [
    "X = X.values\n",
    "y = target.values\n",
    "\n",
    "# Split the data into training and test sets\n",
    "from sklearn.model_selection import train_test_split\n",
    "\n",
    "X_train, X_test, y_train, y_test = train_test_split(X, y, test_size=0.25, random_state=42)\n",
    "\n",
    "print(\"Training size:\", X_train.shape[0])\n",
    "print(\"Test size:\", X_test.shape[0])"
   ]
  },
  {
   "cell_type": "code",
   "execution_count": 27,
   "id": "47e6d613",
   "metadata": {},
   "outputs": [],
   "source": [
    "# Scale the numerical features\n",
    "from sklearn.preprocessing import StandardScaler\n",
    "\n",
    "scaler = StandardScaler()\n",
    "X_train_scaled = scaler.fit_transform(X_train)\n",
    "X_test_scaled = scaler.transform(X_test)"
   ]
  },
  {
   "cell_type": "markdown",
   "id": "ab8c348c",
   "metadata": {},
   "source": [
    "# REGRESSION"
   ]
  },
  {
   "cell_type": "code",
   "execution_count": 28,
   "id": "9b8099ca",
   "metadata": {},
   "outputs": [],
   "source": [
    "# Train the model\n",
    "from sklearn.linear_model import LinearRegression\n",
    "\n",
    "# Define a model\n",
    "regressor = LinearRegression()\n",
    "# Train the model over training set\n",
    "regressor.fit(X_train, y_train)\n",
    "\n",
    "# Validate the model over test set\n",
    "predictions = regressor.predict(X_test)"
   ]
  },
  {
   "cell_type": "code",
   "execution_count": 29,
   "id": "89683577",
   "metadata": {},
   "outputs": [
    {
     "name": "stdout",
     "output_type": "stream",
     "text": [
      "ACTUAL VALUES:\n",
      " [10 12  5 10  9 13 18  6  0 14 15  7 15 10 14  8  8 11 15  0 14 16 16  6\n",
      "  0 19 11 12 17 10  8 10 15 13  8  5  0 15 14  8  5 11 14  9 15 10 11 13\n",
      " 13 16]\n",
      "PREDICTED VALUES:\n",
      " [ 7. 12.  3.  9.  8. 13. 19.  7.  8. 13. 15.  6. 14. 12. 15.  8.  6. 11.\n",
      " 15.  9. 14. 17. 15.  5.  8. 20. 10.  9. 17. 12.  8.  8. 15. 13.  6.  4.\n",
      " -2. 15. 12.  8.  5. 11. 14.  8. 16. 10. 12. 13. 13. 16.]\n"
     ]
    }
   ],
   "source": [
    "# Compare some results\n",
    "\n",
    "print(\"ACTUAL VALUES:\\n\", y_test[:50])\n",
    "print(\"PREDICTED VALUES:\\n\", np.round(predictions[:50]))"
   ]
  },
  {
   "cell_type": "markdown",
   "id": "abe1bf9d",
   "metadata": {},
   "source": [
    "## Model Evaluation"
   ]
  },
  {
   "cell_type": "code",
   "execution_count": 30,
   "id": "90c22d75",
   "metadata": {},
   "outputs": [
    {
     "name": "stdout",
     "output_type": "stream",
     "text": [
      "MSE: 4.443\n",
      "R2: 0.807\n"
     ]
    }
   ],
   "source": [
    "from sklearn.metrics import mean_squared_error, r2_score\n",
    "\n",
    "mse = np.round(mean_squared_error(y_test, predictions), 3)\n",
    "print(\"MSE:\", mse)\n",
    "\n",
    "r2 = np.round(r2_score(y_test, predictions), 3)\n",
    "print(\"R2:\", r2)"
   ]
  },
  {
   "cell_type": "markdown",
   "id": "0eee813c",
   "metadata": {},
   "source": [
    "Results shows that more than 80% of the variance in the target feature is explained by the regressor according to the R2 value. This suggests that the model has a high generalization capacity. Moreover, less mean squared error (MSE) indicates that the model is confident in predicting the students' grades with the included features."
   ]
  },
  {
   "cell_type": "markdown",
   "id": "535c9559",
   "metadata": {},
   "source": [
    "# END"
   ]
  }
 ],
 "metadata": {
  "kernelspec": {
   "display_name": "Python 3 (ipykernel)",
   "language": "python",
   "name": "python3"
  },
  "language_info": {
   "codemirror_mode": {
    "name": "ipython",
    "version": 3
   },
   "file_extension": ".py",
   "mimetype": "text/x-python",
   "name": "python",
   "nbconvert_exporter": "python",
   "pygments_lexer": "ipython3",
   "version": "3.7.13"
  }
 },
 "nbformat": 4,
 "nbformat_minor": 5
}
