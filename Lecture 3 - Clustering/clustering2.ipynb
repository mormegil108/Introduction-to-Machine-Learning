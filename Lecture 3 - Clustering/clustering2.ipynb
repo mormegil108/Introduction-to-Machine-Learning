{
 "cells": [
  {
   "cell_type": "markdown",
   "id": "f58f5dbf",
   "metadata": {},
   "source": [
    "# Introduction to Machine Learning\n",
    "## Lecture 3 - Clustering\n",
    "### Notebook 2: Real Life Clustering on A Customer Segmentation Dataset\n",
    "Prapared by: Said Bolluk"
   ]
  },
  {
   "cell_type": "code",
   "execution_count": 1,
   "id": "0f7842e7",
   "metadata": {},
   "outputs": [],
   "source": [
    "import pandas as pd\n",
    "import numpy as np \n",
    "import matplotlib.pyplot as plt \n",
    "from sklearn.cluster import KMeans, AgglomerativeClustering\n",
    "from sklearn.metrics import silhouette_score\n",
    "%matplotlib inline"
   ]
  },
  {
   "cell_type": "markdown",
   "id": "cf5f23ef",
   "metadata": {},
   "source": [
    "# Data Preparation"
   ]
  },
  {
   "cell_type": "code",
   "execution_count": 2,
   "id": "7082619c",
   "metadata": {},
   "outputs": [
    {
     "data": {
      "text/html": [
       "<div>\n",
       "<style scoped>\n",
       "    .dataframe tbody tr th:only-of-type {\n",
       "        vertical-align: middle;\n",
       "    }\n",
       "\n",
       "    .dataframe tbody tr th {\n",
       "        vertical-align: top;\n",
       "    }\n",
       "\n",
       "    .dataframe thead th {\n",
       "        text-align: right;\n",
       "    }\n",
       "</style>\n",
       "<table border=\"1\" class=\"dataframe\">\n",
       "  <thead>\n",
       "    <tr style=\"text-align: right;\">\n",
       "      <th></th>\n",
       "      <th>Customer Id</th>\n",
       "      <th>Age</th>\n",
       "      <th>Edu</th>\n",
       "      <th>Years Employed</th>\n",
       "      <th>Income</th>\n",
       "      <th>Card Debt</th>\n",
       "      <th>Other Debt</th>\n",
       "      <th>Defaulted</th>\n",
       "      <th>Address</th>\n",
       "      <th>DebtIncomeRatio</th>\n",
       "    </tr>\n",
       "  </thead>\n",
       "  <tbody>\n",
       "    <tr>\n",
       "      <th>0</th>\n",
       "      <td>1</td>\n",
       "      <td>41</td>\n",
       "      <td>2</td>\n",
       "      <td>6</td>\n",
       "      <td>19</td>\n",
       "      <td>0.124</td>\n",
       "      <td>1.073</td>\n",
       "      <td>0.0</td>\n",
       "      <td>NBA001</td>\n",
       "      <td>6.3</td>\n",
       "    </tr>\n",
       "    <tr>\n",
       "      <th>1</th>\n",
       "      <td>2</td>\n",
       "      <td>47</td>\n",
       "      <td>1</td>\n",
       "      <td>26</td>\n",
       "      <td>100</td>\n",
       "      <td>4.582</td>\n",
       "      <td>8.218</td>\n",
       "      <td>0.0</td>\n",
       "      <td>NBA021</td>\n",
       "      <td>12.8</td>\n",
       "    </tr>\n",
       "    <tr>\n",
       "      <th>2</th>\n",
       "      <td>3</td>\n",
       "      <td>33</td>\n",
       "      <td>2</td>\n",
       "      <td>10</td>\n",
       "      <td>57</td>\n",
       "      <td>6.111</td>\n",
       "      <td>5.802</td>\n",
       "      <td>1.0</td>\n",
       "      <td>NBA013</td>\n",
       "      <td>20.9</td>\n",
       "    </tr>\n",
       "    <tr>\n",
       "      <th>3</th>\n",
       "      <td>4</td>\n",
       "      <td>29</td>\n",
       "      <td>2</td>\n",
       "      <td>4</td>\n",
       "      <td>19</td>\n",
       "      <td>0.681</td>\n",
       "      <td>0.516</td>\n",
       "      <td>0.0</td>\n",
       "      <td>NBA009</td>\n",
       "      <td>6.3</td>\n",
       "    </tr>\n",
       "    <tr>\n",
       "      <th>4</th>\n",
       "      <td>5</td>\n",
       "      <td>47</td>\n",
       "      <td>1</td>\n",
       "      <td>31</td>\n",
       "      <td>253</td>\n",
       "      <td>9.308</td>\n",
       "      <td>8.908</td>\n",
       "      <td>0.0</td>\n",
       "      <td>NBA008</td>\n",
       "      <td>7.2</td>\n",
       "    </tr>\n",
       "  </tbody>\n",
       "</table>\n",
       "</div>"
      ],
      "text/plain": [
       "   Customer Id  Age  Edu  Years Employed  Income  Card Debt  Other Debt  \\\n",
       "0            1   41    2               6      19      0.124       1.073   \n",
       "1            2   47    1              26     100      4.582       8.218   \n",
       "2            3   33    2              10      57      6.111       5.802   \n",
       "3            4   29    2               4      19      0.681       0.516   \n",
       "4            5   47    1              31     253      9.308       8.908   \n",
       "\n",
       "   Defaulted Address  DebtIncomeRatio  \n",
       "0        0.0  NBA001              6.3  \n",
       "1        0.0  NBA021             12.8  \n",
       "2        1.0  NBA013             20.9  \n",
       "3        0.0  NBA009              6.3  \n",
       "4        0.0  NBA008              7.2  "
      ]
     },
     "execution_count": 2,
     "metadata": {},
     "output_type": "execute_result"
    }
   ],
   "source": [
    "data = pd.read_csv(\"../datasets/Cust_Segmentation.csv\")\n",
    "data.head()"
   ]
  },
  {
   "cell_type": "markdown",
   "id": "1d0a19b9",
   "metadata": {},
   "source": [
    "We will remove the features that cannot provide valuable information for clustering. These are the redundant columns in our dataset."
   ]
  },
  {
   "cell_type": "code",
   "execution_count": 3,
   "id": "d1e29ab7",
   "metadata": {},
   "outputs": [],
   "source": [
    "redundants = [\"Customer Id\", \"Address\"]\n",
    "data = data.drop(columns=redundants)"
   ]
  },
  {
   "cell_type": "markdown",
   "id": "8dd6efaf",
   "metadata": {},
   "source": [
    "Check missing values"
   ]
  },
  {
   "cell_type": "code",
   "execution_count": 4,
   "id": "1fa5d563",
   "metadata": {},
   "outputs": [
    {
     "data": {
      "text/plain": [
       "Age                  0\n",
       "Edu                  0\n",
       "Years Employed       0\n",
       "Income               0\n",
       "Card Debt            0\n",
       "Other Debt           0\n",
       "Defaulted          150\n",
       "DebtIncomeRatio      0\n",
       "dtype: int64"
      ]
     },
     "execution_count": 4,
     "metadata": {},
     "output_type": "execute_result"
    }
   ],
   "source": [
    "data.isnull().sum()"
   ]
  },
  {
   "cell_type": "markdown",
   "id": "29f959bb",
   "metadata": {},
   "source": [
    "Here we should be careful about information loss. The **Defaulted** feature has 150 missing entries. We can discard this column instead of deleting its empty rows because the 150 rows might have valuable information for the other features. However, this column includes information about the debt of the customers. Since we aim to determine the customer profile that will use our bank's services, we might need such information. Therefore, we will only delete the rows with missing entries."
   ]
  },
  {
   "cell_type": "code",
   "execution_count": 5,
   "id": "48e6d7c8",
   "metadata": {},
   "outputs": [],
   "source": [
    "data = data.dropna(axis=0)"
   ]
  },
  {
   "cell_type": "code",
   "execution_count": 6,
   "id": "e72bbb14",
   "metadata": {},
   "outputs": [
    {
     "data": {
      "text/plain": [
       "Age                0\n",
       "Edu                0\n",
       "Years Employed     0\n",
       "Income             0\n",
       "Card Debt          0\n",
       "Other Debt         0\n",
       "Defaulted          0\n",
       "DebtIncomeRatio    0\n",
       "dtype: int64"
      ]
     },
     "execution_count": 6,
     "metadata": {},
     "output_type": "execute_result"
    }
   ],
   "source": [
    "data.isnull().sum()"
   ]
  },
  {
   "cell_type": "markdown",
   "id": "3aa20f24",
   "metadata": {},
   "source": [
    "Apply encoding to the categorical variable: Defaulted."
   ]
  },
  {
   "cell_type": "code",
   "execution_count": 7,
   "id": "add12479",
   "metadata": {},
   "outputs": [],
   "source": [
    "data = pd.get_dummies(data, columns=[\"Defaulted\"])"
   ]
  },
  {
   "cell_type": "code",
   "execution_count": 8,
   "id": "4a6aec9a",
   "metadata": {},
   "outputs": [
    {
     "data": {
      "text/html": [
       "<div>\n",
       "<style scoped>\n",
       "    .dataframe tbody tr th:only-of-type {\n",
       "        vertical-align: middle;\n",
       "    }\n",
       "\n",
       "    .dataframe tbody tr th {\n",
       "        vertical-align: top;\n",
       "    }\n",
       "\n",
       "    .dataframe thead th {\n",
       "        text-align: right;\n",
       "    }\n",
       "</style>\n",
       "<table border=\"1\" class=\"dataframe\">\n",
       "  <thead>\n",
       "    <tr style=\"text-align: right;\">\n",
       "      <th></th>\n",
       "      <th>Age</th>\n",
       "      <th>Edu</th>\n",
       "      <th>Years Employed</th>\n",
       "      <th>Income</th>\n",
       "      <th>Card Debt</th>\n",
       "      <th>Other Debt</th>\n",
       "      <th>DebtIncomeRatio</th>\n",
       "      <th>Defaulted_0.0</th>\n",
       "      <th>Defaulted_1.0</th>\n",
       "    </tr>\n",
       "  </thead>\n",
       "  <tbody>\n",
       "    <tr>\n",
       "      <th>0</th>\n",
       "      <td>41</td>\n",
       "      <td>2</td>\n",
       "      <td>6</td>\n",
       "      <td>19</td>\n",
       "      <td>0.124</td>\n",
       "      <td>1.073</td>\n",
       "      <td>6.3</td>\n",
       "      <td>1</td>\n",
       "      <td>0</td>\n",
       "    </tr>\n",
       "    <tr>\n",
       "      <th>1</th>\n",
       "      <td>47</td>\n",
       "      <td>1</td>\n",
       "      <td>26</td>\n",
       "      <td>100</td>\n",
       "      <td>4.582</td>\n",
       "      <td>8.218</td>\n",
       "      <td>12.8</td>\n",
       "      <td>1</td>\n",
       "      <td>0</td>\n",
       "    </tr>\n",
       "    <tr>\n",
       "      <th>2</th>\n",
       "      <td>33</td>\n",
       "      <td>2</td>\n",
       "      <td>10</td>\n",
       "      <td>57</td>\n",
       "      <td>6.111</td>\n",
       "      <td>5.802</td>\n",
       "      <td>20.9</td>\n",
       "      <td>0</td>\n",
       "      <td>1</td>\n",
       "    </tr>\n",
       "    <tr>\n",
       "      <th>3</th>\n",
       "      <td>29</td>\n",
       "      <td>2</td>\n",
       "      <td>4</td>\n",
       "      <td>19</td>\n",
       "      <td>0.681</td>\n",
       "      <td>0.516</td>\n",
       "      <td>6.3</td>\n",
       "      <td>1</td>\n",
       "      <td>0</td>\n",
       "    </tr>\n",
       "    <tr>\n",
       "      <th>4</th>\n",
       "      <td>47</td>\n",
       "      <td>1</td>\n",
       "      <td>31</td>\n",
       "      <td>253</td>\n",
       "      <td>9.308</td>\n",
       "      <td>8.908</td>\n",
       "      <td>7.2</td>\n",
       "      <td>1</td>\n",
       "      <td>0</td>\n",
       "    </tr>\n",
       "  </tbody>\n",
       "</table>\n",
       "</div>"
      ],
      "text/plain": [
       "   Age  Edu  Years Employed  Income  Card Debt  Other Debt  DebtIncomeRatio  \\\n",
       "0   41    2               6      19      0.124       1.073              6.3   \n",
       "1   47    1              26     100      4.582       8.218             12.8   \n",
       "2   33    2              10      57      6.111       5.802             20.9   \n",
       "3   29    2               4      19      0.681       0.516              6.3   \n",
       "4   47    1              31     253      9.308       8.908              7.2   \n",
       "\n",
       "   Defaulted_0.0  Defaulted_1.0  \n",
       "0              1              0  \n",
       "1              1              0  \n",
       "2              0              1  \n",
       "3              1              0  \n",
       "4              1              0  "
      ]
     },
     "execution_count": 8,
     "metadata": {},
     "output_type": "execute_result"
    }
   ],
   "source": [
    "data.head()"
   ]
  },
  {
   "cell_type": "markdown",
   "id": "0abb1c62",
   "metadata": {},
   "source": [
    "# Clustering"
   ]
  },
  {
   "cell_type": "markdown",
   "id": "b4028439",
   "metadata": {},
   "source": [
    "In this study, we aim to create risk groups for the customer by looking at their previous demographic and economic conditions. Later, we can use this model as a decision-making tool when giving loans or credit cards."
   ]
  },
  {
   "cell_type": "code",
   "execution_count": 9,
   "id": "d5dfc343",
   "metadata": {},
   "outputs": [],
   "source": [
    "# Create a copy of data for the future use\n",
    "customer_data = data.copy()"
   ]
  },
  {
   "cell_type": "code",
   "execution_count": 10,
   "id": "604c1860",
   "metadata": {},
   "outputs": [],
   "source": [
    "X = data.values"
   ]
  },
  {
   "cell_type": "markdown",
   "id": "3ce486b7",
   "metadata": {},
   "source": [
    "Let us say that we want to define three risk categories for the customer: **Low, Moderate, and High Risk**. We can change the number of clusters later, but for now, this is our assumption. We can use these categories to classify our customers using their backgrounds."
   ]
  },
  {
   "cell_type": "code",
   "execution_count": 11,
   "id": "001d2e3a",
   "metadata": {},
   "outputs": [
    {
     "data": {
      "text/plain": [
       "KMeans(n_clusters=3, random_state=42)"
      ]
     },
     "execution_count": 11,
     "metadata": {},
     "output_type": "execute_result"
    }
   ],
   "source": [
    "n_cluster = 3\n",
    "k_means = KMeans(n_clusters=n_cluster, random_state=42)\n",
    "\n",
    "# Train the model\n",
    "k_means.fit(X)"
   ]
  },
  {
   "cell_type": "markdown",
   "id": "df3208b2",
   "metadata": {},
   "source": [
    "Display the cluster centers. We will have three centers since we fit our model using three clusters. Each cluster center has a number of coordinates equal to the number of features in our dataset."
   ]
  },
  {
   "cell_type": "code",
   "execution_count": 12,
   "id": "ead21604",
   "metadata": {},
   "outputs": [
    {
     "name": "stdout",
     "output_type": "stream",
     "text": [
      "[[4.11032258e+01 1.91612903e+00 1.51354839e+01 8.11225806e+01\n",
      "  3.02493548e+00 5.60525806e+00 1.08483871e+01 8.19354839e-01\n",
      "  1.80645161e-01]\n",
      " [3.27758945e+01 1.63276836e+00 6.16949153e+00 3.06421846e+01\n",
      "  1.00379473e+00 2.09090960e+00 1.01468927e+01 7.15630885e-01\n",
      "  2.84369115e-01]\n",
      " [4.47857143e+01 3.00000000e+00 1.78571429e+01 2.19714286e+02\n",
      "  6.11542857e+00 1.15463571e+01 8.06428571e+00 7.14285714e-01\n",
      "  2.85714286e-01]]\n"
     ]
    }
   ],
   "source": [
    "print(k_means.cluster_centers_)"
   ]
  },
  {
   "cell_type": "markdown",
   "id": "64e82c4a",
   "metadata": {},
   "source": [
    "We can also use the mean of each instance for a specific feature within the cluster to determine the cluster centers."
   ]
  },
  {
   "cell_type": "code",
   "execution_count": 13,
   "id": "2b8632d1",
   "metadata": {},
   "outputs": [
    {
     "data": {
      "text/html": [
       "<div>\n",
       "<style scoped>\n",
       "    .dataframe tbody tr th:only-of-type {\n",
       "        vertical-align: middle;\n",
       "    }\n",
       "\n",
       "    .dataframe tbody tr th {\n",
       "        vertical-align: top;\n",
       "    }\n",
       "\n",
       "    .dataframe thead th {\n",
       "        text-align: right;\n",
       "    }\n",
       "</style>\n",
       "<table border=\"1\" class=\"dataframe\">\n",
       "  <thead>\n",
       "    <tr style=\"text-align: right;\">\n",
       "      <th></th>\n",
       "      <th>Age</th>\n",
       "      <th>Edu</th>\n",
       "      <th>Years Employed</th>\n",
       "      <th>Income</th>\n",
       "      <th>Card Debt</th>\n",
       "      <th>Other Debt</th>\n",
       "      <th>DebtIncomeRatio</th>\n",
       "      <th>Defaulted_0.0</th>\n",
       "      <th>Defaulted_1.0</th>\n",
       "      <th>Cluster</th>\n",
       "    </tr>\n",
       "  </thead>\n",
       "  <tbody>\n",
       "    <tr>\n",
       "      <th>0</th>\n",
       "      <td>41</td>\n",
       "      <td>2</td>\n",
       "      <td>6</td>\n",
       "      <td>19</td>\n",
       "      <td>0.124</td>\n",
       "      <td>1.073</td>\n",
       "      <td>6.3</td>\n",
       "      <td>1</td>\n",
       "      <td>0</td>\n",
       "      <td>1</td>\n",
       "    </tr>\n",
       "    <tr>\n",
       "      <th>1</th>\n",
       "      <td>47</td>\n",
       "      <td>1</td>\n",
       "      <td>26</td>\n",
       "      <td>100</td>\n",
       "      <td>4.582</td>\n",
       "      <td>8.218</td>\n",
       "      <td>12.8</td>\n",
       "      <td>1</td>\n",
       "      <td>0</td>\n",
       "      <td>0</td>\n",
       "    </tr>\n",
       "    <tr>\n",
       "      <th>2</th>\n",
       "      <td>33</td>\n",
       "      <td>2</td>\n",
       "      <td>10</td>\n",
       "      <td>57</td>\n",
       "      <td>6.111</td>\n",
       "      <td>5.802</td>\n",
       "      <td>20.9</td>\n",
       "      <td>0</td>\n",
       "      <td>1</td>\n",
       "      <td>0</td>\n",
       "    </tr>\n",
       "    <tr>\n",
       "      <th>3</th>\n",
       "      <td>29</td>\n",
       "      <td>2</td>\n",
       "      <td>4</td>\n",
       "      <td>19</td>\n",
       "      <td>0.681</td>\n",
       "      <td>0.516</td>\n",
       "      <td>6.3</td>\n",
       "      <td>1</td>\n",
       "      <td>0</td>\n",
       "      <td>1</td>\n",
       "    </tr>\n",
       "    <tr>\n",
       "      <th>4</th>\n",
       "      <td>47</td>\n",
       "      <td>1</td>\n",
       "      <td>31</td>\n",
       "      <td>253</td>\n",
       "      <td>9.308</td>\n",
       "      <td>8.908</td>\n",
       "      <td>7.2</td>\n",
       "      <td>1</td>\n",
       "      <td>0</td>\n",
       "      <td>2</td>\n",
       "    </tr>\n",
       "  </tbody>\n",
       "</table>\n",
       "</div>"
      ],
      "text/plain": [
       "   Age  Edu  Years Employed  Income  Card Debt  Other Debt  DebtIncomeRatio  \\\n",
       "0   41    2               6      19      0.124       1.073              6.3   \n",
       "1   47    1              26     100      4.582       8.218             12.8   \n",
       "2   33    2              10      57      6.111       5.802             20.9   \n",
       "3   29    2               4      19      0.681       0.516              6.3   \n",
       "4   47    1              31     253      9.308       8.908              7.2   \n",
       "\n",
       "   Defaulted_0.0  Defaulted_1.0  Cluster  \n",
       "0              1              0        1  \n",
       "1              1              0        0  \n",
       "2              0              1        0  \n",
       "3              1              0        1  \n",
       "4              1              0        2  "
      ]
     },
     "execution_count": 13,
     "metadata": {},
     "output_type": "execute_result"
    }
   ],
   "source": [
    "# Assign cluster labels to instances\n",
    "labels = k_means.labels_\n",
    "# Create a column showing the labels of the instances\n",
    "data[\"Cluster\"] = labels\n",
    "data.head()"
   ]
  },
  {
   "cell_type": "code",
   "execution_count": 14,
   "id": "a345d85c",
   "metadata": {},
   "outputs": [
    {
     "data": {
      "text/html": [
       "<div>\n",
       "<style scoped>\n",
       "    .dataframe tbody tr th:only-of-type {\n",
       "        vertical-align: middle;\n",
       "    }\n",
       "\n",
       "    .dataframe tbody tr th {\n",
       "        vertical-align: top;\n",
       "    }\n",
       "\n",
       "    .dataframe thead th {\n",
       "        text-align: right;\n",
       "    }\n",
       "</style>\n",
       "<table border=\"1\" class=\"dataframe\">\n",
       "  <thead>\n",
       "    <tr style=\"text-align: right;\">\n",
       "      <th></th>\n",
       "      <th>Age</th>\n",
       "      <th>Edu</th>\n",
       "      <th>Years Employed</th>\n",
       "      <th>Income</th>\n",
       "      <th>Card Debt</th>\n",
       "      <th>Other Debt</th>\n",
       "      <th>DebtIncomeRatio</th>\n",
       "      <th>Defaulted_0.0</th>\n",
       "      <th>Defaulted_1.0</th>\n",
       "    </tr>\n",
       "    <tr>\n",
       "      <th>Cluster</th>\n",
       "      <th></th>\n",
       "      <th></th>\n",
       "      <th></th>\n",
       "      <th></th>\n",
       "      <th></th>\n",
       "      <th></th>\n",
       "      <th></th>\n",
       "      <th></th>\n",
       "      <th></th>\n",
       "    </tr>\n",
       "  </thead>\n",
       "  <tbody>\n",
       "    <tr>\n",
       "      <th>0</th>\n",
       "      <td>41.103226</td>\n",
       "      <td>1.916129</td>\n",
       "      <td>15.135484</td>\n",
       "      <td>81.122581</td>\n",
       "      <td>3.024935</td>\n",
       "      <td>5.605258</td>\n",
       "      <td>10.848387</td>\n",
       "      <td>0.819355</td>\n",
       "      <td>0.180645</td>\n",
       "    </tr>\n",
       "    <tr>\n",
       "      <th>1</th>\n",
       "      <td>32.775895</td>\n",
       "      <td>1.632768</td>\n",
       "      <td>6.169492</td>\n",
       "      <td>30.642185</td>\n",
       "      <td>1.003795</td>\n",
       "      <td>2.090910</td>\n",
       "      <td>10.146893</td>\n",
       "      <td>0.715631</td>\n",
       "      <td>0.284369</td>\n",
       "    </tr>\n",
       "    <tr>\n",
       "      <th>2</th>\n",
       "      <td>44.785714</td>\n",
       "      <td>3.000000</td>\n",
       "      <td>17.857143</td>\n",
       "      <td>219.714286</td>\n",
       "      <td>6.115429</td>\n",
       "      <td>11.546357</td>\n",
       "      <td>8.064286</td>\n",
       "      <td>0.714286</td>\n",
       "      <td>0.285714</td>\n",
       "    </tr>\n",
       "  </tbody>\n",
       "</table>\n",
       "</div>"
      ],
      "text/plain": [
       "               Age       Edu  Years Employed      Income  Card Debt  \\\n",
       "Cluster                                                               \n",
       "0        41.103226  1.916129       15.135484   81.122581   3.024935   \n",
       "1        32.775895  1.632768        6.169492   30.642185   1.003795   \n",
       "2        44.785714  3.000000       17.857143  219.714286   6.115429   \n",
       "\n",
       "         Other Debt  DebtIncomeRatio  Defaulted_0.0  Defaulted_1.0  \n",
       "Cluster                                                             \n",
       "0          5.605258        10.848387       0.819355       0.180645  \n",
       "1          2.090910        10.146893       0.715631       0.284369  \n",
       "2         11.546357         8.064286       0.714286       0.285714  "
      ]
     },
     "execution_count": 14,
     "metadata": {},
     "output_type": "execute_result"
    }
   ],
   "source": [
    "# Display the cluster centers\n",
    "data.groupby(\"Cluster\").mean()"
   ]
  },
  {
   "cell_type": "markdown",
   "id": "23a606ce",
   "metadata": {},
   "source": [
    "Looking at the cluster centers, we can understand what customers constitute a high or low risk. For example, the customers in Cluster-2 are the oldest, have the longest education and working period, and have the highest debt-to-income ratio. We can say that such customers are more likely to pay the debt. Therefore, we can classify them as **Low-Risk** customers. Similarly, we can say that Cluster-1 customers will be **High-Risk**, and the Cluster-0 customers will be **Moderate-Risk** customers. "
   ]
  },
  {
   "cell_type": "markdown",
   "id": "259fb0bb",
   "metadata": {},
   "source": [
    "# Evaluate The Clustering Performance"
   ]
  },
  {
   "cell_type": "markdown",
   "id": "e9e366d6",
   "metadata": {},
   "source": [
    "Before moving on with a different number of clusters to segment customers, let us now determine the best clustering model using the clustering evaluation metrics, **Silhouette Coefficient and Within-Cluster Sum of Squares (WCSS)**. We will now compare **K-Means Clustering** and **Agglomerative Clustering** using n_clusters=3. After determining the optimal model, we evaluate the model's performance using different clusters. Note that Agglomerative Clustering is a hierarchical clustering algorithm."
   ]
  },
  {
   "cell_type": "code",
   "execution_count": 15,
   "id": "0a330e12",
   "metadata": {},
   "outputs": [],
   "source": [
    "# Use the save dataset: customer_data\n",
    "X = customer_data.values"
   ]
  },
  {
   "cell_type": "code",
   "execution_count": 16,
   "id": "4f0fc54f",
   "metadata": {},
   "outputs": [
    {
     "name": "stdout",
     "output_type": "stream",
     "text": [
      "Silhouette Score for K-Means Clustering: 0.5524\n",
      "Silhouette Score for Agglomerative Clustering: 0.5302\n"
     ]
    }
   ],
   "source": [
    "n_cluster = 3\n",
    "\n",
    "# Define clustering models with default settings.\n",
    "# Recall that machine learning models require hyperparameter tuning.\n",
    "# We will explore that later since it is a highly advanced topic.\n",
    "k_means = KMeans(n_clusters=n_cluster, random_state=42)\n",
    "agg = AgglomerativeClustering(n_clusters=n_cluster)\n",
    "\n",
    "# Train the models\n",
    "k_means.fit(X)\n",
    "agg.fit(X)\n",
    "\n",
    "# Calcualate Silhouette Scores \n",
    "score_kmean = silhouette_score(X, k_means.labels_)\n",
    "score_agg = silhouette_score(X, agg.labels_)\n",
    "\n",
    "print(\"Silhouette Score for K-Means Clustering:\", np.round(score_kmean, 4))\n",
    "print(\"Silhouette Score for Agglomerative Clustering:\", np.round(score_agg, 4))"
   ]
  },
  {
   "cell_type": "markdown",
   "id": "53a0fd9a",
   "metadata": {},
   "source": [
    "Recall that the Silhouette Score is a value between -1.0 and 1.0. As it approaches 1.0, the clustering becomes ideal. We can see that **K-Means Clustering** performed slightly better than Agglomerative Clustering. Therefore, we continue with this clustering method."
   ]
  },
  {
   "cell_type": "markdown",
   "id": "e33c78b1",
   "metadata": {},
   "source": [
    "Now, let us determine the optimal number of clusters that identify the risk groups best among the observed customers."
   ]
  },
  {
   "cell_type": "code",
   "execution_count": 17,
   "id": "de4d8dd1",
   "metadata": {},
   "outputs": [],
   "source": [
    "X = customer_data.values\n",
    "\n",
    "cluster_list = np.arange(2, 11)\n",
    "sc_list = list()\n",
    "wcss_list = list()\n",
    "\n",
    "for n in cluster_list:\n",
    "    k_means = KMeans(n_clusters=n, random_state=42)\n",
    "    # Predict the cluster labels\n",
    "    k_means.fit(X)\n",
    "    predictions = k_means.labels_\n",
    "    # Calculate the Rand Index\n",
    "    sc = silhouette_score(X, predictions)\n",
    "    sc_list.append(sc)\n",
    "    wcss = k_means.inertia_\n",
    "    wcss_list.append(wcss)"
   ]
  },
  {
   "cell_type": "markdown",
   "id": "3989f388",
   "metadata": {},
   "source": [
    "(1) Let us examine the Silhouette Scores:"
   ]
  },
  {
   "cell_type": "code",
   "execution_count": 18,
   "id": "6ffe1ab6",
   "metadata": {},
   "outputs": [
    {
     "data": {
      "image/png": "[encoded data removed]",
      "text/plain": [
       "<Figure size 576x432 with 1 Axes>"
      ]
     },
     "metadata": {
      "needs_background": "light"
     },
     "output_type": "display_data"
    }
   ],
   "source": [
    "# Visualize results\n",
    "plt.figure(figsize=(8, 6))\n",
    "plt.plot(cluster_list, sc_list)\n",
    "plt.xlabel(\"Number of Clusters\")\n",
    "plt.ylabel(\"Silhouette Score\")\n",
    "plt.show()"
   ]
  },
  {
   "cell_type": "markdown",
   "id": "fbb81942",
   "metadata": {},
   "source": [
    "We can see that the increasing number of clusters did not improve the clustering performance. However, we should also examine the clusters' variance to decide the optimal cluster numbers better. Therefore, we should check the **Within-Cluster Sum of Squares (WCSS).** This metric might help us detect the optimal point for the cluster numbers as it displays the rapid and stable changes in the variances within clusters."
   ]
  },
  {
   "cell_type": "markdown",
   "id": "62c101b2",
   "metadata": {},
   "source": [
    "(2) Within-Cluster Sum of Squares (WCSS)"
   ]
  },
  {
   "cell_type": "code",
   "execution_count": 19,
   "id": "ab543153",
   "metadata": {},
   "outputs": [
    {
     "data": {
      "image/png": "[encoded data removed]",
      "text/plain": [
       "<Figure size 576x432 with 1 Axes>"
      ]
     },
     "metadata": {
      "needs_background": "light"
     },
     "output_type": "display_data"
    }
   ],
   "source": [
    "# Visualize results\n",
    "plt.figure(figsize=(8, 6))\n",
    "plt.plot(cluster_list, wcss_list)\n",
    "plt.xlabel(\"Number of Clusters\")\n",
    "plt.ylabel(\"WCSS\")\n",
    "\n",
    "# Mark the optimal point\n",
    "a = [4, 4]\n",
    "b = [np.min(wcss_list), np.max(wcss_list)]\n",
    "plt.plot(a, b, linestyle=\"--\", label=\"n_clusters=3\")\n",
    "plt.legend()\n",
    "\n",
    "plt.show()"
   ]
  },
  {
   "cell_type": "markdown",
   "id": "1e0782a1",
   "metadata": {},
   "source": [
    "Automatically detect the elbow point"
   ]
  },
  {
   "cell_type": "code",
   "execution_count": 20,
   "id": "2852bab7",
   "metadata": {},
   "outputs": [
    {
     "name": "stdout",
     "output_type": "stream",
     "text": [
      "Elbow point: 4\n"
     ]
    }
   ],
   "source": [
    "from kneed import KneeLocator\n",
    "kl = KneeLocator(cluster_list, wcss_list, curve=\"convex\", direction=\"decreasing\")\n",
    "elbow_point = kl.elbow\n",
    "print(\"Elbow point:\", elbow_point)"
   ]
  },
  {
   "cell_type": "markdown",
   "id": "1119272a",
   "metadata": {},
   "source": [
    "**Discussion:** The elbow points indicate a certain cluster number, after which the reduction in variance slows down. This means that increasing the cluster number after **n_clusters=4** does not improve the efficiency of clustering. We can also see that n_clusters=4 stands in a good position regarding the Silhouette Coefficient. Because, below the elbow point until n_clusters=1, the customer segmentation becomes meaningless. Also, the Silhouette Score drastically decreases after the elbow point, even though the variance also decreases. Therefore, we can say that the customer data should be classified into four (**n_clusters=4**) different risk groups considering the variance within the clusters."
   ]
  },
  {
   "cell_type": "markdown",
   "id": "d6938933",
   "metadata": {},
   "source": [
    "# END"
   ]
  }
 ],
 "metadata": {
  "kernelspec": {
   "display_name": "Python 3 (ipykernel)",
   "language": "python",
   "name": "python3"
  },
  "language_info": {
   "codemirror_mode": {
    "name": "ipython",
    "version": 3
   },
   "file_extension": ".py",
   "mimetype": "text/x-python",
   "name": "python",
   "nbconvert_exporter": "python",
   "pygments_lexer": "ipython3",
   "version": "3.7.13"
  }
 },
 "nbformat": 4,
 "nbformat_minor": 5
}
