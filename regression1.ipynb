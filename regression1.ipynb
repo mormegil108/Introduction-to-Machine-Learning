{
 "cells": [
  {
   "cell_type": "markdown",
   "id": "f5d8505a",
   "metadata": {},
   "source": [
    "# Introduction to Machine Learning\n",
    "## Lecture 1 - Regression\n",
    "### Notebook 1: Simple Regression Analysis\n",
    "Prapared by: Said Bolluk"
   ]
  },
  {
   "cell_type": "code",
   "execution_count": 2,
   "id": "7f8b97fc",
   "metadata": {},
   "outputs": [],
   "source": [
    "# Import the necessary libraries\n",
    "import pandas as pd\n",
    "import numpy as np\n",
    "import matplotlib.pyplot as plt\n",
    "import seaborn as sns\n",
    "from sklearn.metrics import r2_score"
   ]
  },
  {
   "cell_type": "markdown",
   "id": "2a283104",
   "metadata": {},
   "source": [
    "# Data Preparation"
   ]
  },
  {
   "cell_type": "code",
   "execution_count": 3,
   "id": "9a311e11",
   "metadata": {
    "scrolled": true
   },
   "outputs": [
    {
     "data": {
      "text/html": [
       "<div>\n",
       "<style scoped>\n",
       "    .dataframe tbody tr th:only-of-type {\n",
       "        vertical-align: middle;\n",
       "    }\n",
       "\n",
       "    .dataframe tbody tr th {\n",
       "        vertical-align: top;\n",
       "    }\n",
       "\n",
       "    .dataframe thead th {\n",
       "        text-align: right;\n",
       "    }\n",
       "</style>\n",
       "<table border=\"1\" class=\"dataframe\">\n",
       "  <thead>\n",
       "    <tr style=\"text-align: right;\">\n",
       "      <th></th>\n",
       "      <th>X</th>\n",
       "      <th>Y</th>\n",
       "    </tr>\n",
       "  </thead>\n",
       "  <tbody>\n",
       "    <tr>\n",
       "      <th>0</th>\n",
       "      <td>-2.87</td>\n",
       "      <td>-2.8400</td>\n",
       "    </tr>\n",
       "    <tr>\n",
       "      <th>1</th>\n",
       "      <td>-2.84</td>\n",
       "      <td>-3.0700</td>\n",
       "    </tr>\n",
       "    <tr>\n",
       "      <th>2</th>\n",
       "      <td>-2.79</td>\n",
       "      <td>-0.0895</td>\n",
       "    </tr>\n",
       "    <tr>\n",
       "      <th>3</th>\n",
       "      <td>-2.66</td>\n",
       "      <td>-2.0000</td>\n",
       "    </tr>\n",
       "    <tr>\n",
       "      <th>4</th>\n",
       "      <td>-2.49</td>\n",
       "      <td>-1.3900</td>\n",
       "    </tr>\n",
       "  </tbody>\n",
       "</table>\n",
       "</div>"
      ],
      "text/plain": [
       "      X       Y\n",
       "0 -2.87 -2.8400\n",
       "1 -2.84 -3.0700\n",
       "2 -2.79 -0.0895\n",
       "3 -2.66 -2.0000\n",
       "4 -2.49 -1.3900"
      ]
     },
     "execution_count": 3,
     "metadata": {},
     "output_type": "execute_result"
    }
   ],
   "source": [
    "# Load the dataset\n",
    "data = pd.read_csv(\"sample_dataset.csv\")\n",
    "data.head()"
   ]
  },
  {
   "cell_type": "code",
   "execution_count": 7,
   "id": "1b02afe3",
   "metadata": {},
   "outputs": [
    {
     "name": "stdout",
     "output_type": "stream",
     "text": [
      "Training size: 75\n",
      "Test size: 25\n"
     ]
    }
   ],
   "source": [
    "# Define the feature and target sets\n",
    "X = data[\"X\"].values\n",
    "y = data[\"Y\"].values\n",
    "\n",
    "# Reshape the data\n",
    "X = np.reshape(X, (-1, 1))\n",
    "y = np.reshape(y, (-1, 1))\n",
    "\n",
    "# Split the data into training and test sets\n",
    "from sklearn.model_selection import train_test_split\n",
    "\n",
    "X_train, X_test, y_train, y_test = train_test_split(X, y, test_size=0.25, random_state=42)\n",
    "\n",
    "print(\"Training size:\", X_train.shape[0])\n",
    "print(\"Test size:\", X_test.shape[0])"
   ]
  },
  {
   "cell_type": "markdown",
   "id": "12bf786c",
   "metadata": {},
   "source": [
    "# REGRESSION"
   ]
  },
  {
   "cell_type": "markdown",
   "id": "1d821e5e",
   "metadata": {},
   "source": [
    "## 1) Linear regression"
   ]
  },
  {
   "cell_type": "code",
   "execution_count": 4,
   "id": "93804fdb",
   "metadata": {},
   "outputs": [
    {
     "data": {
      "image/png": "[encoded data removed]",
      "text/plain": [
       "<Figure size 576x432 with 1 Axes>"
      ]
     },
     "metadata": {
      "needs_background": "light"
     },
     "output_type": "display_data"
    }
   ],
   "source": [
    "from sklearn.linear_model import LinearRegression\n",
    "\n",
    "regressor = LinearRegression()\n",
    "# Train the model over the training set\n",
    "regressor.fit(X_train, y_train)\n",
    "# Make prediction\n",
    "prediction = regressor.predict(X_test)\n",
    "\n",
    "# Visualize the results on the test set\n",
    "plt.figure(figsize=(8, 6))\n",
    "plt.scatter(X_test, y_test)\n",
    "plt.plot(X_test, regressor.predict(X_test), color=\"red\")\n",
    "plt.show()"
   ]
  },
  {
   "cell_type": "markdown",
   "id": "4131a7e3",
   "metadata": {},
   "source": [
    "Results of the linear regression"
   ]
  },
  {
   "cell_type": "code",
   "execution_count": 5,
   "id": "b4f6f864",
   "metadata": {},
   "outputs": [],
   "source": [
    "# Calculate the metrics needed to evaluate the regression model\n",
    "# Degree of polynomial: 1\n",
    "order = 1\n",
    "bias = np.mean(np.square(y_test-prediction))\n",
    "variance = np.var(prediction)\n",
    "error = bias + variance\n",
    "r2 = regressor.score(X, y)\n",
    "\n",
    "result_dict = {\n",
    "    \"Polynomial Degree\": order,\n",
    "    \"Bias\": bias,\n",
    "    \"Variance\": variance,\n",
    "    \"Error\": error,\n",
    "    \"R2\": r2,\n",
    "}\n",
    "\n",
    "# Create an empty data frame to combine all the results\n",
    "results = pd.DataFrame()\n",
    "\n",
    "# Append the frame with the linear result\n",
    "results = results.append(result_dict, ignore_index=True, sort=True)"
   ]
  },
  {
   "cell_type": "markdown",
   "id": "6b74fe45",
   "metadata": {},
   "source": [
    "Display the results"
   ]
  },
  {
   "cell_type": "code",
   "execution_count": 6,
   "id": "19f3593c",
   "metadata": {},
   "outputs": [
    {
     "data": {
      "text/html": [
       "<div>\n",
       "<style scoped>\n",
       "    .dataframe tbody tr th:only-of-type {\n",
       "        vertical-align: middle;\n",
       "    }\n",
       "\n",
       "    .dataframe tbody tr th {\n",
       "        vertical-align: top;\n",
       "    }\n",
       "\n",
       "    .dataframe thead th {\n",
       "        text-align: right;\n",
       "    }\n",
       "</style>\n",
       "<table border=\"1\" class=\"dataframe\">\n",
       "  <thead>\n",
       "    <tr style=\"text-align: right;\">\n",
       "      <th></th>\n",
       "      <th>Polynomial Degree</th>\n",
       "      <th>Bias</th>\n",
       "      <th>Variance</th>\n",
       "      <th>Error</th>\n",
       "      <th>R2</th>\n",
       "    </tr>\n",
       "  </thead>\n",
       "  <tbody>\n",
       "    <tr>\n",
       "      <th>0</th>\n",
       "      <td>1.0</td>\n",
       "      <td>3.0066</td>\n",
       "      <td>0.6148</td>\n",
       "      <td>3.6214</td>\n",
       "      <td>0.2617</td>\n",
       "    </tr>\n",
       "  </tbody>\n",
       "</table>\n",
       "</div>"
      ],
      "text/plain": [
       "   Polynomial Degree    Bias  Variance   Error      R2\n",
       "0                1.0  3.0066    0.6148  3.6214  0.2617"
      ]
     },
     "execution_count": 6,
     "metadata": {},
     "output_type": "execute_result"
    }
   ],
   "source": [
    "results = results[[\"Polynomial Degree\", \"Bias\", \"Variance\", \"Error\", \"R2\"]]\n",
    "results.round(4)"
   ]
  },
  {
   "cell_type": "markdown",
   "id": "7fb4e5ba",
   "metadata": {},
   "source": [
    "## 2) Non-linear regression"
   ]
  },
  {
   "cell_type": "code",
   "execution_count": 7,
   "id": "23ee8bb9",
   "metadata": {},
   "outputs": [
    {
     "name": "stdout",
     "output_type": "stream",
     "text": [
      "Training size: 75\n",
      "Test size: 25\n"
     ]
    }
   ],
   "source": [
    "# Define the feature and target sets\n",
    "X = data[\"X\"].values\n",
    "y = data[\"Y\"].values\n",
    "\n",
    "# Split the data into training and test sets\n",
    "from sklearn.model_selection import train_test_split\n",
    "\n",
    "X_train, X_test, y_train, y_test = train_test_split(X, y, test_size=0.25, random_state=42)\n",
    "\n",
    "print(\"Training size:\", X_train.shape[0])\n",
    "print(\"Test size:\", X_test.shape[0])"
   ]
  },
  {
   "cell_type": "code",
   "execution_count": 8,
   "id": "9af26fc7",
   "metadata": {
    "scrolled": false
   },
   "outputs": [
    {
     "data": {
      "image/png": "[encoded data removed]",
      "text/plain": [
       "<Figure size 432x288 with 1 Axes>"
      ]
     },
     "metadata": {
      "needs_background": "light"
     },
     "output_type": "display_data"
    },
    {
     "data": {
      "image/png": "[encoded data removed]",
      "text/plain": [
       "<Figure size 432x288 with 1 Axes>"
      ]
     },
     "metadata": {
      "needs_background": "light"
     },
     "output_type": "display_data"
    },
    {
     "data": {
      "image/png": "[encoded data removed]",
      "text/plain": [
       "<Figure size 432x288 with 1 Axes>"
      ]
     },
     "metadata": {
      "needs_background": "light"
     },
     "output_type": "display_data"
    },
    {
     "data": {
      "image/png": "[encoded data removed]",
      "text/plain": [
       "<Figure size 432x288 with 1 Axes>"
      ]
     },
     "metadata": {
      "needs_background": "light"
     },
     "output_type": "display_data"
    },
    {
     "data": {
      "image/png": "[encoded data removed]",
      "text/plain": [
       "<Figure size 432x288 with 1 Axes>"
      ]
     },
     "metadata": {
      "needs_background": "light"
     },
     "output_type": "display_data"
    },
    {
     "data": {
      "image/png": "[encoded data removed]",
      "text/plain": [
       "<Figure size 432x288 with 1 Axes>"
      ]
     },
     "metadata": {
      "needs_background": "light"
     },
     "output_type": "display_data"
    },
    {
     "data": {
      "image/png": "[encoded data removed]",
      "text/plain": [
       "<Figure size 432x288 with 1 Axes>"
      ]
     },
     "metadata": {
      "needs_background": "light"
     },
     "output_type": "display_data"
    }
   ],
   "source": [
    "from sklearn.metrics import r2_score\n",
    "\n",
    "# Reshape the input set \n",
    "x_train = np.reshape(X_train, (-1,))\n",
    "x_test = np.reshape(X_test, (-1,))\n",
    "y_tr = np.reshape(y_train, (-1,))\n",
    "y_val = np.reshape(y_test, (-1,))\n",
    "dots = np.linspace(start=np.min(X_test), stop=np.max(X_test), num=X_test.shape[0])\n",
    "\n",
    "for n in range(1, 8):\n",
    "    # Determine the order of the polynomial\n",
    "    order = n   \n",
    "    # Train the model\n",
    "    non_linear = np.poly1d(np.polyfit(X_train, y_train, order))\n",
    "    \n",
    "    # Calculate the metrics needed to evaluate the regression models\n",
    "    # Degree of polynomial: n\n",
    "    prediction = non_linear(X_test) \n",
    "    bias = np.mean(np.square(y_test-prediction))\n",
    "    variance = np.var(prediction)\n",
    "    error = bias + variance\n",
    "    r2 = r2_score(y_test, prediction)\n",
    "\n",
    "    result_dict = {\n",
    "        \"Polynomial Degree\": order,\n",
    "        \"Bias\": bias,\n",
    "        \"Variance\": variance,\n",
    "        \"Error\": error,\n",
    "        \"R2\": r2,\n",
    "    }\n",
    "    \n",
    "    # Append the frame with the linear result\n",
    "    results = results.append(result_dict, ignore_index=True, sort=True)\n",
    "    \n",
    "        \n",
    "    # Visualize results\n",
    "    plt.figure(figsize=(6, 4))\n",
    "    plt.scatter(X_test, y_test, color=\"blue\")\n",
    "    plt.plot(dots, non_linear(dots), color='red')\n",
    "    plt.show()"
   ]
  },
  {
   "cell_type": "markdown",
   "id": "759b1bba",
   "metadata": {},
   "source": [
    "Display the final results"
   ]
  },
  {
   "cell_type": "code",
   "execution_count": 9,
   "id": "dc870bb6",
   "metadata": {
    "scrolled": false
   },
   "outputs": [
    {
     "data": {
      "text/html": [
       "<div>\n",
       "<style scoped>\n",
       "    .dataframe tbody tr th:only-of-type {\n",
       "        vertical-align: middle;\n",
       "    }\n",
       "\n",
       "    .dataframe tbody tr th {\n",
       "        vertical-align: top;\n",
       "    }\n",
       "\n",
       "    .dataframe thead th {\n",
       "        text-align: right;\n",
       "    }\n",
       "</style>\n",
       "<table border=\"1\" class=\"dataframe\">\n",
       "  <thead>\n",
       "    <tr style=\"text-align: right;\">\n",
       "      <th></th>\n",
       "      <th>Polynomial Degree</th>\n",
       "      <th>Bias</th>\n",
       "      <th>Variance</th>\n",
       "      <th>Error</th>\n",
       "      <th>R2</th>\n",
       "    </tr>\n",
       "  </thead>\n",
       "  <tbody>\n",
       "    <tr>\n",
       "      <th>0</th>\n",
       "      <td>1.0</td>\n",
       "      <td>3.0066</td>\n",
       "      <td>0.6148</td>\n",
       "      <td>3.6214</td>\n",
       "      <td>0.2617</td>\n",
       "    </tr>\n",
       "    <tr>\n",
       "      <th>1</th>\n",
       "      <td>1.0</td>\n",
       "      <td>3.0066</td>\n",
       "      <td>0.6148</td>\n",
       "      <td>3.6214</td>\n",
       "      <td>0.3186</td>\n",
       "    </tr>\n",
       "    <tr>\n",
       "      <th>2</th>\n",
       "      <td>2.0</td>\n",
       "      <td>2.2527</td>\n",
       "      <td>1.4800</td>\n",
       "      <td>3.7326</td>\n",
       "      <td>0.4894</td>\n",
       "    </tr>\n",
       "    <tr>\n",
       "      <th>3</th>\n",
       "      <td>3.0</td>\n",
       "      <td>1.7210</td>\n",
       "      <td>1.8858</td>\n",
       "      <td>3.6067</td>\n",
       "      <td>0.6100</td>\n",
       "    </tr>\n",
       "    <tr>\n",
       "      <th>4</th>\n",
       "      <td>4.0</td>\n",
       "      <td>1.7147</td>\n",
       "      <td>1.8349</td>\n",
       "      <td>3.5495</td>\n",
       "      <td>0.6114</td>\n",
       "    </tr>\n",
       "    <tr>\n",
       "      <th>5</th>\n",
       "      <td>5.0</td>\n",
       "      <td>1.7321</td>\n",
       "      <td>1.8200</td>\n",
       "      <td>3.5520</td>\n",
       "      <td>0.6074</td>\n",
       "    </tr>\n",
       "    <tr>\n",
       "      <th>6</th>\n",
       "      <td>6.0</td>\n",
       "      <td>1.7684</td>\n",
       "      <td>1.9120</td>\n",
       "      <td>3.6804</td>\n",
       "      <td>0.5992</td>\n",
       "    </tr>\n",
       "    <tr>\n",
       "      <th>7</th>\n",
       "      <td>7.0</td>\n",
       "      <td>1.5697</td>\n",
       "      <td>2.0863</td>\n",
       "      <td>3.6560</td>\n",
       "      <td>0.6442</td>\n",
       "    </tr>\n",
       "  </tbody>\n",
       "</table>\n",
       "</div>"
      ],
      "text/plain": [
       "   Polynomial Degree    Bias  Variance   Error      R2\n",
       "0                1.0  3.0066    0.6148  3.6214  0.2617\n",
       "1                1.0  3.0066    0.6148  3.6214  0.3186\n",
       "2                2.0  2.2527    1.4800  3.7326  0.4894\n",
       "3                3.0  1.7210    1.8858  3.6067  0.6100\n",
       "4                4.0  1.7147    1.8349  3.5495  0.6114\n",
       "5                5.0  1.7321    1.8200  3.5520  0.6074\n",
       "6                6.0  1.7684    1.9120  3.6804  0.5992\n",
       "7                7.0  1.5697    2.0863  3.6560  0.6442"
      ]
     },
     "execution_count": 9,
     "metadata": {},
     "output_type": "execute_result"
    }
   ],
   "source": [
    "results = results[[\"Polynomial Degree\", \"Bias\", \"Variance\", \"Error\", \"R2\"]]\n",
    "results.round(4)"
   ]
  },
  {
   "cell_type": "markdown",
   "id": "2866591b",
   "metadata": {},
   "source": [
    "# Model Complexity\n",
    "Let us analyze the relationship between the bias and variance first, then compare the training and test error according to different degree of polynomials."
   ]
  },
  {
   "cell_type": "markdown",
   "id": "efd288d7",
   "metadata": {},
   "source": [
    "## a. Bias vs. Variance"
   ]
  },
  {
   "cell_type": "code",
   "execution_count": 10,
   "id": "b3ce1880",
   "metadata": {
    "scrolled": false
   },
   "outputs": [
    {
     "data": {
      "image/png": "[encoded data removed]",
      "text/plain": [
       "<Figure size 720x576 with 1 Axes>"
      ]
     },
     "metadata": {
      "needs_background": "light"
     },
     "output_type": "display_data"
    }
   ],
   "source": [
    "biases = results[\"Bias\"].values\n",
    "variances = results[\"Variance\"].values\n",
    "errors = results[\"Error\"]\n",
    "\n",
    "plt.figure(figsize=(10, 8))\n",
    "dots = np.arange(1, 9)\n",
    "plt.plot(dots, biases, label=\"bias\")\n",
    "plt.plot(dots, variances, label=\"variance\")\n",
    "plt.plot(dots, errors, label=\"error\")\n",
    "plt.xlabel(\"Polynomial Degree\")\n",
    "plt.ylabel(\"Error\")\n",
    "plt.legend()\n",
    "plt.show()"
   ]
  },
  {
   "cell_type": "markdown",
   "id": "1f7adc00",
   "metadata": {},
   "source": [
    "## b. Training Error vs. Test Error"
   ]
  },
  {
   "cell_type": "markdown",
   "id": "f01fb72e",
   "metadata": {},
   "source": [
    "Now, let us analyze the error of the training and test sets, and observe the change in the errors of models that are trained with different polynomial degrees."
   ]
  },
  {
   "cell_type": "code",
   "execution_count": 11,
   "id": "a74bc72f",
   "metadata": {},
   "outputs": [
    {
     "name": "stdout",
     "output_type": "stream",
     "text": [
      "Training size: 70\n",
      "Test size: 30\n"
     ]
    }
   ],
   "source": [
    "# Define the feature and target sets\n",
    "X = data[\"X\"].values\n",
    "y = data[\"Y\"].values\n",
    "\n",
    "# Split the data into training and test sets\n",
    "# This time, let us use 30% of data for testing purposes\n",
    "from sklearn.model_selection import train_test_split\n",
    "\n",
    "X_train, X_test, y_train, y_test = train_test_split(X, y, test_size=0.30, random_state=42)\n",
    "\n",
    "print(\"Training size:\", X_train.shape[0])\n",
    "print(\"Test size:\", X_test.shape[0])"
   ]
  },
  {
   "cell_type": "code",
   "execution_count": 12,
   "id": "63ec2bf4",
   "metadata": {},
   "outputs": [],
   "source": [
    "# Create empty lists to collect the errors\n",
    "training_errors = list()\n",
    "test_errors = list()\n",
    "\n",
    "for n in range(1, 15):\n",
    "    # Determine the order of the polynomial\n",
    "    order = n   \n",
    "    # Train the model using training set\n",
    "    non_linear = np.poly1d(np.polyfit(X_train, y_train, order))\n",
    "    \n",
    "    # Training results\n",
    "    train_pred = non_linear(X_train)\n",
    "    mse_train = np.mean(np.square(y_train-train_pred))\n",
    "    training_errors.append(mse_train)\n",
    "    \n",
    "    # Test results\n",
    "    test_pred = non_linear(X_test)\n",
    "    mse_test = np.mean(np.square(y_test-test_pred))\n",
    "    test_errors.append(mse_test)"
   ]
  },
  {
   "cell_type": "code",
   "execution_count": 13,
   "id": "b6b25362",
   "metadata": {
    "scrolled": false
   },
   "outputs": [
    {
     "data": {
      "image/png": "[encoded data removed]",
      "text/plain": [
       "<Figure size 720x576 with 1 Axes>"
      ]
     },
     "metadata": {
      "needs_background": "light"
     },
     "output_type": "display_data"
    }
   ],
   "source": [
    "# Visualize results\n",
    "dots = np.arange(1, 15)\n",
    "plt.figure(figsize=(10, 8))\n",
    "plt.plot(dots, training_errors, label=\"Training Errors\")\n",
    "plt.plot(dots, test_errors, label=\"Test Errors\")\n",
    "plt.legend()\n",
    "plt.xlabel(\"Polynomial Degree\")\n",
    "plt.ylabel(\"MSE\")\n",
    "plt.title(\"Validation Curve\")\n",
    "\n",
    "# Mark the optimal point\n",
    "a = [3, 3]\n",
    "b = [0, 3]\n",
    "plt.plot(a, b, linestyle=\"--\")\n",
    "\n",
    "plt.show()"
   ]
  },
  {
   "cell_type": "markdown",
   "id": "8a1eefe2",
   "metadata": {},
   "source": [
    "From the validation curve above, we can observe that error reduction slows downs after the 3rd degree of polynomial. Also, it is evident that the test errors exhibit fluctations and even increment as we increase the polynomail degree of the regression. Therefore, it can be said that the optimal polynomail degree for this models is three. However, please note that in regression task, it is usually wise to move with the linear regression as it has the highest generalization capacity on new data.  "
   ]
  },
  {
   "cell_type": "markdown",
   "id": "9dd267e0",
   "metadata": {},
   "source": [
    "# END"
   ]
  }
 ],
 "metadata": {
  "kernelspec": {
   "display_name": "Python 3 (ipykernel)",
   "language": "python",
   "name": "python3"
  },
  "language_info": {
   "codemirror_mode": {
    "name": "ipython",
    "version": 3
   },
   "file_extension": ".py",
   "mimetype": "text/x-python",
   "name": "python",
   "nbconvert_exporter": "python",
   "pygments_lexer": "ipython3",
   "version": "3.7.13"
  }
 },
 "nbformat": 4,
 "nbformat_minor": 5
}
