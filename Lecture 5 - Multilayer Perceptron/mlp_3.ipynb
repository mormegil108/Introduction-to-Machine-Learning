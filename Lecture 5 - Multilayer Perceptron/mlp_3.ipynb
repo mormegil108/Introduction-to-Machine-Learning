{
 "cells": [
  {
   "cell_type": "markdown",
   "id": "780fea60",
   "metadata": {},
   "source": [
    "# Introduction to Machine Learning\n",
    "## Lecture 5 - Multilayer Perceptron\n",
    "### Notebook 3: Hyperparameter Tuning with Grid Search\n",
    "Prapared by: Said Bolluk"
   ]
  },
  {
   "cell_type": "code",
   "execution_count": 1,
   "id": "b2a22fc7",
   "metadata": {},
   "outputs": [],
   "source": [
    "import pandas as pd\n",
    "import numpy as np\n",
    "import matplotlib.pyplot as plt\n",
    "%matplotlib inline"
   ]
  },
  {
   "cell_type": "markdown",
   "id": "75907ac4",
   "metadata": {},
   "source": [
    "# Data Preparation"
   ]
  },
  {
   "cell_type": "markdown",
   "id": "26213eef",
   "metadata": {},
   "source": [
    "More info about the Breast Cancer Wisconsin (Diagnostic) Data Set: https://archive.ics.uci.edu/ml/datasets/Breast+Cancer+Wisconsin+(Diagnostic)"
   ]
  },
  {
   "cell_type": "code",
   "execution_count": 2,
   "id": "f1a1e6f5",
   "metadata": {},
   "outputs": [],
   "source": [
    "from sklearn.datasets import load_breast_cancer"
   ]
  },
  {
   "cell_type": "code",
   "execution_count": 3,
   "id": "ef1cca7a",
   "metadata": {},
   "outputs": [],
   "source": [
    "cancer_data = load_breast_cancer()\n",
    "X = cancer_data.data\n",
    "y = cancer_data.target"
   ]
  },
  {
   "cell_type": "code",
   "execution_count": 4,
   "id": "19b04761",
   "metadata": {},
   "outputs": [
    {
     "data": {
      "text/plain": [
       "(569, 30)"
      ]
     },
     "execution_count": 4,
     "metadata": {},
     "output_type": "execute_result"
    }
   ],
   "source": [
    "X.shape"
   ]
  },
  {
   "cell_type": "markdown",
   "id": "20d1d0bb",
   "metadata": {},
   "source": [
    "Class labels for breast cancer: Malignant (0), Benign (1)"
   ]
  },
  {
   "cell_type": "code",
   "execution_count": 5,
   "id": "de2e1cf4",
   "metadata": {
    "scrolled": true
   },
   "outputs": [
    {
     "name": "stdout",
     "output_type": "stream",
     "text": [
      "Class labels: [0 1]\n",
      "Class distribution: [212 357]\n"
     ]
    }
   ],
   "source": [
    "# 212 - Malignant, 357 - Benign\n",
    "print(\"Class labels:\", np.unique(y))\n",
    "print(\"Class distribution:\", np.bincount(y))"
   ]
  },
  {
   "cell_type": "markdown",
   "id": "83635b0a",
   "metadata": {},
   "source": [
    "Check for the missing values"
   ]
  },
  {
   "cell_type": "code",
   "execution_count": 6,
   "id": "537cb723",
   "metadata": {},
   "outputs": [
    {
     "data": {
      "text/plain": [
       "0"
      ]
     },
     "execution_count": 6,
     "metadata": {},
     "output_type": "execute_result"
    }
   ],
   "source": [
    "np.sum(np.isnan(X))"
   ]
  },
  {
   "cell_type": "markdown",
   "id": "ca4c2f50",
   "metadata": {},
   "source": [
    "We have a binary classification task over a dataset with 30 features for 569 instances. The features, such as perimeter, texture, and compactness, were extracted from real images of breast cancer. The classes represent the nature of breast cancer. For example, Malignant (0) indicates ill-natured cancer, whereas Benign indicates good-natured cancer. There is no missing data in the dataset."
   ]
  },
  {
   "cell_type": "markdown",
   "id": "f88647c7",
   "metadata": {},
   "source": [
    "# Hyperparameter Tuning"
   ]
  },
  {
   "cell_type": "markdown",
   "id": "d75b9142",
   "metadata": {},
   "source": [
    "We will now manipulate the hyperparameters of an MLP Classifier to obtain the optimal results. Note that we did not split the data into training and test set because we want to test different split combinations when tuning the hyperparameters with cross-validation (CV). CV will allow us to test each hyperparameter setting on different combinations of the dataset so the final results can represent the population rather than only the sample. Remember that in machine learning, generalization is a crucial topic."
   ]
  },
  {
   "cell_type": "markdown",
   "id": "0c0b0e98",
   "metadata": {},
   "source": [
    "We will use an existing library to create an MLP Classifier:"
   ]
  },
  {
   "cell_type": "code",
   "execution_count": 7,
   "id": "b69e6bfc",
   "metadata": {},
   "outputs": [],
   "source": [
    "from sklearn.neural_network import MLPClassifier"
   ]
  },
  {
   "cell_type": "markdown",
   "id": "6b60aab0",
   "metadata": {},
   "source": [
    "Let us display the model's hyperparameters and their default settings:"
   ]
  },
  {
   "cell_type": "code",
   "execution_count": 8,
   "id": "0e0099b8",
   "metadata": {},
   "outputs": [
    {
     "data": {
      "text/plain": [
       "{'activation': 'relu',\n",
       " 'alpha': 0.0001,\n",
       " 'batch_size': 'auto',\n",
       " 'beta_1': 0.9,\n",
       " 'beta_2': 0.999,\n",
       " 'early_stopping': False,\n",
       " 'epsilon': 1e-08,\n",
       " 'hidden_layer_sizes': (100,),\n",
       " 'learning_rate': 'constant',\n",
       " 'learning_rate_init': 0.001,\n",
       " 'max_fun': 15000,\n",
       " 'max_iter': 200,\n",
       " 'momentum': 0.9,\n",
       " 'n_iter_no_change': 10,\n",
       " 'nesterovs_momentum': True,\n",
       " 'power_t': 0.5,\n",
       " 'random_state': None,\n",
       " 'shuffle': True,\n",
       " 'solver': 'adam',\n",
       " 'tol': 0.0001,\n",
       " 'validation_fraction': 0.1,\n",
       " 'verbose': False,\n",
       " 'warm_start': False}"
      ]
     },
     "execution_count": 8,
     "metadata": {},
     "output_type": "execute_result"
    }
   ],
   "source": [
    "MLPClassifier().get_params()"
   ]
  },
  {
   "cell_type": "markdown",
   "id": "cc2b74e7",
   "metadata": {},
   "source": [
    "Since we cannot tune all the parameters above due to computational and time requirements, we will fix some of them. For example, the solver refers to the optimization function. We will use SGD for optimization. We will test the number of epochs for the final observation through the validation curve. Therefore, we will also fix the number of epochs to 500. We want to analyze instances one by one. Thus, the batch size is equal to one (1). Finally, the hidden layer size is a very complex phenomenon in ANN. Many scenarios can be tested to determine the optimal hidden layer setting. Therefore, we stick to a straightforward plan: having only one hidden layer with n hidden units. And the unit number n is the mean of the input (feature set) and output (target set) units. Since there are thirty (30) features and two (2) classes, n equals 16.\n",
    "\\\n",
    "\\\n",
    "On the other hand, the hyperparameters we are interested in this section are **activation function, learning rate, and momentum.** The other parameters will remain default."
   ]
  },
  {
   "cell_type": "markdown",
   "id": "6553e5f8",
   "metadata": {},
   "source": [
    "Create the model object with a hyperparameter setting:"
   ]
  },
  {
   "cell_type": "code",
   "execution_count": 13,
   "id": "b53f1479",
   "metadata": {},
   "outputs": [],
   "source": [
    "mlp_classifier = MLPClassifier(\n",
    "    solver=\"sgd\",\n",
    "    max_iter=500,\n",
    "    batch_size=1,\n",
    "    hidden_layer_sizes=(16,),\n",
    ")"
   ]
  },
  {
   "cell_type": "code",
   "execution_count": null,
   "id": "cc0c06f7",
   "metadata": {},
   "outputs": [],
   "source": [
    "# Scale the whole dataset\n",
    "from sklearn.preprocessing import StandardScaler\n",
    "scaler = StandardScaler()  \n",
    "scaler.fit(X)  \n",
    "X_scaled = scaler.transform(X)"
   ]
  },
  {
   "cell_type": "markdown",
   "id": "ad39e8dd",
   "metadata": {},
   "source": [
    "Now we can start tuning the hyperparameters. We will use an existing library for this operation: **GridSearchCV**."
   ]
  },
  {
   "cell_type": "code",
   "execution_count": 10,
   "id": "291ae8e6",
   "metadata": {},
   "outputs": [],
   "source": [
    "from sklearn.model_selection import GridSearchCV"
   ]
  },
  {
   "cell_type": "code",
   "execution_count": 14,
   "id": "aecbc851",
   "metadata": {},
   "outputs": [
    {
     "name": "stdout",
     "output_type": "stream",
     "text": [
      "Fitting 5 folds for each of 50 candidates, totalling 250 fits\n"
     ]
    }
   ],
   "source": [
    "# Create a dictionary for the hyperparameters and their possible values tested thorugh Grid Search\n",
    "parameters = {\n",
    "    \"activation\": [\"logistic\", \"tanh\"],\n",
    "    \"learning_rate_init\": [5e-4, 1e-3, 5e-3, 8e-3, 1e-2],   \n",
    "    \"momentum\": [0.5, 0.6, 0.7, 0.8, 0.9],\n",
    "}\n",
    "\n",
    "# Calculate the time\n",
    "import timeit\n",
    "\n",
    "start = timeit.default_timer()\n",
    "\n",
    "# Use five different sets of data to improve generalization: cv=5\n",
    "grid_search = GridSearchCV(mlp_classifier, parameters, verbose=1, cv=5)\n",
    "# Fit whole data since CV will make the training and testing split for us\n",
    "grid_search.fit(X_scaled, y)\n",
    "\n",
    "stop = timeit.default_timer()\n",
    "run_time = stop - start"
   ]
  },
  {
   "cell_type": "code",
   "execution_count": 35,
   "id": "ab7d10b8",
   "metadata": {},
   "outputs": [
    {
     "name": "stdout",
     "output_type": "stream",
     "text": [
      "Time (seconds): 2908.96\n",
      "Time (mins): 48.48\n"
     ]
    }
   ],
   "source": [
    "# Print the total time for the hyperparameter tuning\n",
    "print(f\"Time (seconds): {run_time:.2f}\")\n",
    "print(f\"Time (mins): {run_time/60:.2f}\")"
   ]
  },
  {
   "cell_type": "code",
   "execution_count": 16,
   "id": "bd032313",
   "metadata": {},
   "outputs": [
    {
     "name": "stdout",
     "output_type": "stream",
     "text": [
      "Optimal setting: MLPClassifier(activation='logistic', batch_size=1, hidden_layer_sizes=(16,),\n",
      "              learning_rate_init=0.0005, max_iter=500, momentum=0.6,\n",
      "              solver='sgd')\n",
      "Highest Accuracy: 0.980686\n"
     ]
    }
   ],
   "source": [
    "# According to Grid Search, optimal hyperparameter settings with the highest accuracy score:\n",
    "print(f\"Optimal setting: {grid_search.best_estimator_}\")\n",
    "print(f\"Highest Accuracy: {grid_search.best_score_:3f}\")"
   ]
  },
  {
   "cell_type": "markdown",
   "id": "e83c87de",
   "metadata": {},
   "source": [
    "Let us now decide on the optimal number of epochs using the validation curve. The validation curve will help us analyze the relationship between the epoch number and the model's training and testing performance. We will split our data into three sets: (1) Training and (2) Validation, and (3) Testing. After determining the optimal number of epochs utilizing the training and validation sets, we will test our model on the test set and publish the results accordingly."
   ]
  },
  {
   "cell_type": "code",
   "execution_count": 17,
   "id": "fff5fd88",
   "metadata": {},
   "outputs": [
    {
     "name": "stdout",
     "output_type": "stream",
     "text": [
      "Training size: 318\n",
      "Validation size: 137\n",
      "Test size: 114\n",
      "Class distribution for training set: [119 199]\n",
      "Class distribution for validation set: [51 86]\n",
      "Class distribution for test set: [42 72]\n"
     ]
    }
   ],
   "source": [
    "# Split the data into training, validation, and test sets\n",
    "from sklearn.model_selection import train_test_split\n",
    "\n",
    "X_pre, X_test, y_pre, y_test = train_test_split(X, y, test_size=0.20, stratify=y, random_state=42)\n",
    "X_train, X_val, y_train, y_val = train_test_split(X_pre, y_pre, test_size=0.30, stratify=y_pre,random_state=42)\n",
    "\n",
    "print(\"Training size:\", X_train.shape[0])\n",
    "print(\"Validation size:\", X_val.shape[0])\n",
    "print(\"Test size:\", X_test.shape[0])\n",
    "\n",
    "print(\"Class distribution for training set:\", np.bincount(y_train))\n",
    "print(\"Class distribution for validation set:\", np.bincount(y_val))\n",
    "print(\"Class distribution for test set:\", np.bincount(y_test))"
   ]
  },
  {
   "cell_type": "markdown",
   "id": "e95c1fd0",
   "metadata": {},
   "source": [
    "Scale each set of data"
   ]
  },
  {
   "cell_type": "code",
   "execution_count": 18,
   "id": "001f97cc",
   "metadata": {},
   "outputs": [],
   "source": [
    "from sklearn.preprocessing import StandardScaler\n",
    "scaler = StandardScaler()  \n",
    "scaler.fit(X_train)  \n",
    "X_train_scaled = scaler.transform(X_train)\n",
    "X_val_scaled = scaler.transform(X_val)\n",
    "X_test_scaled = scaler.transform(X_test)"
   ]
  },
  {
   "cell_type": "markdown",
   "id": "b8dbf528",
   "metadata": {},
   "source": [
    "# Validation Curve"
   ]
  },
  {
   "cell_type": "code",
   "execution_count": 20,
   "id": "16ba4844",
   "metadata": {},
   "outputs": [
    {
     "name": "stderr",
     "output_type": "stream",
     "text": [
      "C:\\Users\\User\\anaconda3\\envs\\pytorch_p37\\lib\\site-packages\\sklearn\\neural_network\\_multilayer_perceptron.py:696: ConvergenceWarning: Stochastic Optimizer: Maximum iterations (10) reached and the optimization hasn't converged yet.\n",
      "  ConvergenceWarning,\n",
      "C:\\Users\\User\\anaconda3\\envs\\pytorch_p37\\lib\\site-packages\\sklearn\\neural_network\\_multilayer_perceptron.py:696: ConvergenceWarning: Stochastic Optimizer: Maximum iterations (25) reached and the optimization hasn't converged yet.\n",
      "  ConvergenceWarning,\n",
      "C:\\Users\\User\\anaconda3\\envs\\pytorch_p37\\lib\\site-packages\\sklearn\\neural_network\\_multilayer_perceptron.py:696: ConvergenceWarning: Stochastic Optimizer: Maximum iterations (50) reached and the optimization hasn't converged yet.\n",
      "  ConvergenceWarning,\n",
      "C:\\Users\\User\\anaconda3\\envs\\pytorch_p37\\lib\\site-packages\\sklearn\\neural_network\\_multilayer_perceptron.py:696: ConvergenceWarning: Stochastic Optimizer: Maximum iterations (75) reached and the optimization hasn't converged yet.\n",
      "  ConvergenceWarning,\n",
      "C:\\Users\\User\\anaconda3\\envs\\pytorch_p37\\lib\\site-packages\\sklearn\\neural_network\\_multilayer_perceptron.py:696: ConvergenceWarning: Stochastic Optimizer: Maximum iterations (100) reached and the optimization hasn't converged yet.\n",
      "  ConvergenceWarning,\n",
      "C:\\Users\\User\\anaconda3\\envs\\pytorch_p37\\lib\\site-packages\\sklearn\\neural_network\\_multilayer_perceptron.py:696: ConvergenceWarning: Stochastic Optimizer: Maximum iterations (150) reached and the optimization hasn't converged yet.\n",
      "  ConvergenceWarning,\n",
      "C:\\Users\\User\\anaconda3\\envs\\pytorch_p37\\lib\\site-packages\\sklearn\\neural_network\\_multilayer_perceptron.py:696: ConvergenceWarning: Stochastic Optimizer: Maximum iterations (200) reached and the optimization hasn't converged yet.\n",
      "  ConvergenceWarning,\n"
     ]
    },
    {
     "data": {
      "image/png": "[encoded data removed]",
      "text/plain": [
       "<Figure size 576x432 with 1 Axes>"
      ]
     },
     "metadata": {
      "needs_background": "light"
     },
     "output_type": "display_data"
    }
   ],
   "source": [
    "train_acc = list()\n",
    "validation_acc = list()\n",
    "\n",
    "epoch_list = [10, 25, 50, 75, 100, 150, 200, 300, 400, 500]\n",
    "\n",
    "for epoch in epoch_list:\n",
    "    \n",
    "    mlp_classifier = MLPClassifier(\n",
    "        solver=\"sgd\",\n",
    "        max_iter=epoch,\n",
    "        batch_size=1,\n",
    "        activation=\"logistic\",\n",
    "        hidden_layer_sizes=(16,),\n",
    "        learning_rate_init=5e-4,\n",
    "        momentum=0.6,     \n",
    "    )\n",
    "    \n",
    "    # Train the model\n",
    "    mlp_classifier.fit(X_train_scaled, y_train)\n",
    "    \n",
    "    # Make predictions and calculate the accuracy for the training and validations sets\n",
    "    pred_train = mlp_classifier.predict(X_train_scaled)\n",
    "    accuracy_train = np.sum(y_train==pred_train) / y_train.shape[0]\n",
    "    pred_val = mlp_classifier.predict(X_val_scaled)\n",
    "    accuracy_val = np.sum(y_val==pred_val) / y_val.shape[0]\n",
    "    \n",
    "    # Append the accuracy lists with the result of each epoch\n",
    "    train_acc.append(accuracy_train)\n",
    "    validation_acc.append(accuracy_val)\n",
    "    \n",
    "# Visualize the results\n",
    "plt.figure(figsize=(8, 6))\n",
    "plt.plot(epoch_list, train_acc, color=\"orange\", label=\"Training Accuracy\")\n",
    "plt.plot(epoch_list, validation_acc, color=\"green\", label=\"Validation Accuracy\", linestyle=\"--\")\n",
    "plt.title(\"Epoch vs. Accuracy Score\")\n",
    "plt.legend()\n",
    "plt.xlabel(\"Number of Epoch\")\n",
    "plt.ylabel(\"Accuracy\")\n",
    "plt.show()"
   ]
  },
  {
   "cell_type": "markdown",
   "id": "d7c4e473",
   "metadata": {},
   "source": [
    "According to the validation curve, the optimal epoch number is around 300 since the test accuracy stopped improving after this point. Even though higher epoch numbers enhanced the accuracy of the training set, we aim to increase the model's generalization capacity. Therefore, we determined the optimal number of the epoch as **300**. We will now perform a final analysis on the test set and publish the results accordingly."
   ]
  },
  {
   "cell_type": "markdown",
   "id": "5a834503",
   "metadata": {},
   "source": [
    "# Evaluation of the Classification Model: MLP Classifier"
   ]
  },
  {
   "cell_type": "code",
   "execution_count": 21,
   "id": "30d171a8",
   "metadata": {},
   "outputs": [
    {
     "name": "stdout",
     "output_type": "stream",
     "text": [
      "Final Accuracy: 0.965\n"
     ]
    }
   ],
   "source": [
    "# Define an MLP classifier with the optimal hyperparameter settings\n",
    "mlp_classifier = MLPClassifier(\n",
    "    solver=\"sgd\",\n",
    "    max_iter=300,\n",
    "    batch_size=1,\n",
    "    activation=\"logistic\",\n",
    "    hidden_layer_sizes=(16,),\n",
    "    learning_rate_init=5e-4,\n",
    "    momentum=0.6,\n",
    ")\n",
    "\n",
    "# Train the model\n",
    "mlp_classifier.fit(X_train_scaled, y_train)\n",
    "\n",
    "# Make predictions over the test set\n",
    "test_preds = mlp_classifier.predict(X_test_scaled)\n",
    "\n",
    "# Calculate the accuracy\n",
    "acc_test = np.sum(y_test==test_preds) / y_test.shape[0]\n",
    "print(f\"Final Accuracy: {acc_test:.3f}\")"
   ]
  },
  {
   "cell_type": "markdown",
   "id": "846b70c1",
   "metadata": {},
   "source": [
    "## Classification Evaluation Metrics"
   ]
  },
  {
   "cell_type": "markdown",
   "id": "cbe93bb7",
   "metadata": {},
   "source": [
    "Let us observe the classification results over several metrics, such as the F1 Score and Confusion Matrix."
   ]
  },
  {
   "cell_type": "code",
   "execution_count": 22,
   "id": "68d48dbb",
   "metadata": {},
   "outputs": [],
   "source": [
    "from sklearn.metrics import classification_report, confusion_matrix, ConfusionMatrixDisplay"
   ]
  },
  {
   "cell_type": "code",
   "execution_count": 24,
   "id": "0be9f959",
   "metadata": {},
   "outputs": [
    {
     "name": "stdout",
     "output_type": "stream",
     "text": [
      "              precision    recall  f1-score   support\n",
      "\n",
      "           0       0.93      0.98      0.95        42\n",
      "           1       0.99      0.96      0.97        72\n",
      "\n",
      "    accuracy                           0.96       114\n",
      "   macro avg       0.96      0.97      0.96       114\n",
      "weighted avg       0.97      0.96      0.97       114\n",
      "\n"
     ]
    }
   ],
   "source": [
    "# Classification report\n",
    "print(classification_report(y_test, test_preds))"
   ]
  },
  {
   "cell_type": "code",
   "execution_count": 25,
   "id": "a9cd067d",
   "metadata": {},
   "outputs": [
    {
     "data": {
      "image/png": "[encoded data removed]",
      "text/plain": [
       "<Figure size 576x576 with 2 Axes>"
      ]
     },
     "metadata": {
      "needs_background": "light"
     },
     "output_type": "display_data"
    }
   ],
   "source": [
    "# Confusion Matrix\n",
    "fig, ax = plt.subplots(1, 1, figsize=(8, 8))\n",
    "transaction = [\"Malignant\", \"Benign\"]\n",
    "cm = confusion_matrix(y_test, test_preds, labels=[0, 1])\n",
    "disp = ConfusionMatrixDisplay(confusion_matrix=cm, display_labels=transaction)\n",
    "disp.plot(ax=ax, cmap=\"viridis\")\n",
    "plt.title(\"MLP Classifier\")\n",
    "plt.show()"
   ]
  },
  {
   "cell_type": "markdown",
   "id": "60e90490",
   "metadata": {},
   "source": [
    "**Discussion:** Our model made three (3) misclassification for the Benign class and one (1) misclassification for the Malignant class. Regarding the Cost-Sensitivity concept in machine learning, our model is more inclined to label people with ill-natured cancer as good-natured rather than the opposite. This is much safer than the reverse case. Plus, considering the high accuracy score of 0.965, we can say that our model is very satisfactory."
   ]
  },
  {
   "cell_type": "markdown",
   "id": "c0ca9b58",
   "metadata": {},
   "source": [
    "# END"
   ]
  }
 ],
 "metadata": {
  "kernelspec": {
   "display_name": "Python 3 (ipykernel)",
   "language": "python",
   "name": "python3"
  },
  "language_info": {
   "codemirror_mode": {
    "name": "ipython",
    "version": 3
   },
   "file_extension": ".py",
   "mimetype": "text/x-python",
   "name": "python",
   "nbconvert_exporter": "python",
   "pygments_lexer": "ipython3",
   "version": "3.7.13"
  }
 },
 "nbformat": 4,
 "nbformat_minor": 5
}
