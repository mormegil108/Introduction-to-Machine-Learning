{
 "cells": [
  {
   "cell_type": "markdown",
   "id": "b2f57bb8",
   "metadata": {},
   "source": [
    "# Introduction to Machine Learning\n",
    "## Lecture 4 - Logistic Discrimination\n",
    "### Notebook 3: Logistic Regression on Credit Card Fraud Detection\n",
    "Prapared by: Said Bolluk"
   ]
  },
  {
   "cell_type": "markdown",
   "id": "fcdb831e",
   "metadata": {},
   "source": [
    "Try to understand the dataset: https://www.kaggle.com/datasets/mlg-ulb/creditcardfraud?resource=download"
   ]
  },
  {
   "cell_type": "markdown",
   "id": "b9c7901e",
   "metadata": {},
   "source": [
    "The dataset contains transactions made by credit cards in September 2013 by European cardholders.\n",
    "This dataset presents transactions that occurred in two days, where we have 492 frauds out of 284,807 transactions. The dataset is highly unbalanced, the positive class (frauds) account for 0.172% of all transactions.\n",
    "\n",
    "Feature 'Time' contains the seconds elapsed between each transaction and the first transaction in the dataset. The feature 'Amount' is the transaction Amount. Feature 'Class' is the response variable and it takes value 1 in case of fraud and 0 otherwise."
   ]
  },
  {
   "cell_type": "code",
   "execution_count": 1,
   "id": "11c6aabf",
   "metadata": {},
   "outputs": [],
   "source": [
    "import pandas as pd\n",
    "import numpy as np\n",
    "import matplotlib.pyplot as plt\n",
    "%matplotlib inline"
   ]
  },
  {
   "cell_type": "markdown",
   "id": "8fd85960",
   "metadata": {},
   "source": [
    "# Data Preparation"
   ]
  },
  {
   "cell_type": "code",
   "execution_count": 2,
   "id": "3a271efb",
   "metadata": {},
   "outputs": [
    {
     "data": {
      "text/html": [
       "<div>\n",
       "<style scoped>\n",
       "    .dataframe tbody tr th:only-of-type {\n",
       "        vertical-align: middle;\n",
       "    }\n",
       "\n",
       "    .dataframe tbody tr th {\n",
       "        vertical-align: top;\n",
       "    }\n",
       "\n",
       "    .dataframe thead th {\n",
       "        text-align: right;\n",
       "    }\n",
       "</style>\n",
       "<table border=\"1\" class=\"dataframe\">\n",
       "  <thead>\n",
       "    <tr style=\"text-align: right;\">\n",
       "      <th></th>\n",
       "      <th>Time</th>\n",
       "      <th>V1</th>\n",
       "      <th>V2</th>\n",
       "      <th>V3</th>\n",
       "      <th>V4</th>\n",
       "      <th>V5</th>\n",
       "      <th>V6</th>\n",
       "      <th>V7</th>\n",
       "      <th>V8</th>\n",
       "      <th>V9</th>\n",
       "      <th>...</th>\n",
       "      <th>V21</th>\n",
       "      <th>V22</th>\n",
       "      <th>V23</th>\n",
       "      <th>V24</th>\n",
       "      <th>V25</th>\n",
       "      <th>V26</th>\n",
       "      <th>V27</th>\n",
       "      <th>V28</th>\n",
       "      <th>Amount</th>\n",
       "      <th>Class</th>\n",
       "    </tr>\n",
       "  </thead>\n",
       "  <tbody>\n",
       "    <tr>\n",
       "      <th>0</th>\n",
       "      <td>0.0</td>\n",
       "      <td>-1.359807</td>\n",
       "      <td>-0.072781</td>\n",
       "      <td>2.536347</td>\n",
       "      <td>1.378155</td>\n",
       "      <td>-0.338321</td>\n",
       "      <td>0.462388</td>\n",
       "      <td>0.239599</td>\n",
       "      <td>0.098698</td>\n",
       "      <td>0.363787</td>\n",
       "      <td>...</td>\n",
       "      <td>-0.018307</td>\n",
       "      <td>0.277838</td>\n",
       "      <td>-0.110474</td>\n",
       "      <td>0.066928</td>\n",
       "      <td>0.128539</td>\n",
       "      <td>-0.189115</td>\n",
       "      <td>0.133558</td>\n",
       "      <td>-0.021053</td>\n",
       "      <td>149.62</td>\n",
       "      <td>0</td>\n",
       "    </tr>\n",
       "    <tr>\n",
       "      <th>1</th>\n",
       "      <td>0.0</td>\n",
       "      <td>1.191857</td>\n",
       "      <td>0.266151</td>\n",
       "      <td>0.166480</td>\n",
       "      <td>0.448154</td>\n",
       "      <td>0.060018</td>\n",
       "      <td>-0.082361</td>\n",
       "      <td>-0.078803</td>\n",
       "      <td>0.085102</td>\n",
       "      <td>-0.255425</td>\n",
       "      <td>...</td>\n",
       "      <td>-0.225775</td>\n",
       "      <td>-0.638672</td>\n",
       "      <td>0.101288</td>\n",
       "      <td>-0.339846</td>\n",
       "      <td>0.167170</td>\n",
       "      <td>0.125895</td>\n",
       "      <td>-0.008983</td>\n",
       "      <td>0.014724</td>\n",
       "      <td>2.69</td>\n",
       "      <td>0</td>\n",
       "    </tr>\n",
       "    <tr>\n",
       "      <th>2</th>\n",
       "      <td>1.0</td>\n",
       "      <td>-1.358354</td>\n",
       "      <td>-1.340163</td>\n",
       "      <td>1.773209</td>\n",
       "      <td>0.379780</td>\n",
       "      <td>-0.503198</td>\n",
       "      <td>1.800499</td>\n",
       "      <td>0.791461</td>\n",
       "      <td>0.247676</td>\n",
       "      <td>-1.514654</td>\n",
       "      <td>...</td>\n",
       "      <td>0.247998</td>\n",
       "      <td>0.771679</td>\n",
       "      <td>0.909412</td>\n",
       "      <td>-0.689281</td>\n",
       "      <td>-0.327642</td>\n",
       "      <td>-0.139097</td>\n",
       "      <td>-0.055353</td>\n",
       "      <td>-0.059752</td>\n",
       "      <td>378.66</td>\n",
       "      <td>0</td>\n",
       "    </tr>\n",
       "    <tr>\n",
       "      <th>3</th>\n",
       "      <td>1.0</td>\n",
       "      <td>-0.966272</td>\n",
       "      <td>-0.185226</td>\n",
       "      <td>1.792993</td>\n",
       "      <td>-0.863291</td>\n",
       "      <td>-0.010309</td>\n",
       "      <td>1.247203</td>\n",
       "      <td>0.237609</td>\n",
       "      <td>0.377436</td>\n",
       "      <td>-1.387024</td>\n",
       "      <td>...</td>\n",
       "      <td>-0.108300</td>\n",
       "      <td>0.005274</td>\n",
       "      <td>-0.190321</td>\n",
       "      <td>-1.175575</td>\n",
       "      <td>0.647376</td>\n",
       "      <td>-0.221929</td>\n",
       "      <td>0.062723</td>\n",
       "      <td>0.061458</td>\n",
       "      <td>123.50</td>\n",
       "      <td>0</td>\n",
       "    </tr>\n",
       "    <tr>\n",
       "      <th>4</th>\n",
       "      <td>2.0</td>\n",
       "      <td>-1.158233</td>\n",
       "      <td>0.877737</td>\n",
       "      <td>1.548718</td>\n",
       "      <td>0.403034</td>\n",
       "      <td>-0.407193</td>\n",
       "      <td>0.095921</td>\n",
       "      <td>0.592941</td>\n",
       "      <td>-0.270533</td>\n",
       "      <td>0.817739</td>\n",
       "      <td>...</td>\n",
       "      <td>-0.009431</td>\n",
       "      <td>0.798278</td>\n",
       "      <td>-0.137458</td>\n",
       "      <td>0.141267</td>\n",
       "      <td>-0.206010</td>\n",
       "      <td>0.502292</td>\n",
       "      <td>0.219422</td>\n",
       "      <td>0.215153</td>\n",
       "      <td>69.99</td>\n",
       "      <td>0</td>\n",
       "    </tr>\n",
       "  </tbody>\n",
       "</table>\n",
       "<p>5 rows × 31 columns</p>\n",
       "</div>"
      ],
      "text/plain": [
       "   Time        V1        V2        V3        V4        V5        V6        V7  \\\n",
       "0   0.0 -1.359807 -0.072781  2.536347  1.378155 -0.338321  0.462388  0.239599   \n",
       "1   0.0  1.191857  0.266151  0.166480  0.448154  0.060018 -0.082361 -0.078803   \n",
       "2   1.0 -1.358354 -1.340163  1.773209  0.379780 -0.503198  1.800499  0.791461   \n",
       "3   1.0 -0.966272 -0.185226  1.792993 -0.863291 -0.010309  1.247203  0.237609   \n",
       "4   2.0 -1.158233  0.877737  1.548718  0.403034 -0.407193  0.095921  0.592941   \n",
       "\n",
       "         V8        V9  ...       V21       V22       V23       V24       V25  \\\n",
       "0  0.098698  0.363787  ... -0.018307  0.277838 -0.110474  0.066928  0.128539   \n",
       "1  0.085102 -0.255425  ... -0.225775 -0.638672  0.101288 -0.339846  0.167170   \n",
       "2  0.247676 -1.514654  ...  0.247998  0.771679  0.909412 -0.689281 -0.327642   \n",
       "3  0.377436 -1.387024  ... -0.108300  0.005274 -0.190321 -1.175575  0.647376   \n",
       "4 -0.270533  0.817739  ... -0.009431  0.798278 -0.137458  0.141267 -0.206010   \n",
       "\n",
       "        V26       V27       V28  Amount  Class  \n",
       "0 -0.189115  0.133558 -0.021053  149.62      0  \n",
       "1  0.125895 -0.008983  0.014724    2.69      0  \n",
       "2 -0.139097 -0.055353 -0.059752  378.66      0  \n",
       "3 -0.221929  0.062723  0.061458  123.50      0  \n",
       "4  0.502292  0.219422  0.215153   69.99      0  \n",
       "\n",
       "[5 rows x 31 columns]"
      ]
     },
     "execution_count": 2,
     "metadata": {},
     "output_type": "execute_result"
    }
   ],
   "source": [
    "data = pd.read_csv(\"../datasets/creditcard.csv\")\n",
    "data.head()"
   ]
  },
  {
   "cell_type": "code",
   "execution_count": 3,
   "id": "7824bd0f",
   "metadata": {},
   "outputs": [],
   "source": [
    "# Create a copy of the dataset for the future use\n",
    "fraud_data = data.copy()"
   ]
  },
  {
   "cell_type": "code",
   "execution_count": 4,
   "id": "2eb45394",
   "metadata": {},
   "outputs": [
    {
     "data": {
      "text/plain": [
       "(284807, 31)"
      ]
     },
     "execution_count": 4,
     "metadata": {},
     "output_type": "execute_result"
    }
   ],
   "source": [
    "data.shape"
   ]
  },
  {
   "cell_type": "code",
   "execution_count": 5,
   "id": "e5130b12",
   "metadata": {},
   "outputs": [
    {
     "name": "stdout",
     "output_type": "stream",
     "text": [
      "<class 'pandas.core.frame.DataFrame'>\n",
      "RangeIndex: 284807 entries, 0 to 284806\n",
      "Data columns (total 31 columns):\n",
      " #   Column  Non-Null Count   Dtype  \n",
      "---  ------  --------------   -----  \n",
      " 0   Time    284807 non-null  float64\n",
      " 1   V1      284807 non-null  float64\n",
      " 2   V2      284807 non-null  float64\n",
      " 3   V3      284807 non-null  float64\n",
      " 4   V4      284807 non-null  float64\n",
      " 5   V5      284807 non-null  float64\n",
      " 6   V6      284807 non-null  float64\n",
      " 7   V7      284807 non-null  float64\n",
      " 8   V8      284807 non-null  float64\n",
      " 9   V9      284807 non-null  float64\n",
      " 10  V10     284807 non-null  float64\n",
      " 11  V11     284807 non-null  float64\n",
      " 12  V12     284807 non-null  float64\n",
      " 13  V13     284807 non-null  float64\n",
      " 14  V14     284807 non-null  float64\n",
      " 15  V15     284807 non-null  float64\n",
      " 16  V16     284807 non-null  float64\n",
      " 17  V17     284807 non-null  float64\n",
      " 18  V18     284807 non-null  float64\n",
      " 19  V19     284807 non-null  float64\n",
      " 20  V20     284807 non-null  float64\n",
      " 21  V21     284807 non-null  float64\n",
      " 22  V22     284807 non-null  float64\n",
      " 23  V23     284807 non-null  float64\n",
      " 24  V24     284807 non-null  float64\n",
      " 25  V25     284807 non-null  float64\n",
      " 26  V26     284807 non-null  float64\n",
      " 27  V27     284807 non-null  float64\n",
      " 28  V28     284807 non-null  float64\n",
      " 29  Amount  284807 non-null  float64\n",
      " 30  Class   284807 non-null  int64  \n",
      "dtypes: float64(30), int64(1)\n",
      "memory usage: 67.4 MB\n"
     ]
    }
   ],
   "source": [
    "data.info()"
   ]
  },
  {
   "cell_type": "markdown",
   "id": "adf24156",
   "metadata": {},
   "source": [
    "Let us check the class distribution of the target variable: **Class**. Ones (C=1) tell us the transaction is a fraud where zeros (C==0) indicates that the transaction is normal."
   ]
  },
  {
   "cell_type": "code",
   "execution_count": 6,
   "id": "68001100",
   "metadata": {},
   "outputs": [
    {
     "data": {
      "text/plain": [
       "0    284315\n",
       "1       492\n",
       "Name: Class, dtype: int64"
      ]
     },
     "execution_count": 6,
     "metadata": {},
     "output_type": "execute_result"
    }
   ],
   "source": [
    "data[\"Class\"].value_counts()"
   ]
  },
  {
   "cell_type": "markdown",
   "id": "2db12297",
   "metadata": {},
   "source": [
    "We see that the dataset is highly imbalanced. Therefore, we will remove some of the zeros and make the class distribution even."
   ]
  },
  {
   "cell_type": "code",
   "execution_count": 7,
   "id": "2f5f1bb5",
   "metadata": {},
   "outputs": [
    {
     "data": {
      "text/plain": [
       "0.998269524998681"
      ]
     },
     "execution_count": 7,
     "metadata": {},
     "output_type": "execute_result"
    }
   ],
   "source": [
    "ratio = 1 - (data[\"Class\"].value_counts()[1] / data[\"Class\"].value_counts()[0])\n",
    "ratio"
   ]
  },
  {
   "cell_type": "markdown",
   "id": "1db0375a",
   "metadata": {},
   "source": [
    "We will remove around 99% of the instances with zero labels to balance the class distribution."
   ]
  },
  {
   "cell_type": "code",
   "execution_count": 8,
   "id": "c2f9da1e",
   "metadata": {},
   "outputs": [],
   "source": [
    "data = data.drop(data.loc[data[\"Class\"]==0].sample(frac=0.995).index)"
   ]
  },
  {
   "cell_type": "code",
   "execution_count": 9,
   "id": "a64cd799",
   "metadata": {},
   "outputs": [
    {
     "data": {
      "text/plain": [
       "0    1422\n",
       "1     492\n",
       "Name: Class, dtype: int64"
      ]
     },
     "execution_count": 9,
     "metadata": {},
     "output_type": "execute_result"
    }
   ],
   "source": [
    "data[\"Class\"].value_counts()"
   ]
  },
  {
   "cell_type": "code",
   "execution_count": 10,
   "id": "7daacd2c",
   "metadata": {},
   "outputs": [
    {
     "data": {
      "text/plain": [
       "(1914, 31)"
      ]
     },
     "execution_count": 10,
     "metadata": {},
     "output_type": "execute_result"
    }
   ],
   "source": [
    "data.shape"
   ]
  },
  {
   "cell_type": "code",
   "execution_count": 11,
   "id": "7e24c84d",
   "metadata": {},
   "outputs": [],
   "source": [
    "target_name = \"Class\"\n",
    "target = data[target_name]\n",
    "\n",
    "data = data.drop(columns=[target_name])"
   ]
  },
  {
   "cell_type": "markdown",
   "id": "41e6539a",
   "metadata": {},
   "source": [
    "## Feature Selection"
   ]
  },
  {
   "cell_type": "code",
   "execution_count": 12,
   "id": "a52170a8",
   "metadata": {},
   "outputs": [
    {
     "data": {
      "image/png": "[encoded data removed]",
      "text/plain": [
       "<Figure size 864x864 with 30 Axes>"
      ]
     },
     "metadata": {
      "needs_background": "light"
     },
     "output_type": "display_data"
    }
   ],
   "source": [
    "# Histogram view for the numerical features\n",
    "data.hist(bins=10, figsize=(12, 12), xrot=-45)\n",
    "plt.show()"
   ]
  },
  {
   "cell_type": "markdown",
   "id": "eed3ea0c",
   "metadata": {},
   "source": [
    "We can see from the above graph that most of the features have outliners and are not Gaussian. Therefore, we will select a subset of the features that are promising and continue the analysis."
   ]
  },
  {
   "cell_type": "code",
   "execution_count": 13,
   "id": "364c361b",
   "metadata": {},
   "outputs": [
    {
     "data": {
      "text/plain": [
       "(1914, 17)"
      ]
     },
     "execution_count": 13,
     "metadata": {},
     "output_type": "execute_result"
    }
   ],
   "source": [
    "features = [\n",
    "    \"Time\", \"Amount\", \"V3\", \"V4\", \"V6\", \"V9\", \n",
    "    \"V10\", \"V11\", \"V13\", \"V15\", \"V16\", \"V17\", \n",
    "    \"V18\", \"V19\", \"V24\", \"V25\", \"V26\",\n",
    "]\n",
    "\n",
    "data = data[features]\n",
    "data.shape"
   ]
  },
  {
   "cell_type": "markdown",
   "id": "ed906e4f",
   "metadata": {},
   "source": [
    "## Preprocessing"
   ]
  },
  {
   "cell_type": "markdown",
   "id": "1a3903c9",
   "metadata": {},
   "source": [
    "This time we will use a **validation curve** to determine the optimal hyperparameter of the classifier. Therefore, we will split the data into three sets: Training, Validation, and Test. Training and validation sets will be used for hyperparameter tuning, while the final results will be derived over the test set."
   ]
  },
  {
   "cell_type": "code",
   "execution_count": 14,
   "id": "3a60228c",
   "metadata": {},
   "outputs": [
    {
     "name": "stdout",
     "output_type": "stream",
     "text": [
      "Training size: 1071\n",
      "Validation size: 460\n",
      "Test size: 383\n",
      "Class distribution for training set: [795 276]\n",
      "Class distribution for validation set: [342 118]\n",
      "Class distribution for test set: [285  98]\n"
     ]
    }
   ],
   "source": [
    "# First, split data into training and test sets\n",
    "\n",
    "X = data.values\n",
    "y = target.values\n",
    "\n",
    "# Split the data into training and test sets\n",
    "from sklearn.model_selection import train_test_split\n",
    "\n",
    "X_pre, X_test, y_pre, y_test = train_test_split(X, y, test_size=0.20, stratify=y, random_state=42)\n",
    "X_train, X_val, y_train, y_val = train_test_split(X_pre, y_pre, test_size=0.30, stratify=y_pre,random_state=42)\n",
    "\n",
    "print(\"Training size:\", X_train.shape[0])\n",
    "print(\"Validation size:\", X_val.shape[0])\n",
    "print(\"Test size:\", X_test.shape[0])\n",
    "\n",
    "print(\"Class distribution for training set:\", np.bincount(y_train))\n",
    "print(\"Class distribution for validation set:\", np.bincount(y_val))\n",
    "print(\"Class distribution for test set:\", np.bincount(y_test))"
   ]
  },
  {
   "cell_type": "code",
   "execution_count": 15,
   "id": "8c280cad",
   "metadata": {},
   "outputs": [],
   "source": [
    "from sklearn.preprocessing import StandardScaler\n",
    "scaler = StandardScaler()  \n",
    "scaler.fit(X_train)  \n",
    "X_train_scaled = scaler.transform(X_train)\n",
    "X_val_scaled = scaler.transform(X_val)\n",
    "X_test_scaled = scaler.transform(X_test)"
   ]
  },
  {
   "cell_type": "markdown",
   "id": "0cf8ffa8",
   "metadata": {},
   "source": [
    "# Logistic Regression"
   ]
  },
  {
   "cell_type": "markdown",
   "id": "d7f4eb77",
   "metadata": {},
   "source": [
    "We will use an existing library for Logistic Regression: **SGD Classifier**. It is an incrementally trained logistic regression with the log-loss function. The hyperparameter that we will tune is the regularization constant that determines the regularization strength. The higher this value, the stronger the regularization is. We will define its optimal parameter using the training and validation set. Then we will train the model using this setting and make predictions over the test set."
   ]
  },
  {
   "cell_type": "code",
   "execution_count": 16,
   "id": "dc688e11",
   "metadata": {},
   "outputs": [],
   "source": [
    "from sklearn.linear_model import SGDClassifier"
   ]
  },
  {
   "cell_type": "code",
   "execution_count": 17,
   "id": "c0b0713b",
   "metadata": {},
   "outputs": [
    {
     "data": {
      "image/png": "[encoded data removed]",
      "text/plain": [
       "<Figure size 576x432 with 1 Axes>"
      ]
     },
     "metadata": {
      "needs_background": "light"
     },
     "output_type": "display_data"
    }
   ],
   "source": [
    "regu_list = np.arange(10, 100) * 1e-5\n",
    "\n",
    "training_acc = list()\n",
    "validation_acc = list()\n",
    "\n",
    "for constant in regu_list:\n",
    "    \n",
    "    # Define a model\n",
    "    logi = SGDClassifier(\n",
    "        alpha=constant,\n",
    "        max_iter=100,\n",
    "        random_state=42,\n",
    "    )\n",
    "    \n",
    "    # Train the model\n",
    "    logi.fit(X_train_scaled, y_train)\n",
    "    \n",
    "    # Make predictions\n",
    "    train_pred = logi.predict(X_train_scaled)\n",
    "    val_pred = logi.predict(X_val_scaled)\n",
    "\n",
    "    # Calculate the accuracy\n",
    "    acc_train = np.sum(y_train==train_pred) / y_train.shape[0]\n",
    "    acc_val = np.sum(y_val==val_pred) / y_val.shape[0]\n",
    "    \n",
    "    training_acc.append(acc_train)\n",
    "    validation_acc.append(acc_val)\n",
    "    \n",
    "# Visualize the results\n",
    "plt.figure(figsize=(8, 6))\n",
    "plt.plot(regu_list, training_acc, color=\"orange\", label=\"Training Accuracy\")\n",
    "plt.plot(regu_list, validation_acc, color=\"green\", label=\"Validation Accuracy\")\n",
    "plt.title(\"Regularization Strength vs. Accuracy Score\")\n",
    "plt.legend()\n",
    "plt.xlabel(\"Regularization Strength\")\n",
    "plt.ylabel(\"Accuracy\")\n",
    "plt.show()"
   ]
  },
  {
   "cell_type": "markdown",
   "id": "68c8743b",
   "metadata": {},
   "source": [
    "Note that as we increase the regularization strength, the accuracy of the validation set increases. This is because we tell the model to generalize the dataset rather than only minimizing the training error. However, after peaking at around 2e-4, the validation accuracy is not constantly improved. Therefore, we will set alpha=2e-4."
   ]
  },
  {
   "cell_type": "code",
   "execution_count": 18,
   "id": "08c0d00c",
   "metadata": {},
   "outputs": [
    {
     "name": "stdout",
     "output_type": "stream",
     "text": [
      "Test Accuracy: 0.956\n"
     ]
    }
   ],
   "source": [
    "# Define a model\n",
    "logi = SGDClassifier(\n",
    "    alpha=2e-4, \n",
    "    max_iter=100, \n",
    "    random_state=42,\n",
    ")\n",
    "\n",
    "logi.fit(X_train_scaled, y_train)\n",
    "\n",
    "# Make predictions\n",
    "test_pred = logi.predict(X_test_scaled)\n",
    "\n",
    "# Calculate the accuracy\n",
    "acc_test = np.sum(y_test==test_pred) / y_test.shape[0]\n",
    "\n",
    "print(f\"Test Accuracy: {acc_test:.3f}\")"
   ]
  },
  {
   "cell_type": "markdown",
   "id": "a4a66d89",
   "metadata": {},
   "source": [
    "Let us now analyze the classification results"
   ]
  },
  {
   "cell_type": "code",
   "execution_count": 19,
   "id": "fee1422f",
   "metadata": {},
   "outputs": [],
   "source": [
    "# Import the necessary libraries to analyze classification results\n",
    "from sklearn.metrics import classification_report, accuracy_score, recall_score, precision_score, f1_score\n",
    "from sklearn.metrics import confusion_matrix, ConfusionMatrixDisplay"
   ]
  },
  {
   "cell_type": "code",
   "execution_count": 20,
   "id": "a43c778f",
   "metadata": {},
   "outputs": [
    {
     "name": "stdout",
     "output_type": "stream",
     "text": [
      "              precision    recall  f1-score   support\n",
      "\n",
      "           0       0.94      1.00      0.97       285\n",
      "           1       1.00      0.83      0.91        98\n",
      "\n",
      "    accuracy                           0.96       383\n",
      "   macro avg       0.97      0.91      0.94       383\n",
      "weighted avg       0.96      0.96      0.95       383\n",
      "\n"
     ]
    }
   ],
   "source": [
    "# Observe the classificaiton results\n",
    "print(classification_report(y_test, logi.predict(X_test_scaled)))"
   ]
  },
  {
   "cell_type": "code",
   "execution_count": 21,
   "id": "bca2ca33",
   "metadata": {},
   "outputs": [
    {
     "data": {
      "image/png": "[encoded data removed]",
      "text/plain": [
       "<Figure size 432x288 with 2 Axes>"
      ]
     },
     "metadata": {
      "needs_background": "light"
     },
     "output_type": "display_data"
    }
   ],
   "source": [
    "# Confusion Matrix\n",
    "transaction = [\"normal\", \"fraud\"]\n",
    "cm = confusion_matrix(y_test, logi.predict(X_test_scaled), labels=[0, 1])\n",
    "disp = ConfusionMatrixDisplay(confusion_matrix=cm, display_labels=transaction)\n",
    "disp.plot()\n",
    "plt.title(\"Logistic Regression: SGD Classifier\")\n",
    "plt.show()"
   ]
  },
  {
   "cell_type": "markdown",
   "id": "45849504",
   "metadata": {},
   "source": [
    "**Discussion:** As expected, the classifier prioritised the majority class (zeros) while training. We can see that the classifier made 0 misclassifications for the majority class (normal transaction) while it made 17 misclassifications for the minority class (fraud). However, the overall accuracy and the other evaluation metrics suggests that we succesfully detected the credit card transactions (whether they are fraud or normal) over a sample dataset."
   ]
  },
  {
   "cell_type": "markdown",
   "id": "7cbad45f",
   "metadata": {},
   "source": [
    "# END"
   ]
  }
 ],
 "metadata": {
  "kernelspec": {
   "display_name": "Python 3 (ipykernel)",
   "language": "python",
   "name": "python3"
  },
  "language_info": {
   "codemirror_mode": {
    "name": "ipython",
    "version": 3
   },
   "file_extension": ".py",
   "mimetype": "text/x-python",
   "name": "python",
   "nbconvert_exporter": "python",
   "pygments_lexer": "ipython3",
   "version": "3.7.13"
  }
 },
 "nbformat": 4,
 "nbformat_minor": 5
}
